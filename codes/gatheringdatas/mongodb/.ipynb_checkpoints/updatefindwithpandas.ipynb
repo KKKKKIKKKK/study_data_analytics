{
 "cells": [
  {
   "cell_type": "code",
   "execution_count": 34,
   "id": "7a69e5ea-7dc7-433a-848c-524bd542deff",
   "metadata": {
    "tags": []
   },
   "outputs": [],
   "source": [
    "import pymongo as mg\n",
    "import pandas as pd"
   ]
  },
  {
   "cell_type": "code",
   "execution_count": 35,
   "id": "2e5a2e15-868f-4a64-892c-8fdd3418e552",
   "metadata": {
    "tags": []
   },
   "outputs": [],
   "source": [
    "client = mg.MongoClient(host='mongodb://localhost:27017')"
   ]
  },
  {
   "cell_type": "code",
   "execution_count": 36,
   "id": "98f57710-a7f0-4314-931e-ee1d37d91672",
   "metadata": {
    "tags": []
   },
   "outputs": [],
   "source": [
    "database = client['study_data_analytics']"
   ]
  },
  {
   "cell_type": "code",
   "execution_count": 37,
   "id": "e77a8b7b-57c3-496d-b01a-b94d75a585b4",
   "metadata": {
    "tags": []
   },
   "outputs": [],
   "source": [
    "collection = database['collect_update']"
   ]
  },
  {
   "cell_type": "code",
   "execution_count": 38,
   "id": "28df3ce1-644e-452f-ae34-d93263c378be",
   "metadata": {
    "tags": []
   },
   "outputs": [],
   "source": [
    "cursor_data= collection.find({})"
   ]
  },
  {
   "cell_type": "code",
   "execution_count": 39,
   "id": "121f02a9-7b25-4d21-9f65-3073a626233b",
   "metadata": {
    "tags": []
   },
   "outputs": [
    {
     "data": {
      "text/html": [
       "<div>\n",
       "<style scoped>\n",
       "    .dataframe tbody tr th:only-of-type {\n",
       "        vertical-align: middle;\n",
       "    }\n",
       "\n",
       "    .dataframe tbody tr th {\n",
       "        vertical-align: top;\n",
       "    }\n",
       "\n",
       "    .dataframe thead th {\n",
       "        text-align: right;\n",
       "    }\n",
       "</style>\n",
       "<table border=\"1\" class=\"dataframe\">\n",
       "  <thead>\n",
       "    <tr style=\"text-align: right;\">\n",
       "      <th></th>\n",
       "      <th>_id</th>\n",
       "      <th>name</th>\n",
       "      <th>age</th>\n",
       "      <th>city</th>\n",
       "    </tr>\n",
       "  </thead>\n",
       "  <tbody>\n",
       "    <tr>\n",
       "      <th>0</th>\n",
       "      <td>65012a719e5edbabc3408d89</td>\n",
       "      <td>Alice</td>\n",
       "      <td>26</td>\n",
       "      <td>Seoul</td>\n",
       "    </tr>\n",
       "    <tr>\n",
       "      <th>1</th>\n",
       "      <td>65012a719e5edbabc3408d8a</td>\n",
       "      <td>Bob</td>\n",
       "      <td>30</td>\n",
       "      <td>Busan</td>\n",
       "    </tr>\n",
       "  </tbody>\n",
       "</table>\n",
       "</div>"
      ],
      "text/plain": [
       "                        _id   name  age   city\n",
       "0  65012a719e5edbabc3408d89  Alice   26  Seoul\n",
       "1  65012a719e5edbabc3408d8a    Bob   30  Busan"
      ]
     },
     "execution_count": 39,
     "metadata": {},
     "output_type": "execute_result"
    }
   ],
   "source": [
    "df_collect_update = pd.DataFrame(list(cursor_data))\n",
    "df_collect_update[:2]"
   ]
  },
  {
   "cell_type": "code",
   "execution_count": 40,
   "id": "f5f0850e",
   "metadata": {},
   "outputs": [
    {
     "data": {
      "text/html": [
       "<div>\n",
       "<style scoped>\n",
       "    .dataframe tbody tr th:only-of-type {\n",
       "        vertical-align: middle;\n",
       "    }\n",
       "\n",
       "    .dataframe tbody tr th {\n",
       "        vertical-align: top;\n",
       "    }\n",
       "\n",
       "    .dataframe thead th {\n",
       "        text-align: right;\n",
       "    }\n",
       "</style>\n",
       "<table border=\"1\" class=\"dataframe\">\n",
       "  <thead>\n",
       "    <tr style=\"text-align: right;\">\n",
       "      <th></th>\n",
       "      <th>_id</th>\n",
       "      <th>name</th>\n",
       "      <th>age</th>\n",
       "      <th>city</th>\n",
       "      <th>update</th>\n",
       "    </tr>\n",
       "  </thead>\n",
       "  <tbody>\n",
       "    <tr>\n",
       "      <th>0</th>\n",
       "      <td>65012a719e5edbabc3408d89</td>\n",
       "      <td>Alice</td>\n",
       "      <td>26</td>\n",
       "      <td>Seoul</td>\n",
       "      <td>2023-09-13 13:13:03.290649</td>\n",
       "    </tr>\n",
       "    <tr>\n",
       "      <th>1</th>\n",
       "      <td>65012a719e5edbabc3408d8a</td>\n",
       "      <td>Bob</td>\n",
       "      <td>30</td>\n",
       "      <td>Busan</td>\n",
       "      <td>2023-09-13 13:13:03.290649</td>\n",
       "    </tr>\n",
       "  </tbody>\n",
       "</table>\n",
       "</div>"
      ],
      "text/plain": [
       "                        _id   name  age   city                     update\n",
       "0  65012a719e5edbabc3408d89  Alice   26  Seoul 2023-09-13 13:13:03.290649\n",
       "1  65012a719e5edbabc3408d8a    Bob   30  Busan 2023-09-13 13:13:03.290649"
      ]
     },
     "execution_count": 40,
     "metadata": {},
     "output_type": "execute_result"
    }
   ],
   "source": [
    "from datetime import datetime\n",
    "df_collect_update['update'] = datetime.now()\n",
    "df_collect_update[:2]"
   ]
  },
  {
   "cell_type": "code",
   "execution_count": 41,
   "id": "67d084b6",
   "metadata": {},
   "outputs": [],
   "source": [
    "collection_new = database['collect_update_new']\n",
    "dict_collect_update =  df_collect_update.to_dict(orient='records') #dictionary로 만들기. \n",
    "result = collection_new.insert_many(dict_collect_update)"
   ]
  },
  {
   "cell_type": "code",
   "execution_count": 43,
   "id": "b91eeb0c",
   "metadata": {},
   "outputs": [
    {
     "data": {
      "text/plain": [
       "[ObjectId('65012a719e5edbabc3408d89'),\n",
       " ObjectId('65012a719e5edbabc3408d8a'),\n",
       " ObjectId('65012a719e5edbabc3408d8b'),\n",
       " ObjectId('65012ac1a19dfdced3b64cab'),\n",
       " ObjectId('65012ac1a19dfdced3b64cac'),\n",
       " ObjectId('65012ac1a19dfdced3b64cad'),\n",
       " ObjectId('650130981742c9385ccc26ed'),\n",
       " ObjectId('650130981742c9385ccc26ee'),\n",
       " ObjectId('650130981742c9385ccc26ef')]"
      ]
     },
     "execution_count": 43,
     "metadata": {},
     "output_type": "execute_result"
    }
   ],
   "source": [
    "result.inserted_ids"
   ]
  },
  {
   "cell_type": "markdown",
   "id": "c4479f0e",
   "metadata": {},
   "source": []
  }
 ],
 "metadata": {
  "kernelspec": {
   "display_name": "Python 3 (ipykernel)",
   "language": "python",
   "name": "python3"
  },
  "language_info": {
   "codemirror_mode": {
    "name": "ipython",
    "version": 3
   },
   "file_extension": ".py",
   "mimetype": "text/x-python",
   "name": "python",
   "nbconvert_exporter": "python",
   "pygments_lexer": "ipython3",
   "version": "3.11.3"
  }
 },
 "nbformat": 4,
 "nbformat_minor": 5
}
