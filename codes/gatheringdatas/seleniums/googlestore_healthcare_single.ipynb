{
 "cells": [
  {
   "cell_type": "markdown",
   "id": "9a86487b-4b84-42b2-a6b6-c71e632c3207",
   "metadata": {
    "tags": []
   },
   "source": [
    "#### 2023-09-07(수)구글스토어 퀘스트"
   ]
  },
  {
   "cell_type": "code",
   "execution_count": 57,
   "id": "ec4595d9-7e65-40b8-816e-a79d04113d5a",
   "metadata": {
    "tags": []
   },
   "outputs": [],
   "source": [
    "from selenium import webdriver"
   ]
  },
  {
   "cell_type": "code",
   "execution_count": 58,
   "id": "09cc03ed-8fa1-4795-ae9a-59ebcd3e0184",
   "metadata": {
    "tags": []
   },
   "outputs": [],
   "source": [
    "# open Chrome browser.executable_path = 브라우저 여는 법 \n",
    "browser = webdriver.Chrome(executable_path='../../../../chromedriver.exe')"
   ]
  },
  {
   "cell_type": "code",
   "execution_count": 59,
   "id": "cc1fb5ee-ec7b-498a-a960-80197c5993ea",
   "metadata": {
    "tags": []
   },
   "outputs": [],
   "source": [
    "#'https://www.w3schools.com/' 윈도우 창에 특정 주소 연결 \n",
    "# url in address window\n",
    "# enter 치면 새창 생성./#html css가 local로 가져옴 \n",
    "browser.get('https://play.google.com/store/search?q=%ED%97%AC%EC%8A%A4%EC%BC%80%EC%96%B4%EC%95%B1&c=apps&hl=ko-KR')"
   ]
  },
  {
   "cell_type": "code",
   "execution_count": 60,
   "id": "4e6118c6-8052-430c-9a56-6c0eeb9e137d",
   "metadata": {
    "tags": []
   },
   "outputs": [],
   "source": [
    "browser.implicitly_wait(10)"
   ]
  },
  {
   "cell_type": "markdown",
   "id": "dbab976b-7e9e-40f6-9cdf-b75b4a69140d",
   "metadata": {},
   "source": [
    " ### 제품클릭 이미지 사진 \n",
    "- section > div > div > div > div:nth-child(2) > div > div > div"
   ]
  },
  {
   "cell_type": "code",
   "execution_count": 61,
   "id": "b5ac7223-2a46-4974-9c9a-7e5ab7a2e135",
   "metadata": {
    "tags": []
   },
   "outputs": [],
   "source": [
    "click_path = 'section > div > div > div > div:nth-child(2) > div > div > div'\n",
    "browser.find_element_by_css_selector(click_path).click() # click_path 변수꼭 담아주기"
   ]
  },
  {
   "cell_type": "markdown",
   "id": "d456303a-fc33-43b2-b2f9-f1d6f877058c",
   "metadata": {
    "tags": []
   },
   "source": [
    "###  제품정보\n",
    "- 서비스명 :NH 헬스케어 \n",
    "    -  div > h1 > span  \n",
    "- 만든회사명 tag \n",
    "    - div.Il7kR > div > div > div > a > span\n",
    "- 앱정보 tag \n",
    "    - div:nth-child(1) > c-wiz:nth-child(2) > div > section > div > div.bARER"
   ]
  },
  {
   "cell_type": "code",
   "execution_count": 63,
   "id": "bb5c9108-3bc0-4f47-b3fb-33c42abb70ed",
   "metadata": {
    "tags": []
   },
   "outputs": [
    {
     "data": {
      "text/plain": [
       "['NH헬스케어',\n",
       " 'NH농협생명',\n",
       " '한국인의 건강관리 NH 헬스케어!\\n\\n지인들과 재밌고 건강하게 즐기는 NH헬스케어만의 새로운 걷기 방법 – 걷기 배틀\\n걷기 목표 달성시 지급되는 포인트로 완성하는 온라인 텃밭 – 랜선 텃밭 가꾸기\\n\\n즐겁고 과학적인 당신만을 위한 건강 솔루션 NH 헬스케어!\\n업데이트 날짜\\n2023. 7. 21.\\n건강/운동']"
      ]
     },
     "execution_count": 63,
     "metadata": {},
     "output_type": "execute_result"
    }
   ],
   "source": [
    "service_name = browser.find_element_by_css_selector('div > h1 > span').text\n",
    "company_name = browser.find_element_by_css_selector('div.Il7kR > div > div > div > a > span').text\n",
    "app_information = browser.find_element_by_css_selector('div:nth-child(1) > c-wiz:nth-child(2) > div > section > div').text\n",
    "\n",
    "[service_name, company_name, app_information]"
   ]
  },
  {
   "cell_type": "code",
   "execution_count": 27,
   "id": "e7ac1e82-7399-489a-87e4-fa1c6a8e0816",
   "metadata": {
    "tags": []
   },
   "outputs": [
    {
     "data": {
      "text/plain": [
       "'리뷰 473개'"
      ]
     },
     "execution_count": 27,
     "metadata": {},
     "output_type": "execute_result"
    }
   ],
   "source": [
    "### 리뷰 총 갯수 가져오기['리뷰 473개']\n",
    "## 리뷰 총 갯수 tag : div:nth-child(1) > div.g1rdde\n",
    "review_total_count_text = browser.find_element_by_css_selector('div:nth-child(1) > div.g1rdde').text\n",
    "review_total_count_text"
   ]
  },
  {
   "cell_type": "code",
   "execution_count": 64,
   "id": "9db8d48e-3fcf-4441-a221-f916d3bc2038",
   "metadata": {
    "tags": []
   },
   "outputs": [
    {
     "name": "stdout",
     "output_type": "stream",
     "text": [
      "473 473\n"
     ]
    },
    {
     "data": {
      "text/plain": [
       "(473, int)"
      ]
     },
     "execution_count": 64,
     "metadata": {},
     "output_type": "execute_result"
    }
   ],
   "source": [
    "#'리뷰 473개 123-345-678' 숫자가 아닌 것들을 쪼개서 구분자로 출력해줌 \n",
    "import re #regularexpression \n",
    "result_list = re.findall(r'\\d+', review_total_count_text) #규칙?r(이진수의 값을 적용하라는 말) /string \n",
    "print(result_list[0] ,int(result_list[0]))\n",
    "\n",
    "review_total_count = int(result_list[0]) # 리뷰 총 갯수가 (int)로 변환돼서 나옴. \n",
    "review_total_count, type(review_total_count)"
   ]
  },
  {
   "cell_type": "markdown",
   "id": "bd7b1c32-237b-46c4-9c26-370769ba56e6",
   "metadata": {},
   "source": [
    "### 리뷰 모두보기 \n",
    "- click tag : div:nth-child(5) > div > div > button > span"
   ]
  },
  {
   "cell_type": "code",
   "execution_count": 65,
   "id": "1da172e7-570d-4d98-89d5-27907972c9fd",
   "metadata": {
    "tags": []
   },
   "outputs": [],
   "source": [
    "import time\n",
    "time.sleep(2)"
   ]
  },
  {
   "cell_type": "code",
   "execution_count": 66,
   "id": "3d8d4417-06f3-47b4-92b1-c3e6ca8e632b",
   "metadata": {
    "tags": []
   },
   "outputs": [],
   "source": [
    "browser.find_element_by_xpath('//*/div/div/button/*[contains(text(), \"리뷰\")]').click()"
   ]
  },
  {
   "cell_type": "markdown",
   "id": "700f359f-0c67-454e-bc83-618ac22a9fc6",
   "metadata": {},
   "source": [
    "### 리뷰 내용 가져오기(묶음을 기준)  \n",
    "- 리뷰 묶음 tag : div.fysCi > div > div:nth-child(2) > div\n",
    "- 내용 tag : div.h3YV2d\n",
    "- 날짜 tag : header > div.Jx4nYe > span\n",
    "- 별첨 tag : header > div.Jx4nYe > div"
   ]
  },
  {
   "cell_type": "code",
   "execution_count": 67,
   "id": "20355f3f-4256-4636-92e2-e528e18eeada",
   "metadata": {
    "tags": []
   },
   "outputs": [],
   "source": [
    "#len에 맞게 클릭\n",
    "#reviews_bundle = browser.find_elements_by_css_selector('div.fysCi > div > div:nth-child(2) > div')\n",
    "#len(reviews_bundle)"
   ]
  },
  {
   "cell_type": "code",
   "execution_count": 68,
   "id": "43a10d79-653d-4d3a-bc59-4d480e27b76e",
   "metadata": {
    "tags": []
   },
   "outputs": [],
   "source": [
    "# [''] text 속성[aria-label]을 getattribut로 가져와야함. 속성 aria-label\n",
    "#content = reviews_bundle[0].find_element_by_css_selector('div.h3YV2d').text\n",
    "#date = reviews_bundle[0].find_element_by_css_selector('header > div.Jx4nYe > span').text\n",
    "#stars = reviews_bundle[0].find_element_by_css_selector('header > div.Jx4nYe > div').get_attribute('aria-label')"
   ]
  },
  {
   "cell_type": "code",
   "execution_count": 69,
   "id": "da5c625c-39c8-4029-82f8-18fc2455389b",
   "metadata": {
    "tags": []
   },
   "outputs": [],
   "source": [
    "#[content, date, stars]"
   ]
  },
  {
   "cell_type": "markdown",
   "id": "ade445cd-2089-49ba-8b45-ce853c8ac01a",
   "metadata": {},
   "source": [
    "### 2023-09-07(목) [추가 댓글 가져오기] = 연습1 \n",
    "- 마지막 내용(40)을 클릭(click)하는 방법 = 복수 \n",
    "- 마지막 화면(40)까지 스크롤링 하는 방법 = 복수 "
   ]
  },
  {
   "cell_type": "code",
   "execution_count": 70,
   "id": "8c779115-4a88-4127-9f96-c8b2f1ab8845",
   "metadata": {
    "tags": []
   },
   "outputs": [],
   "source": [
    "# reviews_bundle[39].click()"
   ]
  },
  {
   "cell_type": "code",
   "execution_count": 71,
   "id": "fa9fdea0-d73c-45bd-b81c-e0b203351281",
   "metadata": {
    "tags": []
   },
   "outputs": [],
   "source": [
    "# 40개 측정하는 것 끌고오면 총 80개로 추가됨 \n",
    "# reviews_bundle = browser.find_elements_by_css_selector('div.fysCi > div > div:nth-child(2) > div')\n",
    "# len(reviews_bundle)"
   ]
  },
  {
   "cell_type": "code",
   "execution_count": 72,
   "id": "d63c86a2-4c4a-48bf-b348-b0dec4aa435e",
   "metadata": {
    "tags": []
   },
   "outputs": [],
   "source": [
    "#지금까지 80개 담겨있음  앞에 39개까지는 담겨있어서 40개부터 스크래핑 하면 됨 \n",
    "# reviews_bundle[40:]"
   ]
  },
  {
   "cell_type": "markdown",
   "id": "da76106d-379a-4113-b84b-19a826e7018a",
   "metadata": {
    "tags": []
   },
   "source": [
    "### 클릭 갯수 \n",
    "- 하나의  page에서 보이는 갯수가 40개 "
   ]
  },
  {
   "cell_type": "code",
   "execution_count": 73,
   "id": "12b6aa98-e3ed-4004-a62f-c2a98a988d9a",
   "metadata": {
    "tags": []
   },
   "outputs": [
    {
     "data": {
      "text/plain": [
       "(0.5, 0.975, 1.0, 1.125, 2.0, 2.225, 2.9, 3.025, 11.825)"
      ]
     },
     "execution_count": 73,
     "metadata": {},
     "output_type": "execute_result"
    }
   ],
   "source": [
    "# 기준 1일때 클릭할 필요 없다. 2부터 클릭. \n",
    "# 475/40 = 11번 클릭해야함 .\n",
    "# review_total_count(총 기준) / review_standard_count_per = 하나의 카운트에서 보여짐. \n",
    "20 / 40, 39 / 40, 40 / 40, 45 / 40, 80 / 40, 89 / 40, 116 / 40, 121 / 40, 473 / 40"
   ]
  },
  {
   "cell_type": "markdown",
   "id": "1d30ec7b-c0aa-4d06-afef-294187507a3b",
   "metadata": {},
   "source": [
    "### 추가 댓글 모두가져오기 \n",
    "- looping 돌려서 가져오기 "
   ]
  },
  {
   "cell_type": "code",
   "execution_count": 74,
   "id": "d8126d57-8622-4089-8bd8-6ed0eb14a011",
   "metadata": {
    "tags": []
   },
   "outputs": [
    {
     "data": {
      "text/plain": [
       "([1], [1, 2, 3])"
      ]
     },
     "execution_count": 74,
     "metadata": {},
     "output_type": "execute_result"
    }
   ],
   "source": [
    "list(range(1, 2)), list(range(1, 4)) # 시작점+1  돌릴 횟수 추가 "
   ]
  },
  {
   "cell_type": "code",
   "execution_count": 75,
   "id": "5044cf73-ec60-4895-9e1d-67e8c557d371",
   "metadata": {
    "tags": []
   },
   "outputs": [
    {
     "name": "stdout",
     "output_type": "stream",
     "text": [
      "current reviews_bundle count : 40\n",
      "current reviews_bundle count : 80\n",
      "current reviews_bundle count : 120\n",
      "current reviews_bundle count : 160\n",
      "current reviews_bundle count : 200\n",
      "current reviews_bundle count : 240\n",
      "current reviews_bundle count : 248\n",
      "current reviews_bundle count : 248\n",
      "current reviews_bundle count : 248\n",
      "current reviews_bundle count : 248\n",
      "current reviews_bundle count : 248\n",
      "Done 248\n"
     ]
    }
   ],
   "source": [
    "review_total_count = 473  # 리뷰 총 갯수\n",
    "review_standard_count_per = 40\n",
    "click_count = 0\n",
    "\n",
    "loop_count_int = int(review_total_count / review_standard_count_per)\n",
    "for count in range(1, loop_count_int+1) :\n",
    "    try :\n",
    "        reviews_bundle = browser.find_elements_by_css_selector('div.fysCi > div > div:nth-child(2) > div')\n",
    "        print('current reviews_bundle count : {}'.format(len(reviews_bundle)))\n",
    "        reviews_bundle[len(reviews_bundle)-1].click()\n",
    "        time.sleep(3)\n",
    "    except :\n",
    "        print('pass')\n",
    "        pass\n",
    "print('Done', len(reviews_bundle))"
   ]
  },
  {
   "cell_type": "code",
   "execution_count": 76,
   "id": "c2ce3821-d221-49c0-93de-95d7c17152b4",
   "metadata": {
    "tags": []
   },
   "outputs": [
    {
     "name": "stdout",
     "output_type": "stream",
     "text": [
      "current reviews_bundle count : 248\n"
     ]
    }
   ],
   "source": [
    "# 40개 측정하는 것 끌고오면 총 80개로 추가됨 \n",
    "reviews_bundle = browser.find_elements_by_css_selector('div.fysCi > div > div:nth-child(2) > div')\n",
    "print('current reviews_bundle count : {}'.format(len(reviews_bundle)))\n",
    "reviews_bundle[len(reviews_bundle)-1].click()"
   ]
  },
  {
   "cell_type": "code",
   "execution_count": null,
   "id": "3cba7ae3-579f-474d-8546-b018b8223974",
   "metadata": {},
   "outputs": [],
   "source": []
  },
  {
   "cell_type": "code",
   "execution_count": null,
   "id": "b78e9ead-045d-4154-9404-b40a716c9221",
   "metadata": {},
   "outputs": [],
   "source": []
  },
  {
   "cell_type": "code",
   "execution_count": null,
   "id": "ef9750b5-84a5-4dbb-ae35-143a9a55e026",
   "metadata": {},
   "outputs": [],
   "source": []
  },
  {
   "cell_type": "code",
   "execution_count": null,
   "id": "96481c72-c763-4870-8dcb-d5591ea8640b",
   "metadata": {},
   "outputs": [],
   "source": []
  },
  {
   "cell_type": "code",
   "execution_count": null,
   "id": "ca6e7acf-664f-4466-b9de-64595de64a31",
   "metadata": {},
   "outputs": [],
   "source": []
  },
  {
   "cell_type": "code",
   "execution_count": null,
   "id": "8a8d3433-2201-4c1f-925f-9de44746600d",
   "metadata": {},
   "outputs": [],
   "source": [
    "### s내가 작성한 것 주석 추가할 예정 "
   ]
  },
  {
   "cell_type": "code",
   "execution_count": null,
   "id": "2d16d2dc-a5bd-4bae-a4ba-2526453b1f1d",
   "metadata": {
    "tags": []
   },
   "outputs": [],
   "source": [
    "review_total_count = 473  #473개 \n",
    "review_standard_count_per = 40 \n",
    "\n",
    "# 1.125, 2.0, 2.225, 2.9, 3.025, 11.825 클릭 횟수. \n",
    "loop_count_float = review_total_count / review_standard_count_per\n",
    "if (loop_count_float > 1.0) : #1.0보다 크면 안으로들어가게 됨. 의미? 결론적으로 45의 수치부터 진행.\n",
    "    loop_count_int = int(loop_count_float)\n",
    "    for count in range(1, loop_count_int+1) : #해당 갯수만큼 range가 1부터 돌아야함. (loop_count_int+1)\n",
    "        print('count : {}, click_count : {} '.format(count, click_count) ) #갯수읽고 카운트하고 \n",
    "        click_count = count * review_standard_count_per\n",
    "        reviews_bundle[click_count -1].click() #클릭\n",
    "        time.sleep(5) # 클릭 로딩시간 3초 \n",
    "        reviews_bundle = browser.find_elements_by_css_selector('div.fysCi > div > div:nth-child(2) > div')\n",
    "        print('reviews_bundle count : {}'.format(len(reviews_bundle))) #갯수읽고 카운트하고 \n",
    "        pass"
   ]
  },
  {
   "cell_type": "code",
   "execution_count": null,
   "id": "9fc1f3bd-4421-402d-a179-c65279df6741",
   "metadata": {
    "tags": []
   },
   "outputs": [],
   "source": [
    "# 40개 측정하는 것 끌고오면 총 80개로 추가됨 \n",
    "reviews_bundle_list = browser.find_elements_by_css_selector('div.fysCi > div > div:nth-child(2) > div')\n",
    "reviews_bundle_list_count = len(reviews_bundle_list)\n",
    "len(reviews_bundle_list)"
   ]
  },
  {
   "cell_type": "code",
   "execution_count": null,
   "id": "ac2943a9-d9b5-4b50-b5c5-e2a1c734cd2d",
   "metadata": {
    "tags": []
   },
   "outputs": [],
   "source": [
    "# 40개가 동작을 한다는 것은 그만큼 찍어야 한다는 말 \n",
    "reviews_loop_standard_count = 40 #멈추는 조건 40이 reviews_loop_standard(변수)\n",
    "while(reviews_bundle_list_count >= reviews_loop_standard_count):#멈추는 조건 (while 들어가는 여부)reviews_bundle이 40이 아니면 튀어나오기\n",
    "    print(reviews_bundle_list_count >= reviews_loop_standard_count) + 1\n",
    "    pass\n",
    "print('Done')"
   ]
  },
  {
   "cell_type": "code",
   "execution_count": null,
   "id": "d690da81-9b21-4227-8c3a-a8ebfacb70ce",
   "metadata": {},
   "outputs": [],
   "source": []
  }
 ],
 "metadata": {
  "kernelspec": {
   "display_name": "Python 3 (ipykernel)",
   "language": "python",
   "name": "python3"
  },
  "language_info": {
   "codemirror_mode": {
    "name": "ipython",
    "version": 3
   },
   "file_extension": ".py",
   "mimetype": "text/x-python",
   "name": "python",
   "nbconvert_exporter": "python",
   "pygments_lexer": "ipython3",
   "version": "3.11.3"
  }
 },
 "nbformat": 4,
 "nbformat_minor": 5
}
