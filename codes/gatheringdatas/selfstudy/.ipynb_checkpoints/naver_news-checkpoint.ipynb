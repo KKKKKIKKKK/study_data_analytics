{
 "cells": [
  {
   "cell_type": "code",
   "execution_count": 1,
   "id": "d5b6595a-c354-42b2-8e8c-a794d8e103d1",
   "metadata": {
    "tags": []
   },
   "outputs": [],
   "source": [
    "#셀레니움 웹드라이버 설치 \n",
    "from selenium import webdriver\n",
    "from selenium.webdriver.common.by import By\n",
    "import time\n",
    "import pandas as pd  # pandas 라이브러리를 import합니다.\n",
    "import pymongo as mg\n",
    "import os"
   ]
  },
  {
   "cell_type": "code",
   "execution_count": 2,
   "id": "15b804b7-4151-46c4-b4fb-71635131bd9c",
   "metadata": {
    "tags": []
   },
   "outputs": [],
   "source": [
    "# open Chrome browser.executable_path = 브라우저 여는 법 \n",
    "browser = webdriver.Chrome(executable_path='../../../../chromedriver.exe')"
   ]
  },
  {
   "cell_type": "code",
   "execution_count": 3,
   "id": "b430cb0b-5e9f-4c97-8a66-76ef4e928474",
   "metadata": {
    "tags": []
   },
   "outputs": [],
   "source": [
    "browser.implicitly_wait(10)\n",
    "url = 'https://news.naver.com/'\n",
    "browser.get(url)\n",
    "browser.maximize_window() #창 최대화 "
   ]
  },
  {
   "cell_type": "code",
   "execution_count": null,
   "id": "e8490e9f-abfa-471a-9b7b-7e9b0cbd0733",
   "metadata": {},
   "outputs": [],
   "source": []
  }
 ],
 "metadata": {
  "kernelspec": {
   "display_name": "Python 3 (ipykernel)",
   "language": "python",
   "name": "python3"
  },
  "language_info": {
   "codemirror_mode": {
    "name": "ipython",
    "version": 3
   },
   "file_extension": ".py",
   "mimetype": "text/x-python",
   "name": "python",
   "nbconvert_exporter": "python",
   "pygments_lexer": "ipython3",
   "version": "3.11.3"
  }
 },
 "nbformat": 4,
 "nbformat_minor": 5
}
