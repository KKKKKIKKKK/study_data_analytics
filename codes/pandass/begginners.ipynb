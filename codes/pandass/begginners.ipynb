{
 "cells": [
  {
   "cell_type": "code",
   "execution_count": 1,
   "id": "24c4fdeb-2672-4c06-898a-bfc0f6bc9c56",
   "metadata": {
    "tags": []
   },
   "outputs": [],
   "source": [
    "import pandas as pd"
   ]
  },
  {
   "cell_type": "code",
   "execution_count": 2,
   "id": "17414698-9b7f-409f-9a84-7194ab796496",
   "metadata": {
    "tags": []
   },
   "outputs": [
    {
     "name": "stdout",
     "output_type": "stream",
     "text": [
      "1.5.3\n"
     ]
    }
   ],
   "source": [
    "print(pd.__version__)"
   ]
  },
  {
   "cell_type": "markdown",
   "id": "fd26653a-89f8-43fc-8742-2cc0f4ed26b3",
   "metadata": {},
   "source": [
    "### DataFrame 구조\n",
    "- index(row) - column(column) - data"
   ]
  },
  {
   "cell_type": "code",
   "execution_count": 3,
   "id": "16bea76d-a094-4c31-9b13-4a7f4970e44d",
   "metadata": {
    "tags": []
   },
   "outputs": [
    {
     "data": {
      "text/html": [
       "<div>\n",
       "<style scoped>\n",
       "    .dataframe tbody tr th:only-of-type {\n",
       "        vertical-align: middle;\n",
       "    }\n",
       "\n",
       "    .dataframe tbody tr th {\n",
       "        vertical-align: top;\n",
       "    }\n",
       "\n",
       "    .dataframe thead th {\n",
       "        text-align: right;\n",
       "    }\n",
       "</style>\n",
       "<table border=\"1\" class=\"dataframe\">\n",
       "  <thead>\n",
       "    <tr style=\"text-align: right;\">\n",
       "      <th></th>\n",
       "      <th>0</th>\n",
       "    </tr>\n",
       "  </thead>\n",
       "  <tbody>\n",
       "    <tr>\n",
       "      <th>0</th>\n",
       "      <td>10</td>\n",
       "    </tr>\n",
       "    <tr>\n",
       "      <th>1</th>\n",
       "      <td>20</td>\n",
       "    </tr>\n",
       "    <tr>\n",
       "      <th>2</th>\n",
       "      <td>30</td>\n",
       "    </tr>\n",
       "    <tr>\n",
       "      <th>3</th>\n",
       "      <td>40</td>\n",
       "    </tr>\n",
       "    <tr>\n",
       "      <th>4</th>\n",
       "      <td>50</td>\n",
       "    </tr>\n",
       "  </tbody>\n",
       "</table>\n",
       "</div>"
      ],
      "text/plain": [
       "    0\n",
       "0  10\n",
       "1  20\n",
       "2  30\n",
       "3  40\n",
       "4  50"
      ]
     },
     "execution_count": 3,
     "metadata": {},
     "output_type": "execute_result"
    }
   ],
   "source": [
    "num_list = [10, 20, 30, 40, 50]\n",
    "pd.DataFrame(data=num_list)"
   ]
  },
  {
   "cell_type": "code",
   "execution_count": 4,
   "id": "390ecb1b-c775-4aac-8b40-95d8a54ca00c",
   "metadata": {
    "tags": []
   },
   "outputs": [
    {
     "data": {
      "text/html": [
       "<div>\n",
       "<style scoped>\n",
       "    .dataframe tbody tr th:only-of-type {\n",
       "        vertical-align: middle;\n",
       "    }\n",
       "\n",
       "    .dataframe tbody tr th {\n",
       "        vertical-align: top;\n",
       "    }\n",
       "\n",
       "    .dataframe thead th {\n",
       "        text-align: right;\n",
       "    }\n",
       "</style>\n",
       "<table border=\"1\" class=\"dataframe\">\n",
       "  <thead>\n",
       "    <tr style=\"text-align: right;\">\n",
       "      <th></th>\n",
       "      <th>0</th>\n",
       "      <th>1</th>\n",
       "      <th>2</th>\n",
       "      <th>3</th>\n",
       "    </tr>\n",
       "  </thead>\n",
       "  <tbody>\n",
       "    <tr>\n",
       "      <th>0</th>\n",
       "      <td>1000</td>\n",
       "      <td>과자</td>\n",
       "      <td>2019-12-31</td>\n",
       "      <td>반품</td>\n",
       "    </tr>\n",
       "    <tr>\n",
       "      <th>1</th>\n",
       "      <td>2000</td>\n",
       "      <td>음료</td>\n",
       "      <td>2020-03-02</td>\n",
       "      <td>정상</td>\n",
       "    </tr>\n",
       "    <tr>\n",
       "      <th>2</th>\n",
       "      <td>3000</td>\n",
       "      <td>아이스크림</td>\n",
       "      <td>2020-02-03</td>\n",
       "      <td>정상</td>\n",
       "    </tr>\n",
       "    <tr>\n",
       "      <th>3</th>\n",
       "      <td>1000</td>\n",
       "      <td>과자</td>\n",
       "      <td>2019-12-31</td>\n",
       "      <td>반품</td>\n",
       "    </tr>\n",
       "  </tbody>\n",
       "</table>\n",
       "</div>"
      ],
      "text/plain": [
       "      0      1           2   3\n",
       "0  1000     과자  2019-12-31  반품\n",
       "1  2000     음료  2020-03-02  정상\n",
       "2  3000  아이스크림  2020-02-03  정상\n",
       "3  1000     과자  2019-12-31  반품"
      ]
     },
     "execution_count": 4,
     "metadata": {},
     "output_type": "execute_result"
    }
   ],
   "source": [
    "double_list = [\n",
    "            [1000, '과자','2019-12-31','반품'],\n",
    "            [2000, '음료', '2020-03-02', '정상'],\n",
    "            [3000, '아이스크림', '2020-02-03','정상'],\n",
    "            [1000,'과자','2019-12-31','반품']\n",
    "            ]\n",
    "pd.DataFrame(data=double_list)"
   ]
  },
  {
   "cell_type": "code",
   "execution_count": 5,
   "id": "cc49ac03-d881-4b64-bbdb-cd80fc74e1cf",
   "metadata": {
    "tags": []
   },
   "outputs": [
    {
     "data": {
      "text/html": [
       "<div>\n",
       "<style scoped>\n",
       "    .dataframe tbody tr th:only-of-type {\n",
       "        vertical-align: middle;\n",
       "    }\n",
       "\n",
       "    .dataframe tbody tr th {\n",
       "        vertical-align: top;\n",
       "    }\n",
       "\n",
       "    .dataframe thead th {\n",
       "        text-align: right;\n",
       "    }\n",
       "</style>\n",
       "<table border=\"1\" class=\"dataframe\">\n",
       "  <thead>\n",
       "    <tr style=\"text-align: right;\">\n",
       "      <th></th>\n",
       "      <th>가격</th>\n",
       "      <th>종류</th>\n",
       "      <th>판매일자</th>\n",
       "      <th>반품여부</th>\n",
       "    </tr>\n",
       "  </thead>\n",
       "  <tbody>\n",
       "    <tr>\n",
       "      <th>0</th>\n",
       "      <td>1000</td>\n",
       "      <td>과자</td>\n",
       "      <td>2019-12-31</td>\n",
       "      <td>반품</td>\n",
       "    </tr>\n",
       "    <tr>\n",
       "      <th>1</th>\n",
       "      <td>2000</td>\n",
       "      <td>음료</td>\n",
       "      <td>2020-03-02</td>\n",
       "      <td>정상</td>\n",
       "    </tr>\n",
       "    <tr>\n",
       "      <th>2</th>\n",
       "      <td>3000</td>\n",
       "      <td>아이스크림</td>\n",
       "      <td>2020-02-03</td>\n",
       "      <td>정상</td>\n",
       "    </tr>\n",
       "    <tr>\n",
       "      <th>3</th>\n",
       "      <td>1000</td>\n",
       "      <td>과자</td>\n",
       "      <td>2019-12-31</td>\n",
       "      <td>반품</td>\n",
       "    </tr>\n",
       "  </tbody>\n",
       "</table>\n",
       "</div>"
      ],
      "text/plain": [
       "     가격     종류        판매일자 반품여부\n",
       "0  1000     과자  2019-12-31   반품\n",
       "1  2000     음료  2020-03-02   정상\n",
       "2  3000  아이스크림  2020-02-03   정상\n",
       "3  1000     과자  2019-12-31   반품"
      ]
     },
     "execution_count": 5,
     "metadata": {},
     "output_type": "execute_result"
    }
   ],
   "source": [
    "double_colums = ['가격','종류','판매일자','반품여부']\n",
    "df_saledays = pd.DataFrame(data=double_list, columns=double_colums)\n",
    "df_saledays"
   ]
  },
  {
   "cell_type": "code",
   "execution_count": 6,
   "id": "aba492a3-c6a2-414f-9ab0-da0a69304cff",
   "metadata": {
    "tags": []
   },
   "outputs": [
    {
     "data": {
      "text/plain": [
       "pandas.core.frame.DataFrame"
      ]
     },
     "execution_count": 6,
     "metadata": {},
     "output_type": "execute_result"
    }
   ],
   "source": [
    "type(df_saledays) #데이터 타입"
   ]
  },
  {
   "cell_type": "code",
   "execution_count": 7,
   "id": "642c084e-b6e9-45de-9471-8e4c15ec8feb",
   "metadata": {
    "tags": []
   },
   "outputs": [
    {
     "data": {
      "text/plain": [
       "(Index(['가격', '종류', '판매일자', '반품여부'], dtype='object'),\n",
       " pandas.core.indexes.base.Index,\n",
       " ['가격', '종류', '판매일자', '반품여부'])"
      ]
     },
     "execution_count": 7,
     "metadata": {},
     "output_type": "execute_result"
    }
   ],
   "source": [
    "df_saledays.columns, type(df_saledays.columns), list(df_saledays.columns) # colums 정보 # 컬럼 type #컬렁명을 리스트로 반환\n"
   ]
  },
  {
   "cell_type": "code",
   "execution_count": 8,
   "id": "e6369ff5-1977-4151-9281-b074793412de",
   "metadata": {
    "tags": []
   },
   "outputs": [
    {
     "data": {
      "text/plain": [
       "RangeIndex(start=0, stop=4, step=1)"
      ]
     },
     "execution_count": 8,
     "metadata": {},
     "output_type": "execute_result"
    }
   ],
   "source": [
    "df_saledays.index # RangeIndex이면 for문 가능 # index : 행의 식별자 "
   ]
  },
  {
   "cell_type": "code",
   "execution_count": 9,
   "id": "609ed579-0f5d-47b1-a0b9-29b00ac0d7a8",
   "metadata": {
    "tags": []
   },
   "outputs": [
    {
     "data": {
      "text/plain": [
       "RangeIndex(start=0, stop=4, step=1)"
      ]
     },
     "execution_count": 9,
     "metadata": {},
     "output_type": "execute_result"
    }
   ],
   "source": [
    "df_saledays.index"
   ]
  },
  {
   "cell_type": "code",
   "execution_count": 10,
   "id": "2138d4df-bcf9-484b-bdef-1d6b86f2ce29",
   "metadata": {
    "tags": []
   },
   "outputs": [
    {
     "data": {
      "text/plain": [
       "array([[1000, '과자', '2019-12-31', '반품'],\n",
       "       [2000, '음료', '2020-03-02', '정상'],\n",
       "       [3000, '아이스크림', '2020-02-03', '정상'],\n",
       "       [1000, '과자', '2019-12-31', '반품']], dtype=object)"
      ]
     },
     "execution_count": 10,
     "metadata": {},
     "output_type": "execute_result"
    }
   ],
   "source": [
    "df_saledays.values # 값만 출력\n"
   ]
  },
  {
   "cell_type": "code",
   "execution_count": 11,
   "id": "90d78e42-ec9e-4a6c-a18c-ae8994cbffba",
   "metadata": {
    "tags": []
   },
   "outputs": [],
   "source": [
    "df_saledays_dropcal = df_saledays.drop(columns=['종류', '판매일자']) # 컬럼 삭제 \n",
    "# df_saledays.drop(columns=['종류', '판매일자'], inplace=True) #inplace=True 완전히 반영 지정한 df 값이 변화함"
   ]
  },
  {
   "cell_type": "code",
   "execution_count": 12,
   "id": "9548f984-04b2-48ba-864b-a06fed23ebfa",
   "metadata": {
    "tags": []
   },
   "outputs": [
    {
     "data": {
      "text/html": [
       "<div>\n",
       "<style scoped>\n",
       "    .dataframe tbody tr th:only-of-type {\n",
       "        vertical-align: middle;\n",
       "    }\n",
       "\n",
       "    .dataframe tbody tr th {\n",
       "        vertical-align: top;\n",
       "    }\n",
       "\n",
       "    .dataframe thead th {\n",
       "        text-align: right;\n",
       "    }\n",
       "</style>\n",
       "<table border=\"1\" class=\"dataframe\">\n",
       "  <thead>\n",
       "    <tr style=\"text-align: right;\">\n",
       "      <th></th>\n",
       "      <th>가격</th>\n",
       "      <th>반품여부</th>\n",
       "    </tr>\n",
       "  </thead>\n",
       "  <tbody>\n",
       "    <tr>\n",
       "      <th>0</th>\n",
       "      <td>1000</td>\n",
       "      <td>반품</td>\n",
       "    </tr>\n",
       "    <tr>\n",
       "      <th>1</th>\n",
       "      <td>2000</td>\n",
       "      <td>정상</td>\n",
       "    </tr>\n",
       "    <tr>\n",
       "      <th>2</th>\n",
       "      <td>3000</td>\n",
       "      <td>정상</td>\n",
       "    </tr>\n",
       "    <tr>\n",
       "      <th>3</th>\n",
       "      <td>1000</td>\n",
       "      <td>반품</td>\n",
       "    </tr>\n",
       "  </tbody>\n",
       "</table>\n",
       "</div>"
      ],
      "text/plain": [
       "     가격 반품여부\n",
       "0  1000   반품\n",
       "1  2000   정상\n",
       "2  3000   정상\n",
       "3  1000   반품"
      ]
     },
     "execution_count": 12,
     "metadata": {},
     "output_type": "execute_result"
    }
   ],
   "source": [
    "df_saledays_dropcal # 컬럼삭제를 했지만 값은 변화없음 /inplace=True를 사용했다면 반영"
   ]
  },
  {
   "cell_type": "markdown",
   "id": "2013aa19-34b2-4602-a515-138b6d500ac7",
   "metadata": {},
   "source": [
    "## 필터\n",
    "- and - &, or - |"
   ]
  },
  {
   "cell_type": "code",
   "execution_count": 13,
   "id": "783e38de-9871-4ff0-ba31-760703405402",
   "metadata": {
    "tags": []
   },
   "outputs": [
    {
     "data": {
      "text/html": [
       "<div>\n",
       "<style scoped>\n",
       "    .dataframe tbody tr th:only-of-type {\n",
       "        vertical-align: middle;\n",
       "    }\n",
       "\n",
       "    .dataframe tbody tr th {\n",
       "        vertical-align: top;\n",
       "    }\n",
       "\n",
       "    .dataframe thead th {\n",
       "        text-align: right;\n",
       "    }\n",
       "</style>\n",
       "<table border=\"1\" class=\"dataframe\">\n",
       "  <thead>\n",
       "    <tr style=\"text-align: right;\">\n",
       "      <th></th>\n",
       "      <th>가격</th>\n",
       "      <th>반품여부</th>\n",
       "    </tr>\n",
       "  </thead>\n",
       "  <tbody>\n",
       "    <tr>\n",
       "      <th>2</th>\n",
       "      <td>3000</td>\n",
       "      <td>정상</td>\n",
       "    </tr>\n",
       "  </tbody>\n",
       "</table>\n",
       "</div>"
      ],
      "text/plain": [
       "     가격 반품여부\n",
       "2  3000   정상"
      ]
     },
     "execution_count": 13,
     "metadata": {},
     "output_type": "execute_result"
    }
   ],
   "source": [
    "# condition = (df_saledays_dropcal['반품여부'] == '정상')\n",
    "condition = (df_saledays_dropcal['가격'] >= 2500)\n",
    "df_saledays_dropcal.loc[condition]"
   ]
  },
  {
   "cell_type": "code",
   "execution_count": 14,
   "id": "230d97e5-26f6-4888-aa43-8e9d3706990f",
   "metadata": {
    "tags": []
   },
   "outputs": [
    {
     "data": {
      "text/plain": [
       "0     True\n",
       "1    False\n",
       "2     True\n",
       "3     True\n",
       "Name: 가격, dtype: bool"
      ]
     },
     "execution_count": 14,
     "metadata": {},
     "output_type": "execute_result"
    }
   ],
   "source": [
    "(df_saledays_dropcal['가격'] >= 2500) | (df_saledays_dropcal['가격'] <= 1000) # 특벙 범위 선택\n"
   ]
  },
  {
   "cell_type": "code",
   "execution_count": 15,
   "id": "797a08c1-ee55-4498-b4cc-979698070f8a",
   "metadata": {
    "tags": []
   },
   "outputs": [
    {
     "data": {
      "text/plain": [
       "0    False\n",
       "1    False\n",
       "2     True\n",
       "3    False\n",
       "dtype: bool"
      ]
     },
     "execution_count": 15,
     "metadata": {},
     "output_type": "execute_result"
    }
   ],
   "source": [
    "(df_saledays_dropcal['반품여부'] == '정상') & (df_saledays_dropcal['가격'] >= 2500)"
   ]
  },
  {
   "cell_type": "markdown",
   "id": "4240f3fa-baae-474e-8dd6-167139e954f9",
   "metadata": {},
   "source": [
    "### 요약\n",
    "- df.pivot_table(index='', values='')"
   ]
  },
  {
   "cell_type": "code",
   "execution_count": 16,
   "id": "a284c8d6-8bc8-4c2a-bbe3-8098d99b610d",
   "metadata": {
    "tags": []
   },
   "outputs": [
    {
     "data": {
      "text/html": [
       "<div>\n",
       "<style scoped>\n",
       "    .dataframe tbody tr th:only-of-type {\n",
       "        vertical-align: middle;\n",
       "    }\n",
       "\n",
       "    .dataframe tbody tr th {\n",
       "        vertical-align: top;\n",
       "    }\n",
       "\n",
       "    .dataframe thead th {\n",
       "        text-align: right;\n",
       "    }\n",
       "</style>\n",
       "<table border=\"1\" class=\"dataframe\">\n",
       "  <thead>\n",
       "    <tr style=\"text-align: right;\">\n",
       "      <th></th>\n",
       "      <th>가격</th>\n",
       "    </tr>\n",
       "    <tr>\n",
       "      <th>반품여부</th>\n",
       "      <th></th>\n",
       "    </tr>\n",
       "  </thead>\n",
       "  <tbody>\n",
       "    <tr>\n",
       "      <th>반품</th>\n",
       "      <td>1000</td>\n",
       "    </tr>\n",
       "    <tr>\n",
       "      <th>정상</th>\n",
       "      <td>2500</td>\n",
       "    </tr>\n",
       "  </tbody>\n",
       "</table>\n",
       "</div>"
      ],
      "text/plain": [
       "        가격\n",
       "반품여부      \n",
       "반품    1000\n",
       "정상    2500"
      ]
     },
     "execution_count": 16,
     "metadata": {},
     "output_type": "execute_result"
    }
   ],
   "source": [
    "# df_saledays_dropcal.pivot_table(index='반품여부', values='가격') # 자동으로 평균값\n",
    "# pd.pivot_table(data=df_saledays_dropcal,index='반품여부', values='가격')\n",
    "df_saledays_dropcal.pivot_table(index='반품여부', values='가격')"
   ]
  },
  {
   "cell_type": "code",
   "execution_count": 17,
   "id": "b4dd34c6-df6d-4fa6-a6f3-59f548a8dadc",
   "metadata": {
    "tags": []
   },
   "outputs": [
    {
     "data": {
      "text/html": [
       "<div>\n",
       "<style scoped>\n",
       "    .dataframe tbody tr th:only-of-type {\n",
       "        vertical-align: middle;\n",
       "    }\n",
       "\n",
       "    .dataframe tbody tr th {\n",
       "        vertical-align: top;\n",
       "    }\n",
       "\n",
       "    .dataframe thead th {\n",
       "        text-align: right;\n",
       "    }\n",
       "</style>\n",
       "<table border=\"1\" class=\"dataframe\">\n",
       "  <thead>\n",
       "    <tr style=\"text-align: right;\">\n",
       "      <th></th>\n",
       "      <th>가격</th>\n",
       "    </tr>\n",
       "    <tr>\n",
       "      <th>반품여부</th>\n",
       "      <th></th>\n",
       "    </tr>\n",
       "  </thead>\n",
       "  <tbody>\n",
       "    <tr>\n",
       "      <th>반품</th>\n",
       "      <td>1000</td>\n",
       "    </tr>\n",
       "    <tr>\n",
       "      <th>정상</th>\n",
       "      <td>2000</td>\n",
       "    </tr>\n",
       "  </tbody>\n",
       "</table>\n",
       "</div>"
      ],
      "text/plain": [
       "        가격\n",
       "반품여부      \n",
       "반품    1000\n",
       "정상    2000"
      ]
     },
     "execution_count": 17,
     "metadata": {},
     "output_type": "execute_result"
    }
   ],
   "source": [
    "import numpy as np\n",
    "df_saledays_dropcal.pivot_table(index='반품여부', values='가격', aggfunc=np.min)"
   ]
  },
  {
   "cell_type": "code",
   "execution_count": 18,
   "id": "44dd5db9-73b6-4c1c-bca8-7885bde92570",
   "metadata": {
    "tags": []
   },
   "outputs": [
    {
     "data": {
      "text/html": [
       "<div>\n",
       "<style scoped>\n",
       "    .dataframe tbody tr th:only-of-type {\n",
       "        vertical-align: middle;\n",
       "    }\n",
       "\n",
       "    .dataframe tbody tr th {\n",
       "        vertical-align: top;\n",
       "    }\n",
       "\n",
       "    .dataframe thead th {\n",
       "        text-align: right;\n",
       "    }\n",
       "</style>\n",
       "<table border=\"1\" class=\"dataframe\">\n",
       "  <thead>\n",
       "    <tr style=\"text-align: right;\">\n",
       "      <th></th>\n",
       "      <th>가격</th>\n",
       "    </tr>\n",
       "    <tr>\n",
       "      <th>반품여부</th>\n",
       "      <th></th>\n",
       "    </tr>\n",
       "  </thead>\n",
       "  <tbody>\n",
       "    <tr>\n",
       "      <th>반품</th>\n",
       "      <td>1000</td>\n",
       "    </tr>\n",
       "    <tr>\n",
       "      <th>정상</th>\n",
       "      <td>2500</td>\n",
       "    </tr>\n",
       "  </tbody>\n",
       "</table>\n",
       "</div>"
      ],
      "text/plain": [
       "        가격\n",
       "반품여부      \n",
       "반품    1000\n",
       "정상    2500"
      ]
     },
     "execution_count": 18,
     "metadata": {},
     "output_type": "execute_result"
    }
   ],
   "source": [
    "df_saledays_dropcal.pivot_table(index='반품여부', values='가격')\n"
   ]
  },
  {
   "cell_type": "code",
   "execution_count": 19,
   "id": "caa331a6-74b9-4493-be2c-d0539fc13e03",
   "metadata": {
    "tags": []
   },
   "outputs": [
    {
     "data": {
      "text/html": [
       "<div>\n",
       "<style scoped>\n",
       "    .dataframe tbody tr th:only-of-type {\n",
       "        vertical-align: middle;\n",
       "    }\n",
       "\n",
       "    .dataframe tbody tr th {\n",
       "        vertical-align: top;\n",
       "    }\n",
       "\n",
       "    .dataframe thead tr th {\n",
       "        text-align: left;\n",
       "    }\n",
       "\n",
       "    .dataframe thead tr:last-of-type th {\n",
       "        text-align: right;\n",
       "    }\n",
       "</style>\n",
       "<table border=\"1\" class=\"dataframe\">\n",
       "  <thead>\n",
       "    <tr>\n",
       "      <th></th>\n",
       "      <th></th>\n",
       "      <th>sum</th>\n",
       "      <th>amin</th>\n",
       "      <th>size</th>\n",
       "    </tr>\n",
       "    <tr>\n",
       "      <th></th>\n",
       "      <th></th>\n",
       "      <th>가격</th>\n",
       "      <th>가격</th>\n",
       "      <th>가격</th>\n",
       "    </tr>\n",
       "    <tr>\n",
       "      <th>반품여부</th>\n",
       "      <th>종류</th>\n",
       "      <th></th>\n",
       "      <th></th>\n",
       "      <th></th>\n",
       "    </tr>\n",
       "  </thead>\n",
       "  <tbody>\n",
       "    <tr>\n",
       "      <th>반품</th>\n",
       "      <th>과자</th>\n",
       "      <td>2000</td>\n",
       "      <td>1000</td>\n",
       "      <td>2</td>\n",
       "    </tr>\n",
       "    <tr>\n",
       "      <th rowspan=\"2\" valign=\"top\">정상</th>\n",
       "      <th>아이스크림</th>\n",
       "      <td>3000</td>\n",
       "      <td>3000</td>\n",
       "      <td>1</td>\n",
       "    </tr>\n",
       "    <tr>\n",
       "      <th>음료</th>\n",
       "      <td>2000</td>\n",
       "      <td>2000</td>\n",
       "      <td>1</td>\n",
       "    </tr>\n",
       "  </tbody>\n",
       "</table>\n",
       "</div>"
      ],
      "text/plain": [
       "             sum  amin size\n",
       "              가격    가격   가격\n",
       "반품여부 종류                    \n",
       "반품   과자     2000  1000    2\n",
       "정상   아이스크림  3000  3000    1\n",
       "     음료     2000  2000    1"
      ]
     },
     "execution_count": 19,
     "metadata": {},
     "output_type": "execute_result"
    }
   ],
   "source": [
    "df_saledays.pivot_table(index=['반품여부', '종류'], values='가격', aggfunc=[np.sum, np.min, np.size]) # aggfunc의 여러개의 함수 동시에 적용"
   ]
  },
  {
   "cell_type": "markdown",
   "id": "adbdb731-a1c1-47d1-abf5-43d3b9237838",
   "metadata": {
    "tags": []
   },
   "source": [
    "df_saledays  #df_saledays['가격'].mean() #평균값 확인\n"
   ]
  },
  {
   "cell_type": "markdown",
   "id": "e7f24889-91cd-4b55-8469-be37ed48aef1",
   "metadata": {},
   "source": [
    "### apply 함수\n",
    "- apply를 적용시, "
   ]
  },
  {
   "cell_type": "code",
   "execution_count": 20,
   "id": "1c178859-3c6f-49b2-bb0c-a9631a8f1d45",
   "metadata": {
    "tags": []
   },
   "outputs": [],
   "source": [
    "def mean_substraction(cell_value) : \n",
    "    result = 1750 - cell_value  # 가격 평균 - 개별값\n",
    "    return result"
   ]
  },
  {
   "cell_type": "code",
   "execution_count": 21,
   "id": "3396bb18-8a9b-44ae-833c-21fe11772884",
   "metadata": {
    "tags": []
   },
   "outputs": [
    {
     "data": {
      "text/plain": [
       "1000"
      ]
     },
     "execution_count": 21,
     "metadata": {},
     "output_type": "execute_result"
    }
   ],
   "source": [
    "mean_substraction(750)\n"
   ]
  },
  {
   "cell_type": "code",
   "execution_count": 22,
   "id": "64a320e2-35c7-4cb7-a7d6-a4debdb6e6c1",
   "metadata": {
    "tags": []
   },
   "outputs": [
    {
     "data": {
      "text/plain": [
       "0     750\n",
       "1    -250\n",
       "2   -1250\n",
       "3     750\n",
       "Name: 가격, dtype: int64"
      ]
     },
     "execution_count": 22,
     "metadata": {},
     "output_type": "execute_result"
    }
   ],
   "source": [
    "df_saledays['가격'].apply(mean_substraction) #함수 불러오기"
   ]
  },
  {
   "cell_type": "markdown",
   "id": "00d95374-d18a-4030-a8cd-9126f1e55c7f",
   "metadata": {},
   "source": [
    "### 컬럼 추가"
   ]
  },
  {
   "cell_type": "code",
   "execution_count": 23,
   "id": "f89e54eb-6384-4ed6-a878-e8fbe3e83ccf",
   "metadata": {
    "tags": []
   },
   "outputs": [],
   "source": [
    "df_saledays['가격차이'] = df_saledays['가격'].apply(mean_substraction) # 각 cell당 평균 차이값\n",
    "# 해당 결과 값을 '가격차이' 컬럼에 담도록"
   ]
  },
  {
   "cell_type": "code",
   "execution_count": 24,
   "id": "0cc13430-3859-4882-8543-fb692b8cfcb1",
   "metadata": {
    "tags": []
   },
   "outputs": [
    {
     "data": {
      "text/html": [
       "<div>\n",
       "<style scoped>\n",
       "    .dataframe tbody tr th:only-of-type {\n",
       "        vertical-align: middle;\n",
       "    }\n",
       "\n",
       "    .dataframe tbody tr th {\n",
       "        vertical-align: top;\n",
       "    }\n",
       "\n",
       "    .dataframe thead th {\n",
       "        text-align: right;\n",
       "    }\n",
       "</style>\n",
       "<table border=\"1\" class=\"dataframe\">\n",
       "  <thead>\n",
       "    <tr style=\"text-align: right;\">\n",
       "      <th></th>\n",
       "      <th>가격</th>\n",
       "      <th>종류</th>\n",
       "      <th>판매일자</th>\n",
       "      <th>반품여부</th>\n",
       "      <th>가격차이</th>\n",
       "    </tr>\n",
       "  </thead>\n",
       "  <tbody>\n",
       "    <tr>\n",
       "      <th>0</th>\n",
       "      <td>1000</td>\n",
       "      <td>과자</td>\n",
       "      <td>2019-12-31</td>\n",
       "      <td>반품</td>\n",
       "      <td>750</td>\n",
       "    </tr>\n",
       "    <tr>\n",
       "      <th>1</th>\n",
       "      <td>2000</td>\n",
       "      <td>음료</td>\n",
       "      <td>2020-03-02</td>\n",
       "      <td>정상</td>\n",
       "      <td>-250</td>\n",
       "    </tr>\n",
       "    <tr>\n",
       "      <th>2</th>\n",
       "      <td>3000</td>\n",
       "      <td>아이스크림</td>\n",
       "      <td>2020-02-03</td>\n",
       "      <td>정상</td>\n",
       "      <td>-1250</td>\n",
       "    </tr>\n",
       "    <tr>\n",
       "      <th>3</th>\n",
       "      <td>1000</td>\n",
       "      <td>과자</td>\n",
       "      <td>2019-12-31</td>\n",
       "      <td>반품</td>\n",
       "      <td>750</td>\n",
       "    </tr>\n",
       "  </tbody>\n",
       "</table>\n",
       "</div>"
      ],
      "text/plain": [
       "     가격     종류        판매일자 반품여부  가격차이\n",
       "0  1000     과자  2019-12-31   반품   750\n",
       "1  2000     음료  2020-03-02   정상  -250\n",
       "2  3000  아이스크림  2020-02-03   정상 -1250\n",
       "3  1000     과자  2019-12-31   반품   750"
      ]
     },
     "execution_count": 24,
     "metadata": {},
     "output_type": "execute_result"
    }
   ],
   "source": [
    "df_saledays"
   ]
  },
  {
   "cell_type": "markdown",
   "id": "3e43d535-32e5-4c13-a943-350e6d83305b",
   "metadata": {},
   "source": [
    "#### ※ 가격 + 가격차이가 합산해서 나옴//두개의 칼럼도 조합해서 가능 "
   ]
  },
  {
   "cell_type": "code",
   "execution_count": 43,
   "id": "286a670b-509d-474b-9689-6c8666ddeb36",
   "metadata": {
    "tags": []
   },
   "outputs": [
    {
     "data": {
      "text/plain": [
       "0    1750\n",
       "1    1750\n",
       "2    1750\n",
       "3    1750\n",
       "dtype: int64"
      ]
     },
     "execution_count": 43,
     "metadata": {},
     "output_type": "execute_result"
    }
   ],
   "source": [
    "df_saledays['가격'] + df_saledays['가격차이']"
   ]
  },
  {
   "cell_type": "markdown",
   "id": "d4d59374-e1a6-4ff0-a173-bf2665b8f9e1",
   "metadata": {},
   "source": [
    "### Series\n",
    "- index -data"
   ]
  },
  {
   "cell_type": "code",
   "execution_count": 25,
   "id": "d5fd4036-919f-427f-a841-d3fb2324abf0",
   "metadata": {
    "tags": []
   },
   "outputs": [
    {
     "data": {
      "text/plain": [
       "0    0.1\n",
       "1    0.2\n",
       "2    0.3\n",
       "3    0.4\n",
       "4    0.5\n",
       "dtype: float64"
      ]
     },
     "execution_count": 25,
     "metadata": {},
     "output_type": "execute_result"
    }
   ],
   "source": [
    "single_data = [0.1, 0.2, 0.3, 0.4, 0.5]\n",
    "series_floats = pd.Series(data=single_data)\n",
    "series_floats"
   ]
  },
  {
   "cell_type": "code",
   "execution_count": 26,
   "id": "dbc2af5b-1fda-4880-8c04-39236f1e0dc6",
   "metadata": {
    "tags": []
   },
   "outputs": [
    {
     "data": {
      "text/plain": [
       "pandas.core.series.Series"
      ]
     },
     "execution_count": 26,
     "metadata": {},
     "output_type": "execute_result"
    }
   ],
   "source": [
    "type(series_floats)\n"
   ]
  },
  {
   "cell_type": "markdown",
   "id": "37b23fe8-4a97-4e46-945b-ac7e099e083f",
   "metadata": {},
   "source": [
    "### 통계 수치 표현"
   ]
  },
  {
   "cell_type": "code",
   "execution_count": 27,
   "id": "eab1be6f-4618-4384-9a1a-5b7a56cf114e",
   "metadata": {
    "tags": []
   },
   "outputs": [],
   "source": [
    "import numpy as np\n"
   ]
  },
  {
   "cell_type": "code",
   "execution_count": 28,
   "id": "7c44a250-6d34-453d-8b99-2faf5a7b640b",
   "metadata": {
    "tags": []
   },
   "outputs": [
    {
     "data": {
      "text/plain": [
       "array([ 6,  4,  1,  3,  5,  3, 10,  7,  9])"
      ]
     },
     "execution_count": 28,
     "metadata": {},
     "output_type": "execute_result"
    }
   ],
   "source": [
    "arr = np.array([6, 4, 1, 3, 5, 3, 10, 7, 9])\n",
    "arr"
   ]
  },
  {
   "cell_type": "code",
   "execution_count": 29,
   "id": "3c522565-b19c-4e2e-ab70-cc80746c65b1",
   "metadata": {
    "tags": []
   },
   "outputs": [
    {
     "data": {
      "text/plain": [
       "(5.333333333333333, 48)"
      ]
     },
     "execution_count": 29,
     "metadata": {},
     "output_type": "execute_result"
    }
   ],
   "source": [
    "# 평균, 합계\n",
    "np.mean(arr), np.sum(arr)"
   ]
  },
  {
   "cell_type": "code",
   "execution_count": 30,
   "id": "37237ea8-714d-473e-9920-9157ed5fdf8e",
   "metadata": {
    "tags": []
   },
   "outputs": [
    {
     "data": {
      "text/plain": [
       "5.0"
      ]
     },
     "execution_count": 30,
     "metadata": {},
     "output_type": "execute_result"
    }
   ],
   "source": [
    "# 중앙값\n",
    "np.median(arr)"
   ]
  },
  {
   "cell_type": "code",
   "execution_count": 31,
   "id": "2cfb3e3a-9d3e-48fd-b761-6959b5a3b8e6",
   "metadata": {
    "tags": []
   },
   "outputs": [
    {
     "name": "stdout",
     "output_type": "stream",
     "text": [
      "1 10\n"
     ]
    }
   ],
   "source": [
    "# 최소값, 최대값\n",
    "print(np.min(arr), np.max(arr))"
   ]
  },
  {
   "cell_type": "markdown",
   "id": "5a4aca20-44e0-481d-9818-652af9e529b5",
   "metadata": {},
   "source": [
    "### IQR"
   ]
  },
  {
   "cell_type": "code",
   "execution_count": 32,
   "id": "2f65536e-8c74-4481-aab1-7c46850b02b9",
   "metadata": {
    "tags": []
   },
   "outputs": [],
   "source": [
    "import numpy as np\n",
    "data = np.array([44, 32, 53, 75, 36, 45, 25, 49, 46, 28])"
   ]
  },
  {
   "cell_type": "code",
   "execution_count": 33,
   "id": "29beca72-393e-4d91-a3f3-d69bc4227a19",
   "metadata": {
    "tags": []
   },
   "outputs": [],
   "source": [
    "Q1 = np.percentile(data, 25)\n"
   ]
  },
  {
   "cell_type": "code",
   "execution_count": 34,
   "id": "d74a3cf6-84f5-4207-921e-3470b2cd1bc5",
   "metadata": {
    "tags": []
   },
   "outputs": [],
   "source": [
    "Q3 = np.percentile(data, 75)\n"
   ]
  },
  {
   "cell_type": "code",
   "execution_count": 35,
   "id": "6733ed9a-9ed0-43b4-a757-e830b02ddc85",
   "metadata": {
    "tags": []
   },
   "outputs": [
    {
     "data": {
      "text/plain": [
       "(33.0, 48.25)"
      ]
     },
     "execution_count": 35,
     "metadata": {},
     "output_type": "execute_result"
    }
   ],
   "source": [
    "Q1, Q3\n"
   ]
  },
  {
   "cell_type": "code",
   "execution_count": 36,
   "id": "8165314d-3b3f-47a9-8b49-283324ed0db4",
   "metadata": {
    "tags": []
   },
   "outputs": [
    {
     "data": {
      "text/plain": [
       "15.25"
      ]
     },
     "execution_count": 36,
     "metadata": {},
     "output_type": "execute_result"
    }
   ],
   "source": [
    "Q3 - Q1 # boxplot의 범위\n"
   ]
  },
  {
   "cell_type": "code",
   "execution_count": 37,
   "id": "2e89380d-54f1-4878-a720-cfdc9e2548f2",
   "metadata": {
    "tags": []
   },
   "outputs": [
    {
     "data": {
      "text/plain": [
       "44.5"
      ]
     },
     "execution_count": 37,
     "metadata": {},
     "output_type": "execute_result"
    }
   ],
   "source": [
    "np.median(data) # 중앙값\n"
   ]
  },
  {
   "cell_type": "code",
   "execution_count": 38,
   "id": "72e2d7ce-333d-4bbf-a3a3-d54ea7147443",
   "metadata": {
    "tags": []
   },
   "outputs": [],
   "source": [
    "import seaborn as sns\n"
   ]
  },
  {
   "cell_type": "code",
   "execution_count": 39,
   "id": "eabf48c5-cbfa-4fc7-b928-9d542eea20df",
   "metadata": {
    "tags": []
   },
   "outputs": [
    {
     "data": {
      "text/plain": [
       "<Axes: >"
      ]
     },
     "execution_count": 39,
     "metadata": {},
     "output_type": "execute_result"
    },
    {
     "data": {
      "image/png": "[encoded data removed]",
      "text/plain": [
       "<Figure size 640x480 with 1 Axes>"
      ]
     },
     "metadata": {},
     "output_type": "display_data"
    }
   ],
   "source": [
    "sns.boxplot(data)\n"
   ]
  },
  {
   "cell_type": "code",
   "execution_count": null,
   "id": "0fe6b8ee-baf9-4d70-9363-9456ac1caf05",
   "metadata": {},
   "outputs": [],
   "source": []
  },
  {
   "cell_type": "code",
   "execution_count": null,
   "id": "3f12523c-b68a-486e-a7b2-4a306243f685",
   "metadata": {},
   "outputs": [],
   "source": []
  },
  {
   "cell_type": "code",
   "execution_count": null,
   "id": "6367a3a0-835a-4efb-8298-75f753a24a1b",
   "metadata": {},
   "outputs": [],
   "source": []
  },
  {
   "cell_type": "code",
   "execution_count": null,
   "id": "ca7c31ee-d4f5-462e-8a15-dff4d466b57b",
   "metadata": {},
   "outputs": [],
   "source": []
  },
  {
   "cell_type": "code",
   "execution_count": null,
   "id": "4ba01284-55b0-4af3-8aba-fb79758708d5",
   "metadata": {},
   "outputs": [],
   "source": []
  },
  {
   "cell_type": "markdown",
   "id": "4a7976a7-119e-4962-8ae8-2c0ad76ffbbc",
   "metadata": {
    "tags": []
   },
   "source": [
    "## 반품 vs 정상인 중 정상인 뽑기 \n",
    " - 1.condition 생성 \n",
    " - 2.series(false vs True)"
   ]
  },
  {
   "cell_type": "code",
   "execution_count": 40,
   "id": "dccca543-979c-428e-9f66-b74ab3efef0e",
   "metadata": {
    "tags": []
   },
   "outputs": [
    {
     "ename": "NameError",
     "evalue": "name 'df_saledays_dopcol' is not defined",
     "output_type": "error",
     "traceback": [
      "\u001b[1;31m---------------------------------------------------------------------------\u001b[0m",
      "\u001b[1;31mNameError\u001b[0m                                 Traceback (most recent call last)",
      "Cell \u001b[1;32mIn[40], line 5\u001b[0m\n\u001b[0;32m      1\u001b[0m \u001b[38;5;66;03m## 필터 여러개 사용 가능  : and - &, or - | \u001b[39;00m\n\u001b[0;32m      2\u001b[0m \u001b[38;5;66;03m# ex) condition = (df_saledays_dopcol['반품여부'] == '정상')\u001b[39;00m\n\u001b[0;32m      3\u001b[0m \u001b[38;5;66;03m## 연속형 = 2500이상인 가격만 나오기 \u001b[39;00m\n\u001b[0;32m      4\u001b[0m \u001b[38;5;66;03m## \u001b[39;00m\n\u001b[1;32m----> 5\u001b[0m condition \u001b[38;5;241m=\u001b[39m (df_saledays_dopcol[\u001b[38;5;124m'\u001b[39m\u001b[38;5;124m가격\u001b[39m\u001b[38;5;124m'\u001b[39m] \u001b[38;5;241m>\u001b[39m\u001b[38;5;241m=\u001b[39m \u001b[38;5;241m2500\u001b[39m)\n\u001b[0;32m      6\u001b[0m df_saledays_dopcol\u001b[38;5;241m.\u001b[39mloc[condition]\n",
      "\u001b[1;31mNameError\u001b[0m: name 'df_saledays_dopcol' is not defined"
     ]
    }
   ],
   "source": [
    "## 필터 여러개 사용 가능  : and - &, or - | \n",
    "# ex) condition = (df_saledays_dopcol['반품여부'] == '정상')\n",
    "## 연속형 = 2500이상인 가격만 나오기 \n",
    "## \n",
    "condition = (df_saledays_dopcol['가격'] >= 2500)\n",
    "df_saledays_dopcol.loc[condition]"
   ]
  },
  {
   "cell_type": "code",
   "execution_count": null,
   "id": "c0caf722-a1c6-41f8-8f08-f9f2f70b44f7",
   "metadata": {
    "tags": []
   },
   "outputs": [],
   "source": [
    "# 하나만 true (3000원) \n",
    "# 특정범위를 선택 \n",
    "#(df_saledays_dopcol['가격'] >= 2500) | (df_saledays_dopcol['가격'] <= 1000)\n",
    "(df_saledays_dopcol['반품여부'] == '정상') | (df_saledays_dopcol['가격'] >= 2500) "
   ]
  },
  {
   "cell_type": "code",
   "execution_count": null,
   "id": "e0458b0e-4bdc-401c-87a8-165ff018907c",
   "metadata": {
    "tags": []
   },
   "outputs": [],
   "source": [
    "## 요약 \n",
    "#df_saledays_dopcol.pivot_table(index='반품여부', values ='가격')\n",
    "#pd.pivot_table(data= df_saledays_dopcol, index='반품여부', values ='가격')\n",
    "import numpy as np\n",
    "df_saledays_dopcol.pivot_table(index='반품여부', values ='가격', aggfunc=np.sum)"
   ]
  },
  {
   "cell_type": "code",
   "execution_count": null,
   "id": "33c5ec43-04f1-4d1f-8c87-03e5fe8de9cd",
   "metadata": {
    "tags": []
   },
   "outputs": [],
   "source": [
    "pd.pivot_table(data= df_saledays_dopcol, index='반품여부', values ='가격')"
   ]
  },
  {
   "cell_type": "markdown",
   "id": "cab457d5-7615-477d-bd9f-d89043fea3c3",
   "metadata": {
    "tags": []
   },
   "source": [
    "### Series(2)\n",
    "- index - data"
   ]
  },
  {
   "cell_type": "markdown",
   "id": "04a5f81f-a9fd-4e7e-9d00-ed9734f9d346",
   "metadata": {},
   "source": [
    "### 통계 수치 표현 "
   ]
  },
  {
   "cell_type": "code",
   "execution_count": null,
   "id": "23c773d2-7901-4273-8847-b99bb27cef3a",
   "metadata": {
    "tags": []
   },
   "outputs": [],
   "source": [
    "import numpy as np"
   ]
  },
  {
   "cell_type": "code",
   "execution_count": null,
   "id": "fdf5e8a9-132c-4162-9089-6827b300effa",
   "metadata": {
    "tags": []
   },
   "outputs": [],
   "source": [
    "arr = np.array([6, 4, 1, 3, 5, 3, 10, 7, 9])\n",
    "arr"
   ]
  },
  {
   "cell_type": "code",
   "execution_count": null,
   "id": "de150dbc-1064-497e-ad07-224519cfebca",
   "metadata": {
    "tags": []
   },
   "outputs": [],
   "source": [
    "# 평균, 합계 \n",
    "np.mean(arr), np.sum(arr)"
   ]
  },
  {
   "cell_type": "code",
   "execution_count": null,
   "id": "3c22c311-7bd0-4683-bd51-a5dc01d12a19",
   "metadata": {
    "tags": []
   },
   "outputs": [],
   "source": [
    "# 중앙값\n",
    "np.median(arr)"
   ]
  },
  {
   "cell_type": "code",
   "execution_count": null,
   "id": "97a5c005-30c9-40f0-a489-856a3e4ca890",
   "metadata": {
    "tags": []
   },
   "outputs": [],
   "source": [
    "# 최소값, 최대값 \n",
    "print (np.min(arr), np.max(arr))"
   ]
  },
  {
   "cell_type": "code",
   "execution_count": null,
   "id": "4f373a63-3c43-40f6-b536-a52ec5dd7493",
   "metadata": {
    "tags": []
   },
   "outputs": [],
   "source": [
    "#분산(np.var) , 표준편차 \n",
    "np.var(arr), np.std(arr)"
   ]
  },
  {
   "cell_type": "code",
   "execution_count": null,
   "id": "7235e10b-2a80-481f-895a-fe897c613aaa",
   "metadata": {},
   "outputs": [],
   "source": []
  }
 ],
 "metadata": {
  "kernelspec": {
   "display_name": "Python 3 (ipykernel)",
   "language": "python",
   "name": "python3"
  },
  "language_info": {
   "codemirror_mode": {
    "name": "ipython",
    "version": 3
   },
   "file_extension": ".py",
   "mimetype": "text/x-python",
   "name": "python",
   "nbconvert_exporter": "python",
   "pygments_lexer": "ipython3",
   "version": "3.11.3"
  }
 },
 "nbformat": 4,
 "nbformat_minor": 5
}
