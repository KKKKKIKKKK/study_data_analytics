{
 "cells": [
  {
   "cell_type": "markdown",
   "id": "7348fd2b-31d1-4835-a385-d967c60d1ba6",
   "metadata": {
    "tags": []
   },
   "source": [
    "### Github signin"
   ]
  },
  {
   "cell_type": "markdown",
   "id": "e4fca176-1d49-44ca-97a8-1e2d1d7d5e14",
   "metadata": {
    "tags": []
   },
   "source": [
    "##### 2023-09-07(수) Login tag\n",
    "- 로그인할때 필요한 sign in 검사 \n",
    "- div > div > div > a.HeaderMenu-link.HeaderMenu-link--sign-in "
   ]
  },
  {
   "cell_type": "code",
   "execution_count": 25,
   "id": "c73edf2a-38c9-4195-8034-ec092bae33c9",
   "metadata": {
    "tags": []
   },
   "outputs": [
    {
     "data": {
      "text/plain": [
       "selenium.webdriver.chrome.webdriver.WebDriver"
      ]
     },
     "execution_count": 25,
     "metadata": {},
     "output_type": "execute_result"
    }
   ],
   "source": [
    "from selenium import webdriver\n",
    "browser = webdriver.Chrome(executable_path='../../../../chromedriver.exe')\n",
    "browser.get('https://www.naver.com/')\n",
    "type(browser)"
   ]
  },
  {
   "cell_type": "markdown",
   "id": "a137e36d-92c5-40fe-b6ea-b1bc86d53782",
   "metadata": {
    "jupyter": {
     "source_hidden": true
    },
    "tags": []
   },
   "source": [
    "### Login 화면 링크 tag \n",
    "- 접힌메뉴= tag : body > div.logged-out.env-production.page-responsive.header-overlay.home-campaign > div.position-relative.js-header-wrapper > header > div > div.d-flex.flex-justify-between.flex-items-center.width-full.width-lg-auto > div.flex-1.flex-order-2.text-right > button > span > span\n",
    "\n",
    "- click tag : div > div > div > a.HeaderMenu-link.HeaderMenu-link--sign-in"
   ]
  },
  {
   "cell_type": "code",
   "execution_count": 26,
   "id": "a6ebfe83-7c83-42ba-a487-02569c840557",
   "metadata": {
    "tags": []
   },
   "outputs": [],
   "source": [
    "element_path = '#account > div > a'\n",
    "collapsed_menu = browser.find_element_by_css_selector(element_path)\n",
    "collapsed_menu.click()"
   ]
  },
  {
   "cell_type": "markdown",
   "id": "b4e7fa77-5cc1-4eb8-a7f9-969d3a22e1bb",
   "metadata": {
    "tags": []
   },
   "source": [
    "### Login 화면 구성 \n",
    "- 1. 로그인 검사 후 copy selector - 메모장에 복사 \n",
    "    - user id input tag :#id\n",
    "    - password inpit tag :#pw\n",
    "    - click tag : input.btn.btn-primary.btn-block.js-sign-in-button"
   ]
  },
  {
   "cell_type": "code",
   "execution_count": 27,
   "id": "adb3f14e-55c9-439f-a1db-2833d4199fbc",
   "metadata": {
    "tags": []
   },
   "outputs": [],
   "source": [
    "element_path = '#id'\n",
    "login_field = browser.find_element_by_css_selector(element_path)\n",
    "login_field.send_keys('cupit****')"
   ]
  },
  {
   "cell_type": "code",
   "execution_count": 28,
   "id": "3c655584-d880-4669-b822-c53951ece69b",
   "metadata": {
    "tags": []
   },
   "outputs": [],
   "source": [
    "element_path = '#pw'\n",
    "password_field = browser.find_element_by_css_selector(element_path)\n",
    "password_field.send_keys('비밀번호 ')"
   ]
  },
  {
   "cell_type": "code",
   "execution_count": 29,
   "id": "61b0e721-1265-4eb8-93ce-0a64941e756b",
   "metadata": {
    "tags": []
   },
   "outputs": [],
   "source": [
    "element_path = '#log\\.login > span'\n",
    "signin_button = browser.find_element_by_css_selector(element_path)\n",
    "signin_button.click()"
   ]
  },
  {
   "cell_type": "code",
   "execution_count": null,
   "id": "4be73b3e-beb1-4864-8fa8-397a5140039a",
   "metadata": {},
   "outputs": [],
   "source": [
    "#메일들어가기 \n",
    "#account > div.MyView-module__my_menu___eF24q > div > div > ul > li:nth-child(1) > a > span.MyView-module__item_text___VTQQM"
   ]
  },
  {
   "cell_type": "code",
   "execution_count": 30,
   "id": "45478843-0325-481c-8c88-7d64078dd50e",
   "metadata": {
    "tags": []
   },
   "outputs": [],
   "source": [
    "element_path = '#shortcutArea > ul > li:nth-child(1) > a'\n",
    "mail_button = browser.find_element_by_css_selector(element_path)\n",
    "mail_button.click()"
   ]
  },
  {
   "cell_type": "code",
   "execution_count": null,
   "id": "c5d4cf8f-bd11-4261-907a-08c9031ceb65",
   "metadata": {
    "tags": []
   },
   "outputs": [],
   "source": [
    "browser.quit()"
   ]
  }
 ],
 "metadata": {
  "kernelspec": {
   "display_name": "Python 3 (ipykernel)",
   "language": "python",
   "name": "python3"
  },
  "language_info": {
   "codemirror_mode": {
    "name": "ipython",
    "version": 3
   },
   "file_extension": ".py",
   "mimetype": "text/x-python",
   "name": "python",
   "nbconvert_exporter": "python",
   "pygments_lexer": "ipython3",
   "version": "3.11.3"
  }
 },
 "nbformat": 4,
 "nbformat_minor": 5
}
