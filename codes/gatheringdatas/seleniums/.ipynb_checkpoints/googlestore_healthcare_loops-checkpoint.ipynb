{
 "cells": [
  {
   "cell_type": "markdown",
   "id": "9a86487b-4b84-42b2-a6b6-c71e632c3207",
   "metadata": {
    "tags": []
   },
   "source": [
    "#### 2023-09-07(수)구글스토어 퀘스트"
   ]
  },
  {
   "cell_type": "code",
   "execution_count": 1,
   "id": "ec4595d9-7e65-40b8-816e-a79d04113d5a",
   "metadata": {
    "tags": []
   },
   "outputs": [],
   "source": [
    "from selenium import webdriver"
   ]
  },
  {
   "cell_type": "code",
   "execution_count": 6,
   "id": "09cc03ed-8fa1-4795-ae9a-59ebcd3e0184",
   "metadata": {
    "tags": []
   },
   "outputs": [],
   "source": [
    "# open Chrome browser.executable_path = 브라우저 여는 법 \n",
    "browser = webdriver.Chrome(executable_path='../../../../chromedriver.exe')"
   ]
  },
  {
   "cell_type": "code",
   "execution_count": 7,
   "id": "cc1fb5ee-ec7b-498a-a960-80197c5993ea",
   "metadata": {
    "tags": []
   },
   "outputs": [],
   "source": [
    "#'https://www.w3schools.com/' 윈도우 창에 특정 주소 연결 \n",
    "# url in address window\n",
    "# enter 치면 새창 생성./#html css가 local로 가져옴 \n",
    "browser.get('https://play.google.com/store/search?q=%ED%97%AC%EC%8A%A4%EC%BC%80%EC%96%B4%EC%95%B1&c=apps&hl=ko-KR')"
   ]
  },
  {
   "cell_type": "markdown",
   "id": "dbab976b-7e9e-40f6-9cdf-b75b4a69140d",
   "metadata": {},
   "source": [
    " ### 제품클릭 이미지 사진 \n",
    "    - section > div > div > div > div:nth-child(2) > div > div > div"
   ]
  },
  {
   "cell_type": "code",
   "execution_count": 8,
   "id": "b5ac7223-2a46-4974-9c9a-7e5ab7a2e135",
   "metadata": {
    "tags": []
   },
   "outputs": [],
   "source": [
    "click_path = 'section > div > div > div > div:nth-child(2) > div > div > div' \n",
    "browser.find_element_by_css_selector(click_path).click() # click_path 변수꼭 담아주기"
   ]
  },
  {
   "cell_type": "markdown",
   "id": "d456303a-fc33-43b2-b2f9-f1d6f877058c",
   "metadata": {
    "tags": []
   },
   "source": [
    "####  제품정보\n",
    "- 서비스명 :NH 헬스케어 \n",
    "    -  div > h1 > span  \n",
    "- 만든회사명 tag \n",
    "    - div.Il7kR > div > div > div > a > span\n",
    "- 앱정보 tag \n",
    "    - div:nth-child(1) > c-wiz:nth-child(2) > div > section > div > div.bARER"
   ]
  },
  {
   "cell_type": "code",
   "execution_count": 9,
   "id": "bb5c9108-3bc0-4f47-b3fb-33c42abb70ed",
   "metadata": {
    "tags": []
   },
   "outputs": [
    {
     "data": {
      "text/plain": [
       "('NH헬스케어',\n",
       " 'NH농협생명',\n",
       " '한국인의 건강관리 NH 헬스케어!\\n\\n지인들과 재밌고 건강하게 즐기는 NH헬스케어만의 새로운 걷기 방법 – 걷기 배틀\\n걷기 목표 달성시 지급되는 포인트로 완성하는 온라인 텃밭 – 랜선 텃밭 가꾸기\\n\\n즐겁고 과학적인 당신만을 위한 건강 솔루션 NH 헬스케어!')"
      ]
     },
     "execution_count": 9,
     "metadata": {},
     "output_type": "execute_result"
    }
   ],
   "source": [
    "service_name = browser.find_element_by_css_selector ('div > h1 > span').text\n",
    "company_name = browser.find_element_by_css_selector ('div.Il7kR > div > div > div > a > span').text\n",
    "app_information = browser.find_element_by_css_selector ('div:nth-child(1) > c-wiz:nth-child(2) > div > section > div > div.bARER').text \n",
    "\n",
    "service_name,company_name,app_information"
   ]
  },
  {
   "cell_type": "markdown",
   "id": "bd7b1c32-237b-46c4-9c26-370769ba56e6",
   "metadata": {},
   "source": [
    "### 리뷰 모두보기 \n",
    "- click tag : div:nth-child(5) > div > div > button > span"
   ]
  },
  {
   "cell_type": "code",
   "execution_count": null,
   "id": "1da172e7-570d-4d98-89d5-27907972c9fd",
   "metadata": {
    "tags": []
   },
   "outputs": [],
   "source": [
    "import time\n",
    "time.sleep(2)"
   ]
  },
  {
   "cell_type": "code",
   "execution_count": null,
   "id": "3d8d4417-06f3-47b4-92b1-c3e6ca8e632b",
   "metadata": {
    "tags": []
   },
   "outputs": [],
   "source": [
    "browser.find_element_by_xpath('//*/div/div/button/*[contains(text(), \"리뷰\")]').click()"
   ]
  },
  {
   "cell_type": "markdown",
   "id": "700f359f-0c67-454e-bc83-618ac22a9fc6",
   "metadata": {},
   "source": [
    "### 리뷰 내용 가져오기(묶음을 기준)  \n",
    "- 리뷰 묶음 tag : div.fysCi > div > div:nth-child(2) > div\n",
    "- 내용 tag : div.h3YV2d\n",
    "- 날짜 tag : header > div.Jx4nYe > span\n",
    "- 별첨 tag : header > div.Jx4nYe > div"
   ]
  },
  {
   "cell_type": "code",
   "execution_count": null,
   "id": "20355f3f-4256-4636-92e2-e528e18eeada",
   "metadata": {
    "tags": []
   },
   "outputs": [],
   "source": [
    "reviews_bundle = browser.find_elements_by_css_selector('div.fysCi > div > div:nth-child(2) > div')\n",
    "len(reviews_bundle)"
   ]
  },
  {
   "cell_type": "code",
   "execution_count": null,
   "id": "43a10d79-653d-4d3a-bc59-4d480e27b76e",
   "metadata": {
    "tags": []
   },
   "outputs": [],
   "source": [
    "# ''] text 속성 을 getattribut로 가져와야함. 속성 aria-label\n",
    "content = reviews_bundle[0].find_element_by_css_selector('div.h3YV2d').text\n",
    "date = reviews_bundle[0].find_element_by_css_selector('header > div.Jx4nYe > span').text\n",
    "stars = reviews_bundle[0].find_element_by_css_selector('header > div.Jx4nYe > div').get_attribute('aria-label')"
   ]
  },
  {
   "cell_type": "code",
   "execution_count": null,
   "id": "da5c625c-39c8-4029-82f8-18fc2455389b",
   "metadata": {
    "tags": []
   },
   "outputs": [],
   "source": [
    "[content,date,stars]"
   ]
  },
  {
   "cell_type": "code",
   "execution_count": null,
   "id": "b3ef6e5a-9f02-4f14-a3cb-a4e76c5e87d6",
   "metadata": {},
   "outputs": [],
   "source": []
  }
 ],
 "metadata": {
  "kernelspec": {
   "display_name": "Python 3 (ipykernel)",
   "language": "python",
   "name": "python3"
  },
  "language_info": {
   "codemirror_mode": {
    "name": "ipython",
    "version": 3
   },
   "file_extension": ".py",
   "mimetype": "text/x-python",
   "name": "python",
   "nbconvert_exporter": "python",
   "pygments_lexer": "ipython3",
   "version": "3.11.3"
  }
 },
 "nbformat": 4,
 "nbformat_minor": 5
}
