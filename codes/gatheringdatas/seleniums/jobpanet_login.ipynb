{
 "cells": [
  {
   "cell_type": "markdown",
   "id": "5f551f61-1364-4572-84ce-bee06c791930",
   "metadata": {},
   "source": [
    "### 2023- 09 - 07 (목)"
   ]
  },
  {
   "cell_type": "code",
   "execution_count": 11,
   "id": "eebf32c4-6626-4a5b-908d-aaecdea6dc19",
   "metadata": {
    "tags": []
   },
   "outputs": [],
   "source": [
    "from selenium import webdriver\n",
    "import time "
   ]
  },
  {
   "cell_type": "code",
   "execution_count": 12,
   "id": "aab6e13f-d864-4838-ae6a-37bb2e31dc57",
   "metadata": {
    "tags": []
   },
   "outputs": [],
   "source": [
    "# open Chrome browser.executable_path = 브라우저 여는 법 \n",
    "browser = webdriver.Chrome(executable_path='../../../../chromedriver.exe')"
   ]
  },
  {
   "cell_type": "markdown",
   "id": "bfae09aa-0e5a-4f05-988d-cd43dcfbe00f",
   "metadata": {},
   "source": [
    "### login \n",
    "- user_email tag :  #user_email \n",
    "- user_password tag :  #user_password\n",
    "- button_tag : fieldset > button"
   ]
  },
  {
   "cell_type": "code",
   "execution_count": 13,
   "id": "f0fffe5e-aae7-4a78-972f-a5637e57bf18",
   "metadata": {
    "tags": []
   },
   "outputs": [],
   "source": [
    "# url in address window\n",
    "# enter 치면 새창 생성./#html css가 local로 가져옴 \n",
    "browser.implicitly_wait(10)\n",
    "browser.get('https://www.jobplanet.co.kr/users/sign_in?_nav=gb')\n",
    "browser.find_element_by_css_selector('#user_email').send_keys('121212@hanmail.net')\n",
    "browser.find_element_by_css_selector('#user_password').send_keys('@@@@@!')\n",
    "browser.find_element_by_css_selector('fieldset > button').click()"
   ]
  },
  {
   "cell_type": "markdown",
   "id": "968cd9a6-2f9f-4930-8181-7c9d7018ce35",
   "metadata": {},
   "source": [
    "### 잡플래닛 (채용공고 )더보기 클릭 검색어로 검색 (분석가)\n",
    "\n",
    "- https://www.jobplanet.co.kr/job/search?_rs_act=index&_rs_con=search&_rs_element=see_more_job_postings_top&q=%EB%B6%84%EC%84%9D%EA%B0%80"
   ]
  },
  {
   "cell_type": "code",
   "execution_count": 14,
   "id": "4bab1ca3-ba55-4b96-9840-14bfe09c3a6d",
   "metadata": {
    "tags": []
   },
   "outputs": [],
   "source": [
    "search_word = 'https://www.jobplanet.co.kr/job/search?_rs_act=index&_rs_con=search&_rs_element=see_more_job_postings_top&q=%EB%B6%84%EC%84%9D%EA%B0%80'\n",
    "browser.get(search_word)"
   ]
  },
  {
   "cell_type": "code",
   "execution_count": 5,
   "id": "274981bd-e092-41cd-ad95-846980e729a3",
   "metadata": {
    "tags": []
   },
   "outputs": [],
   "source": [
    "#브라우저 닫는 법 \n",
    "browser.quit()"
   ]
  },
  {
   "cell_type": "code",
   "execution_count": null,
   "id": "5d745880-33e4-497e-8738-d87061413772",
   "metadata": {},
   "outputs": [],
   "source": []
  }
 ],
 "metadata": {
  "kernelspec": {
   "display_name": "Python 3 (ipykernel)",
   "language": "python",
   "name": "python3"
  },
  "language_info": {
   "codemirror_mode": {
    "name": "ipython",
    "version": 3
   },
   "file_extension": ".py",
   "mimetype": "text/x-python",
   "name": "python",
   "nbconvert_exporter": "python",
   "pygments_lexer": "ipython3",
   "version": "3.11.3"
  }
 },
 "nbformat": 4,
 "nbformat_minor": 5
}
