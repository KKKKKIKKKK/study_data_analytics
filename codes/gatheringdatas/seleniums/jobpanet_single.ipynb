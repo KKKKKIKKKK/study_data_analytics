{
 "cells": [
  {
   "cell_type": "code",
   "execution_count": 1,
   "id": "0f44412e-d65d-4dbe-9edb-5b9c2bead986",
   "metadata": {},
   "outputs": [],
   "source": [
    "#2023-09-06(화)"
   ]
  },
  {
   "cell_type": "code",
   "execution_count": 8,
   "id": "eebf32c4-6626-4a5b-908d-aaecdea6dc19",
   "metadata": {
    "tags": []
   },
   "outputs": [],
   "source": [
    "from selenium import webdriver"
   ]
  },
  {
   "cell_type": "code",
   "execution_count": 9,
   "id": "aab6e13f-d864-4838-ae6a-37bb2e31dc57",
   "metadata": {
    "tags": []
   },
   "outputs": [],
   "source": [
    "# open Chrome browser.executable_path = 브라우저 여는 법 \n",
    "browser = webdriver.Chrome(executable_path='../../../../chromedriver.exe')"
   ]
  },
  {
   "cell_type": "code",
   "execution_count": 10,
   "id": "f0fffe5e-aae7-4a78-972f-a5637e57bf18",
   "metadata": {
    "tags": []
   },
   "outputs": [],
   "source": [
    "#'잡플래닛 /' 윈도우 창에 특정 주소 연결 \n",
    "# url in address window\n",
    "# enter 치면 새창 생성./#html css가 local로 가져옴 \n",
    "browser.get('https://www.jobplanet.co.kr/users/sign_in?_nav=gb')"
   ]
  },
  {
   "cell_type": "code",
   "execution_count": 11,
   "id": "c8d2c785-2307-48a3-ac3c-44515cb4cdb1",
   "metadata": {
    "tags": []
   },
   "outputs": [
    {
     "data": {
      "text/plain": [
       "True"
      ]
     },
     "execution_count": 11,
     "metadata": {},
     "output_type": "execute_result"
    }
   ],
   "source": [
    "browser.save_screenshot('./begginers.png')"
   ]
  },
  {
   "cell_type": "code",
   "execution_count": 5,
   "id": "274981bd-e092-41cd-ad95-846980e729a3",
   "metadata": {
    "tags": []
   },
   "outputs": [],
   "source": [
    "#브라우저 닫는 법 \n",
    "browser.quit()"
   ]
  },
  {
   "cell_type": "markdown",
   "id": "01b35866-3bac-4927-93d3-80ccaf17e6a5",
   "metadata": {},
   "source": [
    "# 2023-09-07(수)\n",
    "- 로그인할때 필요한 sign in 검사 \n",
    "- div > div > div > a.HeaderMenu-link.HeaderMenu-link--sign-in "
   ]
  },
  {
   "cell_type": "code",
   "execution_count": null,
   "id": "5d745880-33e4-497e-8738-d87061413772",
   "metadata": {},
   "outputs": [],
   "source": []
  }
 ],
 "metadata": {
  "kernelspec": {
   "display_name": "Python 3 (ipykernel)",
   "language": "python",
   "name": "python3"
  },
  "language_info": {
   "codemirror_mode": {
    "name": "ipython",
    "version": 3
   },
   "file_extension": ".py",
   "mimetype": "text/x-python",
   "name": "python",
   "nbconvert_exporter": "python",
   "pygments_lexer": "ipython3",
   "version": "3.11.3"
  }
 },
 "nbformat": 4,
 "nbformat_minor": 5
}
