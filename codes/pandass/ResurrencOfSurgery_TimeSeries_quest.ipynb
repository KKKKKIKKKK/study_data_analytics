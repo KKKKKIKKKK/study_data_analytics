{
 "cells": [
  {
   "cell_type": "code",
   "execution_count": 1,
   "id": "54a1856d-560a-4878-8f74-a998acccfce4",
   "metadata": {
    "tags": []
   },
   "outputs": [],
   "source": [
    "import matplotlib.pyplot as plt\n",
    "import matplotlib as mpl\n",
    "mpl.rc('font',family='Malgun Gothic')\n",
    "import seaborn as sns\n",
    "import pandas as pd\n",
    "import scipy.stats as stats"
   ]
  },
  {
   "cell_type": "code",
   "execution_count": 57,
   "id": "9de891b7-6b35-4db0-b567-a6c2c641eae1",
   "metadata": {
    "tags": []
   },
   "outputs": [
    {
     "data": {
      "text/html": [
       "<div>\n",
       "<style scoped>\n",
       "    .dataframe tbody tr th:only-of-type {\n",
       "        vertical-align: middle;\n",
       "    }\n",
       "\n",
       "    .dataframe tbody tr th {\n",
       "        vertical-align: top;\n",
       "    }\n",
       "\n",
       "    .dataframe thead th {\n",
       "        text-align: right;\n",
       "    }\n",
       "</style>\n",
       "<table border=\"1\" class=\"dataframe\">\n",
       "  <thead>\n",
       "    <tr style=\"text-align: right;\">\n",
       "      <th></th>\n",
       "      <th>Unnamed: 0</th>\n",
       "      <th>환자ID</th>\n",
       "      <th>Large Lymphocyte</th>\n",
       "      <th>Location of herniation</th>\n",
       "      <th>ODI</th>\n",
       "      <th>가족력</th>\n",
       "      <th>간질성폐질환</th>\n",
       "      <th>고혈압여부</th>\n",
       "      <th>과거수술횟수</th>\n",
       "      <th>당뇨여부</th>\n",
       "      <th>...</th>\n",
       "      <th>Modic change</th>\n",
       "      <th>PI</th>\n",
       "      <th>PT</th>\n",
       "      <th>Seg Angle(raw)</th>\n",
       "      <th>Vaccum disc</th>\n",
       "      <th>골밀도</th>\n",
       "      <th>디스크단면적</th>\n",
       "      <th>디스크위치</th>\n",
       "      <th>척추이동척도</th>\n",
       "      <th>척추전방위증</th>\n",
       "    </tr>\n",
       "  </thead>\n",
       "  <tbody>\n",
       "    <tr>\n",
       "      <th>0</th>\n",
       "      <td>0</td>\n",
       "      <td>1PT</td>\n",
       "      <td>22.8</td>\n",
       "      <td>3</td>\n",
       "      <td>51.0</td>\n",
       "      <td>0.0</td>\n",
       "      <td>0</td>\n",
       "      <td>0</td>\n",
       "      <td>0</td>\n",
       "      <td>0</td>\n",
       "      <td>...</td>\n",
       "      <td>3</td>\n",
       "      <td>51.6</td>\n",
       "      <td>36.6</td>\n",
       "      <td>14.4</td>\n",
       "      <td>0</td>\n",
       "      <td>-1.01</td>\n",
       "      <td>2048.5</td>\n",
       "      <td>4</td>\n",
       "      <td>Down</td>\n",
       "      <td>0</td>\n",
       "    </tr>\n",
       "    <tr>\n",
       "      <th>1</th>\n",
       "      <td>1</td>\n",
       "      <td>2PT</td>\n",
       "      <td>44.9</td>\n",
       "      <td>4</td>\n",
       "      <td>26.0</td>\n",
       "      <td>0.0</td>\n",
       "      <td>0</td>\n",
       "      <td>0</td>\n",
       "      <td>0</td>\n",
       "      <td>0</td>\n",
       "      <td>...</td>\n",
       "      <td>0</td>\n",
       "      <td>40.8</td>\n",
       "      <td>7.2</td>\n",
       "      <td>17.8</td>\n",
       "      <td>0</td>\n",
       "      <td>-1.14</td>\n",
       "      <td>1753.1</td>\n",
       "      <td>4</td>\n",
       "      <td>Up</td>\n",
       "      <td>0</td>\n",
       "    </tr>\n",
       "    <tr>\n",
       "      <th>2</th>\n",
       "      <td>2</td>\n",
       "      <td>3PT</td>\n",
       "      <td>53.0</td>\n",
       "      <td>3</td>\n",
       "      <td>NaN</td>\n",
       "      <td>0.0</td>\n",
       "      <td>0</td>\n",
       "      <td>0</td>\n",
       "      <td>1</td>\n",
       "      <td>0</td>\n",
       "      <td>...</td>\n",
       "      <td>0</td>\n",
       "      <td>67.5</td>\n",
       "      <td>27.3</td>\n",
       "      <td>10.2</td>\n",
       "      <td>0</td>\n",
       "      <td>-1.77</td>\n",
       "      <td>1749.0</td>\n",
       "      <td>4</td>\n",
       "      <td>Down</td>\n",
       "      <td>0</td>\n",
       "    </tr>\n",
       "  </tbody>\n",
       "</table>\n",
       "<p>3 rows × 52 columns</p>\n",
       "</div>"
      ],
      "text/plain": [
       "   Unnamed: 0 환자ID  Large Lymphocyte  Location of herniation   ODI  가족력  \\\n",
       "0           0  1PT              22.8                       3  51.0  0.0   \n",
       "1           1  2PT              44.9                       4  26.0  0.0   \n",
       "2           2  3PT              53.0                       3   NaN  0.0   \n",
       "\n",
       "   간질성폐질환  고혈압여부  과거수술횟수  당뇨여부  ...  Modic change    PI    PT  Seg Angle(raw)  \\\n",
       "0       0      0       0     0  ...             3  51.6  36.6            14.4   \n",
       "1       0      0       0     0  ...             0  40.8   7.2            17.8   \n",
       "2       0      0       1     0  ...             0  67.5  27.3            10.2   \n",
       "\n",
       "   Vaccum disc   골밀도  디스크단면적  디스크위치  척추이동척도  척추전방위증  \n",
       "0            0 -1.01  2048.5      4    Down       0  \n",
       "1            0 -1.14  1753.1      4      Up       0  \n",
       "2            0 -1.77  1749.0      4    Down       0  \n",
       "\n",
       "[3 rows x 52 columns]"
      ]
     },
     "execution_count": 57,
     "metadata": {},
     "output_type": "execute_result"
    }
   ],
   "source": [
    "df_ROS = pd.read_csv('../../datasets/RecurrenceOfSurgery.csv')\n",
    "df_ROS.head(3)"
   ]
  },
  {
   "cell_type": "code",
   "execution_count": 58,
   "id": "c79cf55c-9714-47c7-9f46-56b93f24537b",
   "metadata": {
    "tags": []
   },
   "outputs": [
    {
     "name": "stdout",
     "output_type": "stream",
     "text": [
      "<class 'pandas.core.frame.DataFrame'>\n",
      "RangeIndex: 1894 entries, 0 to 1893\n",
      "Data columns (total 52 columns):\n",
      " #   Column                  Non-Null Count  Dtype  \n",
      "---  ------                  --------------  -----  \n",
      " 0   Unnamed: 0              1894 non-null   int64  \n",
      " 1   환자ID                    1894 non-null   object \n",
      " 2   Large Lymphocyte        1894 non-null   float64\n",
      " 3   Location of herniation  1894 non-null   int64  \n",
      " 4   ODI                     462 non-null    float64\n",
      " 5   가족력                     1843 non-null   float64\n",
      " 6   간질성폐질환                  1894 non-null   int64  \n",
      " 7   고혈압여부                   1894 non-null   int64  \n",
      " 8   과거수술횟수                  1894 non-null   int64  \n",
      " 9   당뇨여부                    1894 non-null   int64  \n",
      " 10  말초동맥질환여부                1894 non-null   int64  \n",
      " 11  빈혈여부                    1894 non-null   int64  \n",
      " 12  성별                      1894 non-null   int64  \n",
      " 13  스테로이드치료                 1894 non-null   int64  \n",
      " 14  신부전여부                   1894 non-null   int64  \n",
      " 15  신장                      1894 non-null   int64  \n",
      " 16  심혈관질환                   1894 non-null   int64  \n",
      " 17  암발병여부                   1894 non-null   int64  \n",
      " 18  연령                      1894 non-null   int64  \n",
      " 19  우울증여부                   1894 non-null   int64  \n",
      " 20  입원기간                    1894 non-null   int64  \n",
      " 21  입원일자                    1894 non-null   int64  \n",
      " 22  종양진행여부                  1894 non-null   int64  \n",
      " 23  직업                      1479 non-null   object \n",
      " 24  체중                      1894 non-null   float64\n",
      " 25  퇴원일자                    1894 non-null   int64  \n",
      " 26  헤모글로빈수치                 1893 non-null   float64\n",
      " 27  혈전합병증여부                 1894 non-null   int64  \n",
      " 28  환자통증정도                  1894 non-null   int64  \n",
      " 29  흡연여부                    1894 non-null   int64  \n",
      " 30  통증기간(월)                 1890 non-null   float64\n",
      " 31  수술기법                    1813 non-null   object \n",
      " 32  수술시간                    1840 non-null   float64\n",
      " 33  수술실패여부                  1894 non-null   int64  \n",
      " 34  수술일자                    1894 non-null   int64  \n",
      " 35  재발여부                    1894 non-null   int64  \n",
      " 36  혈액형                     1894 non-null   object \n",
      " 37  전방디스크높이(mm)             1894 non-null   float64\n",
      " 38  후방디스크높이(mm)             1894 non-null   float64\n",
      " 39  지방축적도                   1891 non-null   float64\n",
      " 40  Instability             1894 non-null   int64  \n",
      " 41  MF + ES                 1894 non-null   float64\n",
      " 42  Modic change            1894 non-null   int64  \n",
      " 43  PI                      1890 non-null   float64\n",
      " 44  PT                      1890 non-null   float64\n",
      " 45  Seg Angle(raw)          1893 non-null   float64\n",
      " 46  Vaccum disc             1894 non-null   int64  \n",
      " 47  골밀도                     998 non-null    float64\n",
      " 48  디스크단면적                  1893 non-null   float64\n",
      " 49  디스크위치                   1894 non-null   int64  \n",
      " 50  척추이동척도                  1894 non-null   object \n",
      " 51  척추전방위증                  1894 non-null   int64  \n",
      "dtypes: float64(16), int64(31), object(5)\n",
      "memory usage: 769.6+ KB\n"
     ]
    }
   ],
   "source": [
    "#info 정보보기. \n",
    "df_ROS.info()"
   ]
  },
  {
   "cell_type": "markdown",
   "id": "357414aa-85be-427e-98da-300e4b0ba92a",
   "metadata": {},
   "source": [
    "### 입원일자 데이터 타입 변환\n",
    "- int, float -> str(object)\n",
    "- object -> int or float (소수점 있을 경우 float)"
   ]
  },
  {
   "cell_type": "code",
   "execution_count": 59,
   "id": "941ce4ca-726b-4ce3-a3b6-7d8d15d7b034",
   "metadata": {
    "tags": []
   },
   "outputs": [
    {
     "data": {
      "text/plain": [
       "Unnamed: 0                  int64\n",
       "환자ID                       object\n",
       "Large Lymphocyte          float64\n",
       "Location of herniation      int64\n",
       "ODI                       float64\n",
       "가족력                       float64\n",
       "간질성폐질환                      int64\n",
       "고혈압여부                       int64\n",
       "과거수술횟수                      int64\n",
       "당뇨여부                        int64\n",
       "말초동맥질환여부                    int64\n",
       "빈혈여부                        int64\n",
       "성별                          int64\n",
       "스테로이드치료                     int64\n",
       "신부전여부                       int64\n",
       "신장                          int64\n",
       "심혈관질환                       int64\n",
       "암발병여부                       int64\n",
       "연령                          int64\n",
       "우울증여부                       int64\n",
       "입원기간                        int64\n",
       "입원일자                       object\n",
       "종양진행여부                      int64\n",
       "직업                         object\n",
       "체중                        float64\n",
       "퇴원일자                        int64\n",
       "헤모글로빈수치                   float64\n",
       "혈전합병증여부                     int64\n",
       "환자통증정도                      int64\n",
       "흡연여부                        int64\n",
       "통증기간(월)                   float64\n",
       "수술기법                       object\n",
       "수술시간                      float64\n",
       "수술실패여부                      int64\n",
       "수술일자                        int64\n",
       "재발여부                        int64\n",
       "혈액형                        object\n",
       "전방디스크높이(mm)               float64\n",
       "후방디스크높이(mm)               float64\n",
       "지방축적도                     float64\n",
       "Instability                 int64\n",
       "MF + ES                   float64\n",
       "Modic change                int64\n",
       "PI                        float64\n",
       "PT                        float64\n",
       "Seg Angle(raw)            float64\n",
       "Vaccum disc                 int64\n",
       "골밀도                       float64\n",
       "디스크단면적                    float64\n",
       "디스크위치                       int64\n",
       "척추이동척도                     object\n",
       "척추전방위증                      int64\n",
       "dtype: object"
      ]
     },
     "execution_count": 59,
     "metadata": {},
     "output_type": "execute_result"
    }
   ],
   "source": [
    "df_ROS['입원일자']=df_ROS['입원일자'].astype(str)\n",
    "df_ROS.dtypes"
   ]
  },
  {
   "cell_type": "code",
   "execution_count": 60,
   "id": "aa5b085f-88a3-4596-9085-604c001803d5",
   "metadata": {
    "tags": []
   },
   "outputs": [
    {
     "data": {
      "text/html": [
       "<div>\n",
       "<style scoped>\n",
       "    .dataframe tbody tr th:only-of-type {\n",
       "        vertical-align: middle;\n",
       "    }\n",
       "\n",
       "    .dataframe tbody tr th {\n",
       "        vertical-align: top;\n",
       "    }\n",
       "\n",
       "    .dataframe thead th {\n",
       "        text-align: right;\n",
       "    }\n",
       "</style>\n",
       "<table border=\"1\" class=\"dataframe\">\n",
       "  <thead>\n",
       "    <tr style=\"text-align: right;\">\n",
       "      <th></th>\n",
       "      <th>환자ID</th>\n",
       "      <th>입원일자</th>\n",
       "      <th>직업</th>\n",
       "      <th>수술기법</th>\n",
       "      <th>혈액형</th>\n",
       "      <th>척추이동척도</th>\n",
       "    </tr>\n",
       "  </thead>\n",
       "  <tbody>\n",
       "    <tr>\n",
       "      <th>count</th>\n",
       "      <td>1894</td>\n",
       "      <td>1894</td>\n",
       "      <td>1479</td>\n",
       "      <td>1813</td>\n",
       "      <td>1894</td>\n",
       "      <td>1894</td>\n",
       "    </tr>\n",
       "    <tr>\n",
       "      <th>unique</th>\n",
       "      <td>1894</td>\n",
       "      <td>1051</td>\n",
       "      <td>17</td>\n",
       "      <td>2</td>\n",
       "      <td>4</td>\n",
       "      <td>5</td>\n",
       "    </tr>\n",
       "    <tr>\n",
       "      <th>top</th>\n",
       "      <td>1PT</td>\n",
       "      <td>20190129</td>\n",
       "      <td>사무직</td>\n",
       "      <td>TELD</td>\n",
       "      <td>RH+A</td>\n",
       "      <td>Middle</td>\n",
       "    </tr>\n",
       "    <tr>\n",
       "      <th>freq</th>\n",
       "      <td>1</td>\n",
       "      <td>23</td>\n",
       "      <td>449</td>\n",
       "      <td>1673</td>\n",
       "      <td>688</td>\n",
       "      <td>1260</td>\n",
       "    </tr>\n",
       "  </tbody>\n",
       "</table>\n",
       "</div>"
      ],
      "text/plain": [
       "        환자ID      입원일자    직업  수술기법   혈액형  척추이동척도\n",
       "count   1894      1894  1479  1813  1894    1894\n",
       "unique  1894      1051    17     2     4       5\n",
       "top      1PT  20190129   사무직  TELD  RH+A  Middle\n",
       "freq       1        23   449  1673   688    1260"
      ]
     },
     "execution_count": 60,
     "metadata": {},
     "output_type": "execute_result"
    }
   ],
   "source": [
    "#날짜를 기준으로 describe() 하면 안나오니, include = object를 하면 날짜에 관련된 내용 나옴 \n",
    "df_ROS.describe(include = object)"
   ]
  },
  {
   "cell_type": "code",
   "execution_count": 61,
   "id": "90ecdfd9-866a-4ae5-bb3c-c4e2c3e33577",
   "metadata": {
    "tags": []
   },
   "outputs": [],
   "source": [
    "df_ROS['입원일자_datetime'] = pd.to_datetime(df_ROS['입원일자'])"
   ]
  },
  {
   "cell_type": "code",
   "execution_count": 62,
   "id": "ecbff156-baea-4505-ae54-3119b7cd9ffb",
   "metadata": {
    "tags": []
   },
   "outputs": [
    {
     "data": {
      "text/plain": [
       "0   2019-07-13\n",
       "1   2019-07-15\n",
       "2   2019-07-29\n",
       "3   2019-07-31\n",
       "4   2019-09-03\n",
       "5   2019-09-05\n",
       "6   2019-06-22\n",
       "7   2019-03-30\n",
       "8   2019-12-03\n",
       "9   2019-12-10\n",
       "Name: 입원일자_datetime, dtype: datetime64[ns]"
      ]
     },
     "execution_count": 62,
     "metadata": {},
     "output_type": "execute_result"
    }
   ],
   "source": [
    "df_ROS['입원일자_datetime'][:10]"
   ]
  },
  {
   "cell_type": "code",
   "execution_count": 14,
   "id": "f0032507-dce0-4d23-86cb-7802879603cd",
   "metadata": {
    "tags": []
   },
   "outputs": [
    {
     "data": {
      "text/html": [
       "<div>\n",
       "<style scoped>\n",
       "    .dataframe tbody tr th:only-of-type {\n",
       "        vertical-align: middle;\n",
       "    }\n",
       "\n",
       "    .dataframe tbody tr th {\n",
       "        vertical-align: top;\n",
       "    }\n",
       "\n",
       "    .dataframe thead th {\n",
       "        text-align: right;\n",
       "    }\n",
       "</style>\n",
       "<table border=\"1\" class=\"dataframe\">\n",
       "  <thead>\n",
       "    <tr style=\"text-align: right;\">\n",
       "      <th></th>\n",
       "      <th>Unnamed: 0</th>\n",
       "      <th>환자ID</th>\n",
       "      <th>Large Lymphocyte</th>\n",
       "      <th>Location of herniation</th>\n",
       "      <th>ODI</th>\n",
       "      <th>가족력</th>\n",
       "      <th>간질성폐질환</th>\n",
       "      <th>고혈압여부</th>\n",
       "      <th>과거수술횟수</th>\n",
       "      <th>당뇨여부</th>\n",
       "      <th>...</th>\n",
       "      <th>Seg Angle(raw)</th>\n",
       "      <th>Vaccum disc</th>\n",
       "      <th>골밀도</th>\n",
       "      <th>디스크단면적</th>\n",
       "      <th>디스크위치</th>\n",
       "      <th>척추이동척도</th>\n",
       "      <th>척추전방위증</th>\n",
       "      <th>입원일자_datetime</th>\n",
       "      <th>입원일자_datetime_week</th>\n",
       "      <th>퇴원일자_datetime</th>\n",
       "    </tr>\n",
       "  </thead>\n",
       "  <tbody>\n",
       "    <tr>\n",
       "      <th>0</th>\n",
       "      <td>0</td>\n",
       "      <td>1PT</td>\n",
       "      <td>22.8</td>\n",
       "      <td>3</td>\n",
       "      <td>51.0</td>\n",
       "      <td>0.0</td>\n",
       "      <td>0</td>\n",
       "      <td>0</td>\n",
       "      <td>0</td>\n",
       "      <td>0</td>\n",
       "      <td>...</td>\n",
       "      <td>14.4</td>\n",
       "      <td>0</td>\n",
       "      <td>-1.01</td>\n",
       "      <td>2048.5</td>\n",
       "      <td>4</td>\n",
       "      <td>Down</td>\n",
       "      <td>0</td>\n",
       "      <td>1970-01-01 00:00:00.020190713</td>\n",
       "      <td>1</td>\n",
       "      <td>1970-01-01 00:00:00.020190716</td>\n",
       "    </tr>\n",
       "    <tr>\n",
       "      <th>1</th>\n",
       "      <td>1</td>\n",
       "      <td>2PT</td>\n",
       "      <td>44.9</td>\n",
       "      <td>4</td>\n",
       "      <td>26.0</td>\n",
       "      <td>0.0</td>\n",
       "      <td>0</td>\n",
       "      <td>0</td>\n",
       "      <td>0</td>\n",
       "      <td>0</td>\n",
       "      <td>...</td>\n",
       "      <td>17.8</td>\n",
       "      <td>0</td>\n",
       "      <td>-1.14</td>\n",
       "      <td>1753.1</td>\n",
       "      <td>4</td>\n",
       "      <td>Up</td>\n",
       "      <td>0</td>\n",
       "      <td>1970-01-01 00:00:00.020190715</td>\n",
       "      <td>1</td>\n",
       "      <td>1970-01-01 00:00:00.020190716</td>\n",
       "    </tr>\n",
       "  </tbody>\n",
       "</table>\n",
       "<p>2 rows × 55 columns</p>\n",
       "</div>"
      ],
      "text/plain": [
       "   Unnamed: 0 환자ID  Large Lymphocyte  Location of herniation   ODI  가족력  \\\n",
       "0           0  1PT              22.8                       3  51.0  0.0   \n",
       "1           1  2PT              44.9                       4  26.0  0.0   \n",
       "\n",
       "   간질성폐질환  고혈압여부  과거수술횟수  당뇨여부  ...  Seg Angle(raw)  Vaccum disc   골밀도  \\\n",
       "0       0      0       0     0  ...            14.4            0 -1.01   \n",
       "1       0      0       0     0  ...            17.8            0 -1.14   \n",
       "\n",
       "   디스크단면적  디스크위치  척추이동척도  척추전방위증                 입원일자_datetime  \\\n",
       "0  2048.5      4    Down       0 1970-01-01 00:00:00.020190713   \n",
       "1  1753.1      4      Up       0 1970-01-01 00:00:00.020190715   \n",
       "\n",
       "   입원일자_datetime_week                 퇴원일자_datetime  \n",
       "0                   1 1970-01-01 00:00:00.020190716  \n",
       "1                   1 1970-01-01 00:00:00.020190716  \n",
       "\n",
       "[2 rows x 55 columns]"
      ]
     },
     "execution_count": 14,
     "metadata": {},
     "output_type": "execute_result"
    }
   ],
   "source": [
    "df_ROS[:2]"
   ]
  },
  {
   "cell_type": "markdown",
   "id": "78c24671-0dce-4749-b8b5-f9a4973736cd",
   "metadata": {},
   "source": [
    "### 주차별 입원일자_datetime_week"
   ]
  },
  {
   "cell_type": "code",
   "execution_count": 15,
   "id": "68ee96a8-3c29-491c-aaba-5c993438e479",
   "metadata": {
    "tags": []
   },
   "outputs": [],
   "source": [
    "df_ROS['입원일자_datetime_week'] = df_ROS['입원일자_datetime'].dt.isocalendar().week\n",
    "df_ROS['퇴원일자_datetime_week'] = df_ROS['퇴원일자_datetime'].dt.isocalendar().week"
   ]
  },
  {
   "cell_type": "code",
   "execution_count": 19,
   "id": "226336b0-2e74-4f6b-a939-777803604c84",
   "metadata": {
    "tags": []
   },
   "outputs": [],
   "source": [
    "pivot_table1 = pd.pivot_table(data=df_ROS, index='입원일자_datetime', values='입원일자_datetime_week', aggfunc='count')\n",
    "pivot_table2 = pd.pivot_table(data=df_ROS, index='퇴원일자_datetime', values='입원일자_datetime_week', aggfunc='count')"
   ]
  },
  {
   "cell_type": "code",
   "execution_count": 42,
   "id": "612d91b8-ef4b-48f6-8077-3b5cf61ca2d9",
   "metadata": {
    "tags": []
   },
   "outputs": [
    {
     "data": {
      "image/png": "[encoded data removed]",
      "text/plain": [
       "<Figure size 640x480 with 1 Axes>"
      ]
     },
     "metadata": {},
     "output_type": "display_data"
    },
    {
     "data": {
      "image/png": "[encoded data removed]",
      "text/plain": [
       "<Figure size 640x480 with 1 Axes>"
      ]
     },
     "metadata": {},
     "output_type": "display_data"
    }
   ],
   "source": [
    "pivot_table1.plot(kind='bar', title='입원일자_datetime_week')\n",
    "pivot_table2.plot(kind='bar', title='퇴원일자_datetime_week')\n",
    "plt.show()"
   ]
  },
  {
   "cell_type": "code",
   "execution_count": 45,
   "id": "e0db2205-06ef-4ea7-a969-93e38746be20",
   "metadata": {
    "tags": []
   },
   "outputs": [
    {
     "data": {
      "image/png": "[encoded data removed]",
      "text/plain": [
       "<Figure size 640x480 with 1 Axes>"
      ]
     },
     "metadata": {},
     "output_type": "display_data"
    }
   ],
   "source": [
    "pivot_table_admission = pd.pivot_table(data=df_ROS, index='입원일자_datetime', values='입원일자_datetime_week', aggfunc='count')\n",
    "pivot_table_discharge = pd.pivot_table(data=df_ROS, index='퇴원일자_datetime', values='퇴원일자_datetime_week', aggfunc='count')\n",
    "\n",
    "# Merge the pivot tables on the common week index\n",
    "merged_pivot = pd.concat([pivot_table_admission, pivot_table_discharge], axis=1)\n",
    "merged_pivot.columns = ['입원일자_datetime_week', '퇴원일자_datetime_week']\n",
    "\n",
    "# Plot the merged pivot table\n",
    "merged_pivot.plot(kind='bar')\n",
    "plt.title('week by 입원일자_datetime and 퇴원일자_datetime')\n",
    "plt.xlabel('일자_datetime')\n",
    "plt.ylabel('datetime_week')\n",
    "\n",
    "# Show the plot\n",
    "plt.show()"
   ]
  },
  {
   "cell_type": "code",
   "execution_count": 43,
   "id": "ed56427c-101e-492c-b0f0-7aad4b49dc32",
   "metadata": {
    "tags": []
   },
   "outputs": [
    {
     "data": {
      "image/png": "[encoded data removed]",
      "text/plain": [
       "<Figure size 640x480 with 1 Axes>"
      ]
     },
     "metadata": {},
     "output_type": "display_data"
    }
   ],
   "source": [
    "# 2차 방법(단순 시각화)\n",
    "sns.barplot(data=df_ROS, x='입원일자_datetime', y='입원일자_datetime_week', estimator=sum)\n",
    "sns.barplot(data=df_ROS, x='퇴원일자_datetime', y='퇴원일자_datetime_week', estimator=sum)\n",
    "\n",
    "plt.show()"
   ]
  },
  {
   "cell_type": "code",
   "execution_count": 52,
   "id": "313b7ffb-814a-43c9-822a-f07d8780f130",
   "metadata": {
    "tags": []
   },
   "outputs": [],
   "source": [
    "# 주말 출력\n",
    "df_ROS['입원일자_datetime_week'] = df_ROS['입원일자_datetime'].dt.isocalendar().week\n",
    "df_ROS['퇴원일자_datetime_week'] = df_ROS['퇴원일자_datetime'].dt.isocalendar().week"
   ]
  },
  {
   "cell_type": "code",
   "execution_count": 55,
   "id": "bb7cddd0-4567-4186-9ba4-e3c36865d160",
   "metadata": {
    "tags": []
   },
   "outputs": [
    {
     "data": {
      "text/plain": [
       "<Axes: xlabel='입원일자_datetime', ylabel='입원일자_datetime_week'>"
      ]
     },
     "execution_count": 55,
     "metadata": {},
     "output_type": "execute_result"
    },
    {
     "data": {
      "image/png": "[encoded data removed]",
      "text/plain": [
       "<Figure size 640x480 with 1 Axes>"
      ]
     },
     "metadata": {},
     "output_type": "display_data"
    }
   ],
   "source": [
    "sns.lineplot(data=df_ROS, x='입원일자_datetime', y='입원일자_datetime_week', estimator=sum)\n",
    "sns.lineplot(data=df_ROS, x='퇴원일자_datetime', y='퇴원일자_datetime_week', estimator=sum)"
   ]
  },
  {
   "cell_type": "markdown",
   "id": "c721f66e-e65b-4b98-88da-23750ff6d63a",
   "metadata": {
    "tags": []
   },
   "source": [
    "### 요일별 입퇴원일자 시각화 "
   ]
  },
  {
   "cell_type": "code",
   "execution_count": null,
   "id": "f534b0a9-8b65-4aaf-a842-a4a956f2200b",
   "metadata": {},
   "outputs": [],
   "source": []
  }
 ],
 "metadata": {
  "kernelspec": {
   "display_name": "Python 3 (ipykernel)",
   "language": "python",
   "name": "python3"
  },
  "language_info": {
   "codemirror_mode": {
    "name": "ipython",
    "version": 3
   },
   "file_extension": ".py",
   "mimetype": "text/x-python",
   "name": "python",
   "nbconvert_exporter": "python",
   "pygments_lexer": "ipython3",
   "version": "3.11.3"
  }
 },
 "nbformat": 4,
 "nbformat_minor": 5
}
