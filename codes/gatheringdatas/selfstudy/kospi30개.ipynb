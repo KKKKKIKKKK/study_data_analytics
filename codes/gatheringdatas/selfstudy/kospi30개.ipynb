{
 "cells": [
  {
   "cell_type": "code",
   "execution_count": 1,
   "id": "88be158b-dbe3-410c-8315-191ac0544046",
   "metadata": {
    "tags": []
   },
   "outputs": [],
   "source": [
    "from selenium import webdriver\n",
    "from selenium.webdriver.common.by import By\n",
    "import time\n",
    "import pandas as pd  # pandas 라이브러리를 import합니다.\n",
    "import pymongo as mg\n",
    "import os"
   ]
  },
  {
   "cell_type": "code",
   "execution_count": 2,
   "id": "35348bc4-ee0c-43ad-98e6-4cb55566cac1",
   "metadata": {
    "tags": []
   },
   "outputs": [],
   "source": [
    "# open Chrome browser.executable_path = 브라우저 여는 법 \n",
    "browser = webdriver.Chrome(executable_path='../../../../chromedriver.exe')"
   ]
  },
  {
   "cell_type": "code",
   "execution_count": 3,
   "id": "0eb2620e-7f23-4e32-a388-a9bf1a8a2fc6",
   "metadata": {
    "tags": []
   },
   "outputs": [],
   "source": [
    "browser.implicitly_wait(10)\n",
    "url = 'https://finance.naver.com/sise/sise_market_sum.naver?&page='\n",
    "browser.get(url)\n",
    "browser.maximize_window() #창 최대화 "
   ]
  },
  {
   "cell_type": "code",
   "execution_count": 13,
   "id": "82e9e3de-04e8-4409-8b5c-e53d204ba77b",
   "metadata": {
    "tags": []
   },
   "outputs": [],
   "source": [
    "# 2. 체크되어 있는 항목 체크 해제 하기 \n",
    "checkboxes = browser.find_elements(By.NAME,'fieldIds')\n",
    "#반복문을 통해서 체크박스가 선택된 상태라면 \n",
    "for checkbox in checkboxes: \n",
    "    if checkbox.is_selected(): # 만약 체크박스가 선택된 상태인지 확인하기. true면 체크 없애주기. \n",
    "        checkbox.click()      #체크 메쏘드 불러서 (체크 해제하기)"
   ]
  },
  {
   "cell_type": "code",
   "execution_count": 14,
   "id": "e5024f9c-9317-412b-900b-0d349ba74549",
   "metadata": {
    "tags": []
   },
   "outputs": [],
   "source": [
    "# 3. 원하는 항목 리스트(list)에 담아서 체크하기(원하는 항목) \n",
    "items_to_select = ['영업이익', '자산총계' ,'매출액']  #리스트 형태로 [] 대괄호 적기. \n",
    "for checkbox in checkboxes: \n",
    "    parent = checkbox.find_element(By.XPATH,'..') #부모는 xpass로 갈 수 있엉. input type형제로부터 부모 찾을거야 \n",
    "    label = parent.find_element(By.TAG_NAME, 'label') #label이라는 태그를 찾아서 label에 반환해준다. \n",
    "    #print(label.text) #전체 확인용 \n",
    "    if label.text in items_to_select: #label 이 items_to_select 리스트에 포함되어있다면 즉 선택항목과 일치한다면 \n",
    "        checkbox.click() #체크해서 출력해줘 "
   ]
  },
  {
   "cell_type": "code",
   "execution_count": 15,
   "id": "38d73ce7-74f1-4d81-8076-bebfed1f414c",
   "metadata": {
    "tags": []
   },
   "outputs": [],
   "source": [
    "#4. 적용하기 버튼 (이미지 위에 a tag) \n",
    "btn_apply = browser.find_element(By.XPATH, '//a[@href=\"javascript:fieldSubmit()\"]')# @href 속성 찾기\n",
    "btn_apply.click() # 버튼클릭 "
   ]
  },
  {
   "cell_type": "code",
   "execution_count": 16,
   "id": "567dc7ef-cfa3-4a24-a109-f179bf641ce3",
   "metadata": {
    "tags": []
   },
   "outputs": [
    {
     "name": "stdout",
     "output_type": "stream",
     "text": [
      "Requirement already satisfied: lxml in c:\\users\\5-20\\anaconda3\\lib\\site-packages (4.9.2)\n",
      "Note: you may need to restart the kernel to use updated packages.\n"
     ]
    }
   ],
   "source": [
    "pip install lxml"
   ]
  },
  {
   "cell_type": "code",
   "execution_count": 17,
   "id": "d83e2e2f-c4c0-4a27-bae7-0650d859011c",
   "metadata": {
    "tags": []
   },
   "outputs": [
    {
     "ename": "NameError",
     "evalue": "name 'df' is not defined",
     "output_type": "error",
     "traceback": [
      "\u001b[1;31m---------------------------------------------------------------------------\u001b[0m",
      "\u001b[1;31mNameError\u001b[0m                                 Traceback (most recent call last)",
      "Cell \u001b[1;32mIn[17], line 1\u001b[0m\n\u001b[1;32m----> 1\u001b[0m \u001b[38;5;28mlen\u001b[39m(df)\n",
      "\u001b[1;31mNameError\u001b[0m: name 'df' is not defined"
     ]
    }
   ],
   "source": [
    "len(df) #len으로 해당테이블에 3개 존재 "
   ]
  },
  {
   "cell_type": "code",
   "execution_count": null,
   "id": "8ad0d1fc-a334-4312-97d3-00c0192d09a1",
   "metadata": {
    "tags": []
   },
   "outputs": [],
   "source": [
    "df[0]"
   ]
  },
  {
   "cell_type": "code",
   "execution_count": 18,
   "id": "fa5b0ca0-e524-4ec1-9cc3-8975c8de634e",
   "metadata": {
    "tags": []
   },
   "outputs": [
    {
     "name": "stdout",
     "output_type": "stream",
     "text": [
      "1 페이지완료\n",
      "2 페이지완료\n",
      "3 페이지완료\n",
      "4 페이지완료\n",
      "5 페이지완료\n",
      "6 페이지완료\n",
      "7 페이지완료\n",
      "8 페이지완료\n",
      "9 페이지완료\n",
      "10 페이지완료\n",
      "11 페이지완료\n",
      "12 페이지완료\n",
      "13 페이지완료\n",
      "14 페이지완료\n",
      "15 페이지완료\n",
      "16 페이지완료\n",
      "17 페이지완료\n",
      "18 페이지완료\n",
      "19 페이지완료\n",
      "20 페이지완료\n",
      "21 페이지완료\n",
      "22 페이지완료\n",
      "23 페이지완료\n",
      "24 페이지완료\n",
      "25 페이지완료\n",
      "26 페이지완료\n",
      "27 페이지완료\n",
      "28 페이지완료\n",
      "29 페이지완료\n",
      "30 페이지완료\n",
      "31 페이지완료\n",
      "32 페이지완료\n",
      "33 페이지완료\n",
      "34 페이지완료\n",
      "35 페이지완료\n",
      "36 페이지완료\n",
      "37 페이지완료\n",
      "38 페이지완료\n",
      "39 페이지완료\n"
     ]
    }
   ],
   "source": [
    "for idx in range(1,40): #1 이상 20미만 페이지 반복 \n",
    "# ★사전작업 :1페이지이후 2페이지로 이동이 필요함. \n",
    "    #페이지이동후 데이터추출하고 페이지이동하고 데이터추출 \n",
    "    browser.get(url + str(idx)) #반복문도 똑같이 url 넣기 ..&page= 1 +2+3+4..이 작업 진행\n",
    "\n",
    "#5.테이블만 끌고오는 방법 찾기. 데이터 추출 \n",
    "    df = pd.read_html(browser.page_source)[1]\n",
    "    df.dropna(axis='index', how='all', inplace=True) #결측치 제거  all(줄 전체가 비어있으면 모두 지워라) \n",
    "    df.dropna(axis='columns', how='all', inplace=True)  #행||| 칼럼 결측치 제거  all(줄 전체가 비어있으면 모두 지워라) \n",
    "    if len(df) == 0: #더이상 가져올 데이터가 없으면 탈출\n",
    "        break\n",
    "        \n",
    "     #NAN 데이터가 없어서 결측치로 날려야함. \n",
    "    #6.파일저장하기.\n",
    "    f_name = 'sise.csv'\n",
    "    if os.path.exists(f_name): #파일이 있다면 ? 헤더제외 \n",
    "        df.to_csv(f_name, encoding='utf-8-sig', index=False, mode='a', header=False)\n",
    "    else:# 파일이 없다면 헤더를 포함해야함\n",
    "        df.to_csv(f_name, encoding='utf-8-sig', index=False)\n",
    "    print(f'{idx} 페이지완료') #1페이지 끝나면 페이지 완료 나옴\n",
    "\n",
    "browser.quit()"
   ]
  },
  {
   "cell_type": "code",
   "execution_count": 14,
   "id": "6068b92e-363f-43bf-b5fc-8f054388e3ce",
   "metadata": {
    "tags": []
   },
   "outputs": [],
   "source": [
    "#6.파일저장하기.\n",
    "f_name = 'sises.csv'\n",
    "if os.path.exists(f_name): #파일이 있다면 ? 헤더제외 \n",
    "    df.to_csv(f_name, encoding='utf-8-sig', index=False, mode='a', header=False)\n",
    "else:# 파일이 없다면 헤더를 포함해야함\n",
    "    df.to_csv(f_name, encoding='utf-8-sig', index=False)"
   ]
  },
  {
   "cell_type": "code",
   "execution_count": null,
   "id": "f32e5d96-345a-4abc-9769-36c6dffd2bfb",
   "metadata": {},
   "outputs": [],
   "source": []
  }
 ],
 "metadata": {
  "kernelspec": {
   "display_name": "Python 3 (ipykernel)",
   "language": "python",
   "name": "python3"
  },
  "language_info": {
   "codemirror_mode": {
    "name": "ipython",
    "version": 3
   },
   "file_extension": ".py",
   "mimetype": "text/x-python",
   "name": "python",
   "nbconvert_exporter": "python",
   "pygments_lexer": "ipython3",
   "version": "3.11.3"
  }
 },
 "nbformat": 4,
 "nbformat_minor": 5
}
