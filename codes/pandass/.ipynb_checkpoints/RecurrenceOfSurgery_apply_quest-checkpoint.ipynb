{
 "cells": [
  {
   "cell_type": "code",
   "execution_count": 58,
   "id": "f4441b66-921d-409a-ad7c-dbf28ff08919",
   "metadata": {},
   "outputs": [],
   "source": [
    "import matplotlib.pyplot as plt\n",
    "import matplotlib as mpl\n",
    "mpl.rc('font',family='Malgun Gothic')\n",
    "import seaborn as sns\n",
    "import pandas as pd\n",
    "import numpy as np\n",
    "import scipy.stats as stats"
   ]
  },
  {
   "cell_type": "code",
   "execution_count": 3,
   "id": "40d76864-b434-4872-9a23-db7f3c86652f",
   "metadata": {
    "tags": []
   },
   "outputs": [],
   "source": [
    "### RecurrenceOfSurgery List 1"
   ]
  },
  {
   "cell_type": "code",
   "execution_count": 78,
   "id": "fc493989-0be0-44ee-b41d-4b41afabd1a6",
   "metadata": {
    "tags": []
   },
   "outputs": [
    {
     "data": {
      "text/html": [
       "<div>\n",
       "<style scoped>\n",
       "    .dataframe tbody tr th:only-of-type {\n",
       "        vertical-align: middle;\n",
       "    }\n",
       "\n",
       "    .dataframe tbody tr th {\n",
       "        vertical-align: top;\n",
       "    }\n",
       "\n",
       "    .dataframe thead th {\n",
       "        text-align: right;\n",
       "    }\n",
       "</style>\n",
       "<table border=\"1\" class=\"dataframe\">\n",
       "  <thead>\n",
       "    <tr style=\"text-align: right;\">\n",
       "      <th></th>\n",
       "      <th>Unnamed: 0</th>\n",
       "      <th>환자ID</th>\n",
       "      <th>Large Lymphocyte</th>\n",
       "      <th>Location of herniation</th>\n",
       "      <th>ODI</th>\n",
       "      <th>가족력</th>\n",
       "      <th>간질성폐질환</th>\n",
       "      <th>고혈압여부</th>\n",
       "      <th>과거수술횟수</th>\n",
       "      <th>당뇨여부</th>\n",
       "      <th>...</th>\n",
       "      <th>Modic change</th>\n",
       "      <th>PI</th>\n",
       "      <th>PT</th>\n",
       "      <th>Seg Angle(raw)</th>\n",
       "      <th>Vaccum disc</th>\n",
       "      <th>골밀도</th>\n",
       "      <th>디스크단면적</th>\n",
       "      <th>디스크위치</th>\n",
       "      <th>척추이동척도</th>\n",
       "      <th>척추전방위증</th>\n",
       "    </tr>\n",
       "  </thead>\n",
       "  <tbody>\n",
       "    <tr>\n",
       "      <th>0</th>\n",
       "      <td>0</td>\n",
       "      <td>1PT</td>\n",
       "      <td>22.8</td>\n",
       "      <td>3</td>\n",
       "      <td>51.0</td>\n",
       "      <td>0.0</td>\n",
       "      <td>0</td>\n",
       "      <td>0</td>\n",
       "      <td>0</td>\n",
       "      <td>0</td>\n",
       "      <td>...</td>\n",
       "      <td>3</td>\n",
       "      <td>51.6</td>\n",
       "      <td>36.6</td>\n",
       "      <td>14.4</td>\n",
       "      <td>0</td>\n",
       "      <td>-1.01</td>\n",
       "      <td>2048.5</td>\n",
       "      <td>4</td>\n",
       "      <td>Down</td>\n",
       "      <td>0</td>\n",
       "    </tr>\n",
       "    <tr>\n",
       "      <th>1</th>\n",
       "      <td>1</td>\n",
       "      <td>2PT</td>\n",
       "      <td>44.9</td>\n",
       "      <td>4</td>\n",
       "      <td>26.0</td>\n",
       "      <td>0.0</td>\n",
       "      <td>0</td>\n",
       "      <td>0</td>\n",
       "      <td>0</td>\n",
       "      <td>0</td>\n",
       "      <td>...</td>\n",
       "      <td>0</td>\n",
       "      <td>40.8</td>\n",
       "      <td>7.2</td>\n",
       "      <td>17.8</td>\n",
       "      <td>0</td>\n",
       "      <td>-1.14</td>\n",
       "      <td>1753.1</td>\n",
       "      <td>4</td>\n",
       "      <td>Up</td>\n",
       "      <td>0</td>\n",
       "    </tr>\n",
       "  </tbody>\n",
       "</table>\n",
       "<p>2 rows × 52 columns</p>\n",
       "</div>"
      ],
      "text/plain": [
       "   Unnamed: 0 환자ID  Large Lymphocyte  Location of herniation   ODI  가족력  \\\n",
       "0           0  1PT              22.8                       3  51.0  0.0   \n",
       "1           1  2PT              44.9                       4  26.0  0.0   \n",
       "\n",
       "   간질성폐질환  고혈압여부  과거수술횟수  당뇨여부  ...  Modic change    PI    PT  Seg Angle(raw)  \\\n",
       "0       0      0       0     0  ...             3  51.6  36.6            14.4   \n",
       "1       0      0       0     0  ...             0  40.8   7.2            17.8   \n",
       "\n",
       "   Vaccum disc   골밀도  디스크단면적  디스크위치  척추이동척도  척추전방위증  \n",
       "0            0 -1.01  2048.5      4    Down       0  \n",
       "1            0 -1.14  1753.1      4      Up       0  \n",
       "\n",
       "[2 rows x 52 columns]"
      ]
     },
     "execution_count": 78,
     "metadata": {},
     "output_type": "execute_result"
    }
   ],
   "source": [
    "df_ROS = pd.read_csv('../../datasets/RecurrenceOfSurgery.csv')\n",
    "df_ROS[:2]"
   ]
  },
  {
   "cell_type": "code",
   "execution_count": 89,
   "id": "0c2608d5-48db-42ac-bad2-ac28a571a117",
   "metadata": {
    "tags": []
   },
   "outputs": [
    {
     "data": {
      "text/html": [
       "<div>\n",
       "<style scoped>\n",
       "    .dataframe tbody tr th:only-of-type {\n",
       "        vertical-align: middle;\n",
       "    }\n",
       "\n",
       "    .dataframe tbody tr th {\n",
       "        vertical-align: top;\n",
       "    }\n",
       "\n",
       "    .dataframe thead th {\n",
       "        text-align: right;\n",
       "    }\n",
       "</style>\n",
       "<table border=\"1\" class=\"dataframe\">\n",
       "  <thead>\n",
       "    <tr style=\"text-align: right;\">\n",
       "      <th></th>\n",
       "      <th>환자ID</th>\n",
       "      <th>성별</th>\n",
       "      <th>신장</th>\n",
       "      <th>체중</th>\n",
       "    </tr>\n",
       "  </thead>\n",
       "  <tbody>\n",
       "    <tr>\n",
       "      <th>0</th>\n",
       "      <td>1PT</td>\n",
       "      <td>2</td>\n",
       "      <td>163</td>\n",
       "      <td>60.3</td>\n",
       "    </tr>\n",
       "    <tr>\n",
       "      <th>1</th>\n",
       "      <td>2PT</td>\n",
       "      <td>1</td>\n",
       "      <td>171</td>\n",
       "      <td>71.7</td>\n",
       "    </tr>\n",
       "    <tr>\n",
       "      <th>2</th>\n",
       "      <td>3PT</td>\n",
       "      <td>1</td>\n",
       "      <td>178</td>\n",
       "      <td>77.1</td>\n",
       "    </tr>\n",
       "    <tr>\n",
       "      <th>3</th>\n",
       "      <td>4PT</td>\n",
       "      <td>1</td>\n",
       "      <td>174</td>\n",
       "      <td>74.2</td>\n",
       "    </tr>\n",
       "  </tbody>\n",
       "</table>\n",
       "</div>"
      ],
      "text/plain": [
       "  환자ID  성별   신장    체중\n",
       "0  1PT   2  163  60.3\n",
       "1  2PT   1  171  71.7\n",
       "2  3PT   1  178  77.1\n",
       "3  4PT   1  174  74.2"
      ]
     },
     "execution_count": 89,
     "metadata": {},
     "output_type": "execute_result"
    }
   ],
   "source": [
    "df_ROS_forpatient = df_ROS[['환자ID', '성별', '신장', '체중']]\n",
    "df_ROS_forpatient.head(4)"
   ]
  },
  {
   "cell_type": "code",
   "execution_count": 90,
   "id": "9f335028-706b-4cbe-9e29-989d1558621d",
   "metadata": {
    "tags": []
   },
   "outputs": [
    {
     "data": {
      "text/html": [
       "<div>\n",
       "<style scoped>\n",
       "    .dataframe tbody tr th:only-of-type {\n",
       "        vertical-align: middle;\n",
       "    }\n",
       "\n",
       "    .dataframe tbody tr th {\n",
       "        vertical-align: top;\n",
       "    }\n",
       "\n",
       "    .dataframe thead th {\n",
       "        text-align: right;\n",
       "    }\n",
       "</style>\n",
       "<table border=\"1\" class=\"dataframe\">\n",
       "  <thead>\n",
       "    <tr style=\"text-align: right;\">\n",
       "      <th></th>\n",
       "      <th>성별</th>\n",
       "      <th>신장</th>\n",
       "      <th>체중</th>\n",
       "    </tr>\n",
       "  </thead>\n",
       "  <tbody>\n",
       "    <tr>\n",
       "      <th>count</th>\n",
       "      <td>1894.000000</td>\n",
       "      <td>1894.000000</td>\n",
       "      <td>1894.000000</td>\n",
       "    </tr>\n",
       "    <tr>\n",
       "      <th>mean</th>\n",
       "      <td>1.383316</td>\n",
       "      <td>168.027983</td>\n",
       "      <td>68.111140</td>\n",
       "    </tr>\n",
       "    <tr>\n",
       "      <th>std</th>\n",
       "      <td>0.486323</td>\n",
       "      <td>9.211419</td>\n",
       "      <td>11.234318</td>\n",
       "    </tr>\n",
       "    <tr>\n",
       "      <th>min</th>\n",
       "      <td>1.000000</td>\n",
       "      <td>140.000000</td>\n",
       "      <td>35.000000</td>\n",
       "    </tr>\n",
       "    <tr>\n",
       "      <th>25%</th>\n",
       "      <td>1.000000</td>\n",
       "      <td>161.000000</td>\n",
       "      <td>59.700000</td>\n",
       "    </tr>\n",
       "    <tr>\n",
       "      <th>50%</th>\n",
       "      <td>1.000000</td>\n",
       "      <td>169.000000</td>\n",
       "      <td>68.000000</td>\n",
       "    </tr>\n",
       "    <tr>\n",
       "      <th>75%</th>\n",
       "      <td>2.000000</td>\n",
       "      <td>175.000000</td>\n",
       "      <td>75.000000</td>\n",
       "    </tr>\n",
       "    <tr>\n",
       "      <th>max</th>\n",
       "      <td>2.000000</td>\n",
       "      <td>204.000000</td>\n",
       "      <td>136.100000</td>\n",
       "    </tr>\n",
       "  </tbody>\n",
       "</table>\n",
       "</div>"
      ],
      "text/plain": [
       "                성별           신장           체중\n",
       "count  1894.000000  1894.000000  1894.000000\n",
       "mean      1.383316   168.027983    68.111140\n",
       "std       0.486323     9.211419    11.234318\n",
       "min       1.000000   140.000000    35.000000\n",
       "25%       1.000000   161.000000    59.700000\n",
       "50%       1.000000   169.000000    68.000000\n",
       "75%       2.000000   175.000000    75.000000\n",
       "max       2.000000   204.000000   136.100000"
      ]
     },
     "execution_count": 90,
     "metadata": {},
     "output_type": "execute_result"
    }
   ],
   "source": [
    "df_ROS_forpatient.describe(datetime_is_numeric=True)"
   ]
  },
  {
   "cell_type": "code",
   "execution_count": 23,
   "id": "669f75b1-7de7-4d42-ade3-592ef830181d",
   "metadata": {
    "tags": []
   },
   "outputs": [],
   "source": [
    "### int 형은 string and then datetime 순서로 변환 "
   ]
  },
  {
   "cell_type": "code",
   "execution_count": 94,
   "id": "697fe413-162a-40b7-8a86-d1c54ea55b69",
   "metadata": {
    "tags": []
   },
   "outputs": [
    {
     "data": {
      "text/plain": [
       "0       163\n",
       "1       171\n",
       "2       178\n",
       "3       174\n",
       "4       183\n",
       "       ... \n",
       "1889    157\n",
       "1890    157\n",
       "1891    167\n",
       "1892    177\n",
       "1893    168\n",
       "Name: 신장, Length: 1894, dtype: int32"
      ]
     },
     "execution_count": 94,
     "metadata": {},
     "output_type": "execute_result"
    }
   ],
   "source": [
    "df_ROS_forpatient['신장'].astype(int)"
   ]
  },
  {
   "cell_type": "code",
   "execution_count": 95,
   "id": "746d2dfb-d27a-4c25-b385-725e765dc52f",
   "metadata": {
    "tags": []
   },
   "outputs": [
    {
     "data": {
      "text/plain": [
       "0       60.3\n",
       "1       71.7\n",
       "2       77.1\n",
       "3       74.2\n",
       "4       80.7\n",
       "        ... \n",
       "1889    64.0\n",
       "1890    59.0\n",
       "1891    70.0\n",
       "1892    77.0\n",
       "1893    49.0\n",
       "Name: 체중, Length: 1894, dtype: float64"
      ]
     },
     "execution_count": 95,
     "metadata": {},
     "output_type": "execute_result"
    }
   ],
   "source": [
    "df_ROS_forpatient['체중']"
   ]
  },
  {
   "cell_type": "code",
   "execution_count": 103,
   "id": "f96d0d31-20b8-4b07-a7c4-5d5db055001f",
   "metadata": {
    "tags": []
   },
   "outputs": [
    {
     "name": "stdout",
     "output_type": "stream",
     "text": [
      "<class 'pandas.core.frame.DataFrame'>\n",
      "RangeIndex: 1894 entries, 0 to 1893\n",
      "Data columns (total 2 columns):\n",
      " #   Column  Non-Null Count  Dtype  \n",
      "---  ------  --------------  -----  \n",
      " 0   신장      1894 non-null   int64  \n",
      " 1   체중      1894 non-null   float64\n",
      "dtypes: float64(1), int64(1)\n",
      "memory usage: 29.7 KB\n"
     ]
    }
   ],
   "source": [
    "df_ROS_forpatient[['신장', '체중']].info()"
   ]
  },
  {
   "cell_type": "code",
   "execution_count": 119,
   "id": "7e48bff4-9aa5-4096-a55e-706ea5e0958b",
   "metadata": {
    "tags": []
   },
   "outputs": [],
   "source": [
    "#'2019-01-11 오전 5:32' → 데이터를 슬라이싱/[:10] '2019-01-11'\n",
    "# str('2019-01-11 오전 5:32')[:10]\n",
    "def cm_to_meter(height_cm):\n",
    "    return height_cm / 100"
   ]
  },
  {
   "cell_type": "code",
   "execution_count": 120,
   "id": "1fa58ad7-5318-4aa5-83fb-48e80c37b605",
   "metadata": {
    "tags": []
   },
   "outputs": [],
   "source": [
    "def classify_bmi(bmi):\n",
    "    if bmi < 18.5:\n",
    "        return '저체중'\n",
    "    elif bmi < 25:\n",
    "        return '정상'\n",
    "    elif bmi < 30:\n",
    "        return '과체중'\n",
    "    else:\n",
    "        return '비만'"
   ]
  },
  {
   "cell_type": "code",
   "execution_count": 121,
   "id": "d0550818-b8eb-4ae3-8422-a077ff67e357",
   "metadata": {
    "tags": []
   },
   "outputs": [],
   "source": [
    "df_ROS_forpatient_copy = df_ROS_forpatient.copy()"
   ]
  },
  {
   "cell_type": "code",
   "execution_count": 122,
   "id": "4676ae35-4715-4301-9dd6-321cbcbc8750",
   "metadata": {
    "tags": []
   },
   "outputs": [],
   "source": [
    "df_ROS_forpatient_copy['신장_height_int'] = df_ROS_forpatient_copy['신장'].apply(cm_to_meter)\n",
    "df_ROS_forpatient_copy['체중_weight_int'] = df_ROS_forpatient_copy['체중'] "
   ]
  },
  {
   "cell_type": "code",
   "execution_count": 126,
   "id": "3fb496f7-6f00-45d5-8096-fd2b03f9bbbe",
   "metadata": {
    "tags": []
   },
   "outputs": [],
   "source": [
    "# BMI 계산: 체중(kg) / (신장(m)의 제곱)\n",
    "df_ROS_forpatient_copy['BMI'] = df_ROS_forpatient_copy['체중_weight_int'] / (df_ROS_forpatient_copy['신장_height_int'] ** 2)"
   ]
  },
  {
   "cell_type": "code",
   "execution_count": 127,
   "id": "108e9bac-9727-4838-99dd-435f60c897f8",
   "metadata": {
    "tags": []
   },
   "outputs": [],
   "source": [
    "# 체중 상태 분류 추가\n",
    "df_ROS_forpatient_copy['체중_상태'] = df_ROS_forpatient_copy['BMI'].apply(classify_bmi)"
   ]
  },
  {
   "cell_type": "code",
   "execution_count": 128,
   "id": "229ea807-45fb-4057-bafd-76ed6ca85399",
   "metadata": {
    "tags": []
   },
   "outputs": [
    {
     "name": "stdout",
     "output_type": "stream",
     "text": [
      "      신장_height_int  체중_weight_int        BMI 체중_상태\n",
      "0              1.63           60.3  22.695623    정상\n",
      "1              1.71           71.7  24.520365    정상\n",
      "2              1.78           77.1  24.334049    정상\n",
      "3              1.74           74.2  24.507861    정상\n",
      "4              1.83           80.7  24.097465    정상\n",
      "...             ...            ...        ...   ...\n",
      "1889           1.57           64.0  25.964542   과체중\n",
      "1890           1.57           59.0  23.936062    정상\n",
      "1891           1.67           70.0  25.099502   과체중\n",
      "1892           1.77           77.0  24.577867    정상\n",
      "1893           1.68           49.0  17.361111   저체중\n",
      "\n",
      "[1894 rows x 4 columns]\n"
     ]
    }
   ],
   "source": [
    "print(df_ROS_forpatient_copy[['신장_height_int', '체중_weight_int', 'BMI', '체중_상태']])"
   ]
  },
  {
   "cell_type": "code",
   "execution_count": 138,
   "id": "3645447b-3652-40f2-b5de-8b352627f20b",
   "metadata": {
    "tags": []
   },
   "outputs": [
    {
     "data": {
      "image/png": "[encoded data removed]",
      "text/plain": [
       "<Figure size 1000x600 with 1 Axes>"
      ]
     },
     "metadata": {},
     "output_type": "display_data"
    }
   ],
   "source": [
    "# 시각화\n",
    "sns.set(style=\"whitegrid\")\n",
    "plt.figure(figsize=(10, 6))\n",
    "plt.rc('font', family='NanumGothic')  # 나눔고딕 폰트를 사용하려면 해당 폰트가 설치되어 있어야 합니다.\n",
    "sns.barplot(data=df_ROS_forpatient_copy, x='체중_상태', y='BMI', errcolor='gray', capsize=0.1, palette='Set2')\n",
    "plt.title('체중 상태별 BMI 분포')\n",
    "plt.xlabel('체중 상태')\n",
    "plt.ylabel('평균 BMI')\n",
    "plt.show()"
   ]
  },
  {
   "cell_type": "code",
   "execution_count": null,
   "id": "f5688b7c-f264-4f5c-b718-2cb9a0aae686",
   "metadata": {},
   "outputs": [],
   "source": []
  }
 ],
 "metadata": {
  "kernelspec": {
   "display_name": "Python 3 (ipykernel)",
   "language": "python",
   "name": "python3"
  },
  "language_info": {
   "codemirror_mode": {
    "name": "ipython",
    "version": 3
   },
   "file_extension": ".py",
   "mimetype": "text/x-python",
   "name": "python",
   "nbconvert_exporter": "python",
   "pygments_lexer": "ipython3",
   "version": "3.11.3"
  }
 },
 "nbformat": 4,
 "nbformat_minor": 5
}
