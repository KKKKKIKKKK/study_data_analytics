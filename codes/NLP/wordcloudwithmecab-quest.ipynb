{
 "cells": [
  {
   "cell_type": "code",
   "execution_count": 8,
   "id": "7dab9fd6-9d31-4ad1-b711-bfd887e91c0d",
   "metadata": {
    "collapsed": true,
    "jupyter": {
     "outputs_hidden": true
    },
    "tags": []
   },
   "outputs": [
    {
     "name": "stdout",
     "output_type": "stream",
     "text": [
      "Requirement already satisfied: wordcloud in c:\\users\\5-20\\anaconda3\\lib\\site-packages (1.9.2)\n",
      "Requirement already satisfied: numpy>=1.6.1 in c:\\users\\5-20\\anaconda3\\lib\\site-packages (from wordcloud) (1.24.3)\n",
      "Requirement already satisfied: pillow in c:\\users\\5-20\\anaconda3\\lib\\site-packages (from wordcloud) (9.4.0)\n",
      "Requirement already satisfied: matplotlib in c:\\users\\5-20\\anaconda3\\lib\\site-packages (from wordcloud) (3.7.1)\n",
      "Requirement already satisfied: contourpy>=1.0.1 in c:\\users\\5-20\\anaconda3\\lib\\site-packages (from matplotlib->wordcloud) (1.0.5)\n",
      "Requirement already satisfied: cycler>=0.10 in c:\\users\\5-20\\anaconda3\\lib\\site-packages (from matplotlib->wordcloud) (0.11.0)\n",
      "Requirement already satisfied: fonttools>=4.22.0 in c:\\users\\5-20\\anaconda3\\lib\\site-packages (from matplotlib->wordcloud) (4.25.0)\n",
      "Requirement already satisfied: kiwisolver>=1.0.1 in c:\\users\\5-20\\anaconda3\\lib\\site-packages (from matplotlib->wordcloud) (1.4.4)\n",
      "Requirement already satisfied: packaging>=20.0 in c:\\users\\5-20\\anaconda3\\lib\\site-packages (from matplotlib->wordcloud) (23.0)\n",
      "Requirement already satisfied: pyparsing>=2.3.1 in c:\\users\\5-20\\anaconda3\\lib\\site-packages (from matplotlib->wordcloud) (3.0.9)\n",
      "Requirement already satisfied: python-dateutil>=2.7 in c:\\users\\5-20\\anaconda3\\lib\\site-packages (from matplotlib->wordcloud) (2.8.2)\n",
      "Requirement already satisfied: six>=1.5 in c:\\users\\5-20\\anaconda3\\lib\\site-packages (from python-dateutil>=2.7->matplotlib->wordcloud) (1.16.0)\n"
     ]
    }
   ],
   "source": [
    "!pip install wordcloud"
   ]
  },
  {
   "cell_type": "code",
   "execution_count": 13,
   "id": "da306a54-6bf4-4732-8ade-a0037845f07c",
   "metadata": {
    "tags": []
   },
   "outputs": [],
   "source": [
    "# 한글 문장 리스트\n",
    "sentences = [\n",
    "    \"이 영화 너무 재밌어요!\",\n",
    "    \"배우들의 연기력이 정말 뛰어나네요.\",\n",
    "    \"스토리가 진짜 감동적이에요.\",\n",
    "    \"음악도 너무 좋아서 몰입감이 굉장해요.\",\n",
    "    \"영상미가 아름답고 세련되었습니다.\",\n",
    "    \"전체적으로 흥미로운 영화였습니다.\",\n",
    "    \"감독의 연출력이 탁월하네요.\",\n",
    "    \"시간 가는 줄 모르고 봤어요!\",\n",
    "    \"배경 음악 선택도 완벽했습니다.\",\n",
    "    \"주인공들의 케미가 최고에요!\",\n",
    "    \"기대 이상으로 재미있었습니다.\",\n",
    "    \"꼭 추천하고 싶은 작품입니다.\",\n",
    "    \"재미와 감동을 동시에 주는 영화였어요.\",\n",
    "    \"한 번 보면 두 번 보고 싶은 영화입니다.\",\n",
    "]"
   ]
  },
  {
   "cell_type": "code",
   "execution_count": 11,
   "id": "f3ac3ce8-9338-4311-9a60-5c82ebdabc5f",
   "metadata": {
    "tags": []
   },
   "outputs": [],
   "source": [
    "from wordcloud import WordCloud"
   ]
  },
  {
   "cell_type": "code",
   "execution_count": 23,
   "id": "47ba90d7-1733-4c3b-aa12-fb113f425cc9",
   "metadata": {
    "tags": []
   },
   "outputs": [
    {
     "data": {
      "text/plain": [
       "'이 영화 너무 재밌어요! 배우들의 연기력이 정말 뛰어나네요. 스토리가 진짜 감동적이에요. 음악도 너무 좋아서 몰입감이 굉장해요. 영상미가 아름답고 세련되었습니다. 전체적으로 흥미로운 영화였습니다. 감독의 연출력이 탁월하네요. 시간 가는  모르고 봤어요! 배경 음악 선택도 완벽했습니다. 주인공들의 케미가 최고에요! 기대 이상으로 재미있었습니다. 꼭 추천하고 싶은 작품입니다. 재미와 감동을 동시에 주는 영화였어요. 한  보면 두  보고 싶은 영화입니다.'"
      ]
     },
     "execution_count": 23,
     "metadata": {},
     "output_type": "execute_result"
    }
   ],
   "source": [
    "### 조사 빼기\n",
    "# 은,는,이,가,부터,조차,까지,요,마저 ..... \n",
    "import re\n",
    "pattern = r'[줄번]'\n",
    "text_regex = re.sub(pattern=pattern, repl='', string=text) # params : 변경대상, 대상 대체, 어떤것을\n",
    "text_regex"
   ]
  },
  {
   "cell_type": "markdown",
   "id": "b04db176-fab2-4433-ba11-91721cd30ded",
   "metadata": {},
   "source": [
    "## 자연어 처리 위한 형태분석기 적용"
   ]
  },
  {
   "cell_type": "code",
   "execution_count": 48,
   "id": "f5780733-5c2c-478f-9b63-65329effed92",
   "metadata": {
    "tags": []
   },
   "outputs": [],
   "source": [
    "from mecab import MeCab\n",
    "mecab = MeCab()"
   ]
  },
  {
   "cell_type": "code",
   "execution_count": 12,
   "id": "ce422b3c-7b3a-4c01-adcd-73170fe2f9e5",
   "metadata": {
    "tags": []
   },
   "outputs": [
    {
     "data": {
      "text/plain": [
       "'이 영화 너무 재밌어요! 배우들의 연기력이 정말 뛰어나네요. 스토리가 진짜 감동적이에요. 음악도 너무 좋아서 몰입감이 굉장해요. 영상미가 아름답고 세련되었습니다. 전체적으로 흥미로운 영화였습니다. 감독의 연출력이 탁월하네요. 시간 가는 줄 모르고 봤어요! 배경 음악 선택도 완벽했습니다. 주인공들의 케미가 최고에요! 기대 이상으로 재미있었습니다. 꼭 추천하고 싶은 작품입니다. 재미와 감동을 동시에 주는 영화였어요. 한 번 보면 두 번 보고 싶은 영화입니다.'"
      ]
     },
     "execution_count": 12,
     "metadata": {},
     "output_type": "execute_result"
    }
   ],
   "source": [
    "#\"맛있는 음식을 먹으러 갈까요?\", ->4개 \n",
    "#\"여행 계획을 세우고 있는데 어디로 갈까요?\",->6개\n",
    "# 갈까요?10개이지만 동일한 단어는 겹칠 수 있다. \n",
    "text = ' '.join(sentences) #리스트를 join 하나의 단어가 나열. \n",
    "text"
   ]
  },
  {
   "cell_type": "code",
   "execution_count": 25,
   "id": "1c4e8d6e-253e-4d24-be78-50ae4bec8f63",
   "metadata": {
    "tags": []
   },
   "outputs": [
    {
     "data": {
      "text/plain": [
       "(['영화'], ['배우', '연기력'], ['영화', '배우', '연기력'])"
      ]
     },
     "execution_count": 25,
     "metadata": {},
     "output_type": "execute_result"
    }
   ],
   "source": [
    "mecab.nouns(sentences[0]), mecab.nouns(sentences[1]), mecab.nouns(sentences[0]) + mecab.nouns(sentences[1]) # mecab.pos(sentences[0])"
   ]
  },
  {
   "cell_type": "code",
   "execution_count": 27,
   "id": "868f8323-19d6-438e-a54d-65f3143df02f",
   "metadata": {
    "tags": []
   },
   "outputs": [
    {
     "data": {
      "text/plain": [
       "['영화',\n",
       " '배우',\n",
       " '연기력',\n",
       " '스토리',\n",
       " '감동',\n",
       " '음악',\n",
       " '입감',\n",
       " '영상미',\n",
       " '전체',\n",
       " '흥미',\n",
       " '영화',\n",
       " '감독',\n",
       " '연출력',\n",
       " '시간',\n",
       " '줄',\n",
       " '배경',\n",
       " '음악',\n",
       " '선택',\n",
       " '완벽',\n",
       " '주인공',\n",
       " '케미',\n",
       " '최고',\n",
       " '기대',\n",
       " '이상',\n",
       " '추천',\n",
       " '작품',\n",
       " '재미',\n",
       " '감동',\n",
       " '동시',\n",
       " '영화',\n",
       " '번',\n",
       " '번',\n",
       " '영화']"
      ]
     },
     "execution_count": 27,
     "metadata": {},
     "output_type": "execute_result"
    }
   ],
   "source": [
    "# 형태분석기 사용해 명사만 추출\n",
    "morphs_list = list()\n",
    "for sentence in sentences :\n",
    "    morphs = mecab.nouns(sentence)\n",
    "    morphs_list = morphs_list + morphs\n",
    "morphs_list    "
   ]
  },
  {
   "cell_type": "code",
   "execution_count": 41,
   "id": "c55aa511-751a-4572-a7f3-31223d5fdd41",
   "metadata": {
    "tags": []
   },
   "outputs": [
    {
     "data": {
      "text/plain": [
       "'영화 배우 연기력 스토리 감동 음악 입감 영상미 전체 흥미 영화 감독 연출력 시간 줄 배경 음악 선택 완벽 주인공 케미 최고 기대 이상 추천 작품 재미 감동 동시 영화 번 번 영화'"
      ]
     },
     "execution_count": 41,
     "metadata": {},
     "output_type": "execute_result"
    }
   ],
   "source": [
    "#\"맛있는 음식을 먹으러 갈까요?\", ->4개 \n",
    "#\"여행 계획을 세우고 있는데 어디로 갈까요?\",->6개\n",
    "# 갈까요?10개이지만 동일한 단어는 겹칠 수 있다. \n",
    "text = ' '.join(morphs_list) #리스트를 join 하나의 단어가 나열. \n",
    "text"
   ]
  },
  {
   "cell_type": "code",
   "execution_count": 42,
   "id": "91870f95-efc1-473e-b491-08b88e736171",
   "metadata": {
    "tags": []
   },
   "outputs": [
    {
     "data": {
      "text/plain": [
       "'영화 배우 연기력 스토리 감동 음악 입감 영상미 전체 흥미 영화 감독 연출력 시간  배경 음악 선택 완벽 주인공 케미 최고 기대 이상 추천 작품 재미 감동 동시 영화   영화'"
      ]
     },
     "execution_count": 42,
     "metadata": {},
     "output_type": "execute_result"
    }
   ],
   "source": [
    "### 조사 빼기\n",
    "# 은,는,이,가,부터,조차,까지,요,마저 ..... \n",
    "import re\n",
    "pattern = r'[줄번]'\n",
    "text_regex = re.sub(pattern=pattern, repl='', string=text) # params : 변경대상, 대상 대체, 어떤것을\n",
    "text_regex"
   ]
  },
  {
   "cell_type": "code",
   "execution_count": 52,
   "id": "d35ae7ce-51c4-448f-82e4-cfac05a7cb58",
   "metadata": {
    "tags": []
   },
   "outputs": [
    {
     "data": {
      "text/plain": [
       "Counter({'영': 5,\n",
       "         '화': 4,\n",
       "         ' ': 32,\n",
       "         '배': 2,\n",
       "         '우': 1,\n",
       "         '연': 2,\n",
       "         '기': 2,\n",
       "         '력': 2,\n",
       "         '스': 1,\n",
       "         '토': 1,\n",
       "         '리': 1,\n",
       "         '감': 4,\n",
       "         '동': 3,\n",
       "         '음': 2,\n",
       "         '악': 2,\n",
       "         '입': 1,\n",
       "         '상': 2,\n",
       "         '미': 4,\n",
       "         '전': 1,\n",
       "         '체': 1,\n",
       "         '흥': 1,\n",
       "         '독': 1,\n",
       "         '출': 1,\n",
       "         '시': 2,\n",
       "         '간': 1,\n",
       "         '경': 1,\n",
       "         '선': 1,\n",
       "         '택': 1,\n",
       "         '완': 1,\n",
       "         '벽': 1,\n",
       "         '주': 1,\n",
       "         '인': 1,\n",
       "         '공': 1,\n",
       "         '케': 1,\n",
       "         '최': 1,\n",
       "         '고': 1,\n",
       "         '대': 1,\n",
       "         '이': 1,\n",
       "         '추': 1,\n",
       "         '천': 1,\n",
       "         '작': 1,\n",
       "         '품': 1,\n",
       "         '재': 1})"
      ]
     },
     "execution_count": 52,
     "metadata": {},
     "output_type": "execute_result"
    }
   ],
   "source": [
    "from collections import Counter\n",
    "nouns_count = Counter(text_regex)\n",
    "nouns_count"
   ]
  },
  {
   "cell_type": "code",
   "execution_count": 53,
   "id": "36d26464-ec7a-4995-91e7-5c4bde1de3cc",
   "metadata": {
    "tags": []
   },
   "outputs": [
    {
     "data": {
      "text/plain": [
       "<wordcloud.wordcloud.WordCloud at 0x17a62a7a350>"
      ]
     },
     "execution_count": 53,
     "metadata": {},
     "output_type": "execute_result"
    }
   ],
   "source": [
    "# 한글 폰트 경로 설정 (Windows 환경에 맞게 경로 수정)\n",
    "font_path = 'C:/Windows/Fonts/malgun.ttf'\n",
    "\n",
    "wordCloud = WordCloud(font_path=font_path, background_color='white')\n",
    "wordCloud.generate_from_frequencies(nouns_count)"
   ]
  },
  {
   "cell_type": "code",
   "execution_count": 54,
   "id": "a1116fad-94d9-4b34-823d-87316104520d",
   "metadata": {
    "tags": []
   },
   "outputs": [
    {
     "data": {
      "text/plain": [
       "{' ': 1.0,\n",
       " '영': 0.15625,\n",
       " '화': 0.125,\n",
       " '감': 0.125,\n",
       " '미': 0.125,\n",
       " '동': 0.09375,\n",
       " '배': 0.0625,\n",
       " '연': 0.0625,\n",
       " '기': 0.0625,\n",
       " '력': 0.0625,\n",
       " '음': 0.0625,\n",
       " '악': 0.0625,\n",
       " '상': 0.0625,\n",
       " '시': 0.0625,\n",
       " '우': 0.03125,\n",
       " '스': 0.03125,\n",
       " '토': 0.03125,\n",
       " '리': 0.03125,\n",
       " '입': 0.03125,\n",
       " '전': 0.03125,\n",
       " '체': 0.03125,\n",
       " '흥': 0.03125,\n",
       " '독': 0.03125,\n",
       " '출': 0.03125,\n",
       " '간': 0.03125,\n",
       " '경': 0.03125,\n",
       " '선': 0.03125,\n",
       " '택': 0.03125,\n",
       " '완': 0.03125,\n",
       " '벽': 0.03125,\n",
       " '주': 0.03125,\n",
       " '인': 0.03125,\n",
       " '공': 0.03125,\n",
       " '케': 0.03125,\n",
       " '최': 0.03125,\n",
       " '고': 0.03125,\n",
       " '대': 0.03125,\n",
       " '이': 0.03125,\n",
       " '추': 0.03125,\n",
       " '천': 0.03125,\n",
       " '작': 0.03125,\n",
       " '품': 0.03125,\n",
       " '재': 0.03125}"
      ]
     },
     "execution_count": 54,
     "metadata": {},
     "output_type": "execute_result"
    }
   ],
   "source": [
    "wordCloud.words_"
   ]
  },
  {
   "cell_type": "code",
   "execution_count": 55,
   "id": "9f59dcaa-1b79-4e1d-8b1a-00f05c7af99a",
   "metadata": {
    "tags": []
   },
   "outputs": [
    {
     "data": {
      "image/png": "[encoded data removed]",
      "text/plain": [
       "<Figure size 640x480 with 1 Axes>"
      ]
     },
     "metadata": {},
     "output_type": "display_data"
    }
   ],
   "source": [
    "import matplotlib.pyplot as plt\n",
    "plt.imshow(wordCloud)\n",
    "plt.axis('off')\n",
    "plt.show()"
   ]
  },
  {
   "cell_type": "code",
   "execution_count": null,
   "id": "87496d43-ef6d-479b-bfef-97e67522df68",
   "metadata": {},
   "outputs": [],
   "source": []
  }
 ],
 "metadata": {
  "kernelspec": {
   "display_name": "Python 3 (ipykernel)",
   "language": "python",
   "name": "python3"
  },
  "language_info": {
   "codemirror_mode": {
    "name": "ipython",
    "version": 3
   },
   "file_extension": ".py",
   "mimetype": "text/x-python",
   "name": "python",
   "nbconvert_exporter": "python",
   "pygments_lexer": "ipython3",
   "version": "3.11.3"
  }
 },
 "nbformat": 4,
 "nbformat_minor": 5
}
