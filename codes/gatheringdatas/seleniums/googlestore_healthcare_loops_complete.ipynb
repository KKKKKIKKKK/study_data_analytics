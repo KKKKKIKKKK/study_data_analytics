{
 "cells": [
  {
   "cell_type": "markdown",
   "id": "9a86487b-4b84-42b2-a6b6-c71e632c3207",
   "metadata": {
    "tags": []
   },
   "source": [
    "#### 2023-09-07(수)구글스토어 퀘스트"
   ]
  },
  {
   "cell_type": "code",
   "execution_count": 11,
   "id": "ec4595d9-7e65-40b8-816e-a79d04113d5a",
   "metadata": {
    "tags": []
   },
   "outputs": [],
   "source": [
    "from selenium import webdriver"
   ]
  },
  {
   "cell_type": "code",
   "execution_count": 12,
   "id": "09cc03ed-8fa1-4795-ae9a-59ebcd3e0184",
   "metadata": {
    "tags": []
   },
   "outputs": [],
   "source": [
    "# open Chrome browser.executable_path = 브라우저 여는 법 \n",
    "# open chrome browser\n",
    "browser = webdriver.Chrome(executable_path='../../../../chromedriver.exe')"
   ]
  },
  {
   "cell_type": "code",
   "execution_count": 13,
   "id": "cc1fb5ee-ec7b-498a-a960-80197c5993ea",
   "metadata": {
    "tags": []
   },
   "outputs": [],
   "source": [
    "#'https://www.w3schools.com/' 윈도우 창에 특정 주소 연결 \n",
    "# url in address window\n",
    "# enter 치면 새창 생성./#html css가 local로 가져옴 \n",
    "browser.get('https://play.google.com/store/search?q=%ED%97%AC%EC%8A%A4%EC%BC%80%EC%96%B4%EC%95%B1&c=apps&hl=ko-KR')"
   ]
  },
  {
   "cell_type": "markdown",
   "id": "dbab976b-7e9e-40f6-9cdf-b75b4a69140d",
   "metadata": {},
   "source": [
    " ### 서비스 리스트 가져오기 \n",
    " - section > div > div > div > div:nth-child(2) > div > div > div"
   ]
  },
  {
   "cell_type": "markdown",
   "id": "e66daa12-7f0c-49b4-8dce-de2b64f586fc",
   "metadata": {
    "tags": []
   },
   "source": [
    "### 2023-09-07(목)추가 적인 내용 특정 서비스 클릭 하기 "
   ]
  },
  {
   "cell_type": "code",
   "execution_count": 14,
   "id": "9b911549-12aa-46e3-a024-77d0c6aa47a7",
   "metadata": {
    "tags": []
   },
   "outputs": [],
   "source": [
    "browser.implicitly_wait(10)"
   ]
  },
  {
   "cell_type": "code",
   "execution_count": 15,
   "id": "6dfb7a2a-ff87-446c-9b38-cfe655366f76",
   "metadata": {
    "tags": []
   },
   "outputs": [],
   "source": [
    "import pandas as pd  #판다스 만들기 \n",
    "import pymongo as mg # 몽고db 만들기 \n",
    "import time"
   ]
  },
  {
   "cell_type": "markdown",
   "id": "dc663f5a-31c2-46df-b018-e0d0f39878dd",
   "metadata": {},
   "source": [
    "### 선생님이 작성한 코드 (이걸로 실행해야함 )"
   ]
  },
  {
   "cell_type": "code",
   "execution_count": 16,
   "id": "6f84aac5-96cb-47b1-88a5-b706a35f7f15",
   "metadata": {
    "tags": []
   },
   "outputs": [
    {
     "name": "stdout",
     "output_type": "stream",
     "text": [
      "current reviews_bundle count : 40\n",
      "current reviews_bundle count : 80\n",
      "current reviews_bundle count : 120\n",
      "Done 120\n",
      "service_name : Samsung Health(삼성 헬스), review count : 120\n",
      "current reviews_bundle count : 40\n",
      "current reviews_bundle count : 80\n",
      "current reviews_bundle count : 120\n",
      "current reviews_bundle count : 160\n",
      "current reviews_bundle count : 200\n",
      "current reviews_bundle count : 240\n",
      "current reviews_bundle count : 248\n",
      "current reviews_bundle count : 248\n",
      "current reviews_bundle count : 248\n",
      "current reviews_bundle count : 248\n",
      "current reviews_bundle count : 248\n",
      "Done 248\n",
      "service_name : NH헬스케어, review count : 248\n",
      "Done 17\n",
      "service_name : 케어헬스, review count : 17\n",
      "Done 7\n",
      "service_name : 기업용 디지털 헬스케어 삼성화재 애니핏 프로(PRO), review count : 7\n",
      "Done 40\n",
      "service_name : 애니핏 플러스 나에게 핏한 건강관리, review count : 40\n",
      "Done 2\n",
      "service_name : SK VIEW 헬스케어, review count : 2\n",
      "Done 14\n",
      "service_name : 헬스케치-건강검진 기반 건강지표/위험도 분석,맞춤 헬스, review count : 14\n",
      "Done 1\n",
      "service_name : 헬스케어 건강관리서비스, review count : 1\n",
      "Done 24\n",
      "service_name : PT쌤 - 운동 헬스 체중관리 체력테스트 홈트 기록, review count : 24\n",
      "Done 40\n",
      "service_name : 플릭 - 운동일지, 운동기록, 운동일기, 운동루틴, review count : 40\n",
      "current reviews_bundle count : 40\n",
      "current reviews_bundle count : 71\n",
      "current reviews_bundle count : 71\n",
      "Done 71\n",
      "service_name : Health4U, review count : 71\n",
      "Done 40\n",
      "service_name : 플랜핏 - 헬스 홈트 운동 루틴 추천과 피트니스 기록, review count : 40\n",
      "current reviews_bundle count : 40\n",
      "current reviews_bundle count : 80\n",
      "current reviews_bundle count : 94\n",
      "current reviews_bundle count : 94\n",
      "current reviews_bundle count : 94\n",
      "current reviews_bundle count : 94\n",
      "Done 94\n",
      "service_name : 현대해상 메디케어, review count : 94\n",
      "current reviews_bundle count : 25\n",
      "current reviews_bundle count : 25\n",
      "Done 25\n",
      "service_name : 삼성생명 S-헬스케어, review count : 25\n",
      "current reviews_bundle count : 40\n",
      "current reviews_bundle count : 80\n",
      "current reviews_bundle count : 120\n",
      "current reviews_bundle count : 160\n",
      "current reviews_bundle count : 189\n",
      "current reviews_bundle count : 189\n",
      "current reviews_bundle count : 189\n",
      "current reviews_bundle count : 189\n",
      "current reviews_bundle count : 189\n",
      "current reviews_bundle count : 189\n",
      "current reviews_bundle count : 189\n",
      "current reviews_bundle count : 189\n",
      "current reviews_bundle count : 189\n",
      "current reviews_bundle count : 189\n",
      "current reviews_bundle count : 189\n",
      "current reviews_bundle count : 189\n",
      "current reviews_bundle count : 189\n",
      "current reviews_bundle count : 189\n",
      "current reviews_bundle count : 189\n",
      "current reviews_bundle count : 189\n",
      "current reviews_bundle count : 189\n",
      "current reviews_bundle count : 189\n",
      "current reviews_bundle count : 189\n",
      "current reviews_bundle count : 189\n",
      "Done 189\n",
      "service_name : 운동닥터 - 헬스장 PT, 필라테스 찾기 필수 앱, review count : 189\n",
      "current reviews_bundle count : 28\n",
      "Done 28\n",
      "service_name : 케어포미, review count : 28\n",
      "Done 40\n",
      "service_name : 헬스 플랫폼, review count : 40\n",
      "current reviews_bundle count : 40\n",
      "current reviews_bundle count : 80\n",
      "current reviews_bundle count : 97\n",
      "Done 97\n",
      "service_name : 온닥터, review count : 97\n",
      "current reviews_bundle count : 40\n",
      "current reviews_bundle count : 80\n",
      "current reviews_bundle count : 120\n",
      "current reviews_bundle count : 160\n",
      "current reviews_bundle count : 200\n",
      "current reviews_bundle count : 213\n",
      "current reviews_bundle count : 213\n",
      "Done 213\n",
      "service_name : 티티케어 – 나의 멍냥육아 파트너, review count : 213\n",
      "current reviews_bundle count : 35\n",
      "Done 35\n",
      "service_name : 빅케어, review count : 35\n",
      "Done 40\n",
      "service_name : 채움건강, review count : 40\n",
      "current reviews_bundle count : 40\n",
      "current reviews_bundle count : 80\n",
      "current reviews_bundle count : 120\n",
      "current reviews_bundle count : 141\n",
      "current reviews_bundle count : 141\n",
      "Done 141\n",
      "service_name : 오케어, review count : 141\n",
      "Done 40\n",
      "service_name : 케어네이션 - 일감 찾기, 간병인, 동행인, 요양보호사, review count : 40\n"
     ]
    },
    {
     "ename": "IndexError",
     "evalue": "list index out of range",
     "output_type": "error",
     "traceback": [
      "\u001b[1;31m---------------------------------------------------------------------------\u001b[0m",
      "\u001b[1;31mIndexError\u001b[0m                                Traceback (most recent call last)",
      "Cell \u001b[1;32mIn[16], line 37\u001b[0m\n\u001b[0;32m     34\u001b[0m result_list \u001b[38;5;241m=\u001b[39m re\u001b[38;5;241m.\u001b[39mfindall(\u001b[38;5;124mr\u001b[39m\u001b[38;5;124m'\u001b[39m\u001b[38;5;124m\\\u001b[39m\u001b[38;5;124md+\u001b[39m\u001b[38;5;124m'\u001b[39m, review_total_count_text) \u001b[38;5;66;03m#규칙?r(이진수의 값을 적용하라는 말) /string \u001b[39;00m\n\u001b[0;32m     35\u001b[0m \u001b[38;5;66;03m#print(result_list[0] ,int(result_list[0]))\u001b[39;00m\n\u001b[1;32m---> 37\u001b[0m review_total_count \u001b[38;5;241m=\u001b[39m \u001b[38;5;28mint\u001b[39m(result_list[\u001b[38;5;241m0\u001b[39m]) \u001b[38;5;66;03m# 리뷰 총 갯수가 (int)로 변환돼서 나옴. \u001b[39;00m\n\u001b[0;32m     40\u001b[0m \u001b[38;5;66;03m# 댓글 팝업 띄우기(해당 리뷰 없을 시 대비한 방어 코드 작성 필요)\u001b[39;00m\n\u001b[0;32m     41\u001b[0m review_flag \u001b[38;5;241m=\u001b[39m \u001b[38;5;28;01mTrue\u001b[39;00m\n",
      "\u001b[1;31mIndexError\u001b[0m: list index out of range"
     ]
    }
   ],
   "source": [
    "client = mg.MongoClient(host='mongodb://localhost:27017')\n",
    "database = client['study_data_analytics']\n",
    "collection = database['googlestore_heathcare']\n",
    "\n",
    "# 서비스 앱에 대한 리스트\n",
    "click_path = 'section > div > div > div > div'\n",
    "company_list = browser.find_elements_by_css_selector(click_path)\n",
    "\n",
    "len(company_list)\n",
    "\n",
    "for company in company_list:\n",
    "    company.click()\n",
    "    time.sleep(2)\n",
    "\n",
    "    # 서비스 앱에 대한 정보 가져오기\n",
    "    try:\n",
    "        service_name = browser.find_element_by_css_selector('div > h1 > span').text\n",
    "    except :\n",
    "        service_name = str()\n",
    "    try :    \n",
    "        company_name = browser.find_element_by_css_selector('div.Il7kR > div > div > div > a > span').text\n",
    "    except : \n",
    "        company_name = str()\n",
    "    try :    \n",
    "        app_information = browser.find_element_by_css_selector('div:nth-child(1) > c-wiz:nth-child(2) > div > section > div').text\n",
    "    except :\n",
    "        app_information = str()\n",
    "    \n",
    "    ### 리뷰 총 갯수 가져오기['리뷰 473개']\n",
    "    ## 리뷰 총 갯수 tag : div:nth-child(1) > div.g1rdde\n",
    "    review_total_count_text = browser.find_element_by_css_selector('div:nth-child(1) > div.g1rdde').text\n",
    "    # [service_name, company_name, app_information]\n",
    "    import re #regularexpression \n",
    "    result_list = re.findall(r'\\d+', review_total_count_text) #규칙?r(이진수의 값을 적용하라는 말) /string \n",
    "    #print(result_list[0] ,int(result_list[0]))\n",
    "\n",
    "    review_total_count = int(result_list[0]) # 리뷰 총 갯수가 (int)로 변환돼서 나옴. \n",
    "    \n",
    "    \n",
    "    # 댓글 팝업 띄우기(해당 리뷰 없을 시 대비한 방어 코드 작성 필요)\n",
    "    review_flag = True\n",
    "    try :\n",
    "        browser.find_element_by_xpath('//*/div/div/button/*[contains(text(), \"리뷰\")]').click()    \n",
    "    except :\n",
    "        review_flag = False\n",
    "    \n",
    "    # 회사 서비스에 대한 전체 리뷰 가져오기\n",
    "    serviceapp_columns_name = ['service_name', 'content', 'date', 'stars']\n",
    "    reviews_list = list()\n",
    "    if review_flag :\n",
    "        #팝업 띄우기 \n",
    "        reviews_bundle = browser.find_elements_by_css_selector('div.fysCi > div > div:nth-child(2) > div')\n",
    "        len(reviews_bundle)    \n",
    "             \n",
    "        #팝업 속 댓글 전체 표시 \n",
    "        review_standard_count_per = 40\n",
    "\n",
    "\n",
    "        loop_count_int = int(review_total_count / review_standard_count_per)\n",
    "        for count in range(1, loop_count_int+1) :\n",
    "            try :\n",
    "                reviews_bundle = browser.find_elements_by_css_selector('div.fysCi > div > div:nth-child(2) > div')\n",
    "                print('current reviews_bundle count : {}'.format(len(reviews_bundle)))\n",
    "                reviews_bundle[len(reviews_bundle)-1].click()\n",
    "                time.sleep(3)\n",
    "            except :\n",
    "                print('pass')\n",
    "                pass\n",
    "        print('Done', len(reviews_bundle))\n",
    "        \n",
    "        \n",
    "        #팝업 댓글 수집 \n",
    "        for review_bundle in reviews_bundle:\n",
    "            content = review_bundle.find_element_by_css_selector('div.h3YV2d').text\n",
    "            date = review_bundle.find_element_by_css_selector('header > div.Jx4nYe > span').text\n",
    "            stars = review_bundle.find_element_by_css_selector('header > div.Jx4nYe > div').get_attribute('aria-label')\n",
    "            review_list = [service_name, content, date, stars]\n",
    "            reviews_list.append(review_list)  # 리뷰에 대한 모든 것(특정 회사 서비스에 대한)\n",
    "\n",
    "        browser.back() # 팝업 닫기\n",
    "        \n",
    "        # 저장 위한 작업\n",
    "        df_reviews = pd.DataFrame(data=reviews_list, columns=serviceapp_columns_name)\n",
    "        data_dict = df_reviews.to_dict(orient='records')\n",
    "        collection.insert_many(data_dict)\n",
    "        \n",
    "    print('service_name : {}, review count : {}'.format(service_name, len(reviews_list)))\n",
    "    browser.back() # 리스트로 돌아가기\n",
    "    time.sleep(3)\n",
    "print('Done')"
   ]
  },
  {
   "cell_type": "code",
   "execution_count": null,
   "id": "e717aadc-6e9d-4219-a48c-38f49339bd8f",
   "metadata": {
    "tags": []
   },
   "outputs": [],
   "source": [
    "broswer.quit()"
   ]
  },
  {
   "cell_type": "markdown",
   "id": "ee98d11f-75e7-4f5c-903b-b033774048ed",
   "metadata": {},
   "source": [
    "### MJ가 작성한 코드 (오류) 주석만 참고.  "
   ]
  },
  {
   "cell_type": "code",
   "execution_count": null,
   "id": "43a10d79-653d-4d3a-bc59-4d480e27b76e",
   "metadata": {
    "tags": []
   },
   "outputs": [],
   "source": [
    "#서비스 앱에 대한 리스트 가져오기. \n",
    "click_path = 'section > div > div > div > div'\n",
    "company_list = browser.find_elements_by_css_selector(click_path)\n",
    "\n",
    "len(company_list)\n",
    "\n",
    "\n",
    "### 해당되는 회사 클릭 회사 서비스에 대한 전체 리뷰 가져오기 \n",
    "\n",
    "for company in company_list:\n",
    "    company.click()\n",
    "    time.sleep(2)\n",
    "    \n",
    "     # 서비스 앱에 대한 정보 가져오기\n",
    "    try:\n",
    "        service_name = browser.find_element_by_css_selector('div > h1 > span').text\n",
    "    except :\n",
    "        service_name = str()\n",
    "    try :    \n",
    "        company_name = browser.find_element_by_css_selector('div.Il7kR > div > div > div > a > span').text\n",
    "    except : \n",
    "        company_name = str()\n",
    "    try :    \n",
    "        app_information = browser.find_element_by_css_selector('div:nth-child(1) > c-wiz:nth-child(2) > div > section > div').text\n",
    "    except :\n",
    "        app_information = str()\n",
    "\n",
    "    # [service_name, company_name, app_information]\n",
    "    \n",
    "   # 댓글 팝업 띄우기(해당 리뷰 없을 시 대비한 방어 코드 작성 필요)\n",
    "    review_flag = True\n",
    "    try :\n",
    "        browser.find_element_by_xpath('//*/div/div/button/*[contains(text(), \"리뷰\")]').click()    \n",
    "    except :\n",
    "        review_flag = False\n",
    "    \n",
    "        \n",
    "    # 회사서비스에 대한 전체 리뷰 reviews_bundle 로 가져오기 \n",
    "    serviceapp_columns_name = ['service_name', 'content', 'date', 'stars']\n",
    "    reviews_list = list()\n",
    "    if review_flag :\n",
    "        reviews_bundle = browser.find_elements_by_css_selector('div.fysCi > div > div:nth-child(2) > div')\n",
    "        len(reviews_bundle)    \n",
    "\n",
    "        #reviews_list 가져오기 40개만 looping \n",
    "         for review_bundle in reviews_bundle:\n",
    "            content = review_bundle.find_element_by_css_selector('div.h3YV2d').text\n",
    "            date = review_bundle.find_element_by_css_selector('header > div.Jx4nYe > span').text\n",
    "            stars = review_bundle.find_element_by_css_selector('header > div.Jx4nYe > div').get_attribute('aria-label')\n",
    "            review_list = [service_name, content, date, stars]\n",
    "            reviews_list.append(review_list)  # 리뷰에 대한 모든 것(특정 회사 서비스에 대한)\n",
    "\n",
    "        browser.back() # 팝업 닫기\n",
    "        # 저장 위한 작업\n",
    "        df_reviews = pd.DataFrame(data=reviews_list, columns=serviceapp_columns_name)\n",
    "    \n",
    "    print('service_name : {}, review count : {}'.format(service_name, len(reviews_list)))\n",
    "    browser.back() # 리스트로 돌아가기\n",
    "    time.sleep(3)"
   ]
  },
  {
   "cell_type": "markdown",
   "id": "d456303a-fc33-43b2-b2f9-f1d6f877058c",
   "metadata": {
    "tags": []
   },
   "source": [
    "####  제품정보\n",
    "- 서비스명 :NH 헬스케어 \n",
    "    -  div > h1 > span  \n",
    "- 만든회사명 tag \n",
    "    - div.Il7kR > div > div > div > a > span\n",
    "- 앱정보 tag \n",
    "    - div:nth-child(1) > c-wiz:nth-child(2) > div > section > div > div.bARER"
   ]
  },
  {
   "cell_type": "code",
   "execution_count": null,
   "id": "ee03e605-1071-4708-b69d-c0f85d146626",
   "metadata": {},
   "outputs": [],
   "source": []
  }
 ],
 "metadata": {
  "kernelspec": {
   "display_name": "Python 3 (ipykernel)",
   "language": "python",
   "name": "python3"
  },
  "language_info": {
   "codemirror_mode": {
    "name": "ipython",
    "version": 3
   },
   "file_extension": ".py",
   "mimetype": "text/x-python",
   "name": "python",
   "nbconvert_exporter": "python",
   "pygments_lexer": "ipython3",
   "version": "3.11.3"
  }
 },
 "nbformat": 4,
 "nbformat_minor": 5
}
