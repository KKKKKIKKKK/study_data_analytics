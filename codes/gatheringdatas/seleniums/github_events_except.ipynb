{
 "cells": [
  {
   "cell_type": "markdown",
   "id": "7348fd2b-31d1-4835-a385-d967c60d1ba6",
   "metadata": {
    "tags": []
   },
   "source": [
    "### Github signin"
   ]
  },
  {
   "cell_type": "markdown",
   "id": "e4fca176-1d49-44ca-97a8-1e2d1d7d5e14",
   "metadata": {
    "tags": []
   },
   "source": [
    "##### 2023-09-06(수) Login tag\n",
    "- 로그인할때 필요한 sign in 검사 \n",
    "- div > div > div > a.HeaderMenu-link.HeaderMenu-link--sign-in "
   ]
  },
  {
   "cell_type": "code",
   "execution_count": 36,
   "id": "c73edf2a-38c9-4195-8034-ec092bae33c9",
   "metadata": {
    "tags": []
   },
   "outputs": [
    {
     "data": {
      "text/plain": [
       "selenium.webdriver.chrome.webdriver.WebDriver"
      ]
     },
     "execution_count": 36,
     "metadata": {},
     "output_type": "execute_result"
    }
   ],
   "source": [
    "from selenium import webdriver\n",
    "#options = webdriver.ChromeOptions() #접히지 않은 화면으로 뜨는 option \n",
    "#options.add_argument(\"--window-size=1560,840\")#접히지 않은 화면으로 뜨는 option \n",
    "#browser = webdriver.Chrome(executable_path='../../../../chromedriver.exe', options=options)\n",
    "\n",
    "browser = webdriver.Chrome(executable_path='../../../../chromedriver.exe')\n",
    "browser.get('https://github.com/')\n",
    "type(browser)"
   ]
  },
  {
   "cell_type": "markdown",
   "id": "a137e36d-92c5-40fe-b6ea-b1bc86d53782",
   "metadata": {},
   "source": [
    "### Login 화면 링크 tag \n",
    "- 접힌메뉴= tag : body > div.logged-out.env-production.page-responsive.header-overlay.home-campaign > div.position-relative.js-header-wrapper > header > div > div.d-flex.flex-justify-between.flex-items-center.width-full.width-lg-auto > div.flex-1.flex-order-2.text-right > button > span > span\n",
    "\n",
    "- click tag : div > div > div > a.HeaderMenu-link.HeaderMenu-link--sign-in"
   ]
  },
  {
   "cell_type": "code",
   "execution_count": 37,
   "id": "9a8380ca-a72c-47ce-9eb7-7e1438b90ce8",
   "metadata": {
    "tags": []
   },
   "outputs": [],
   "source": [
    "element_path = 'body > div.logged-out.env-production.page-responsive.header-overlay.home-campaign > div.position-relative.js-header-wrapper > header > div > div.d-flex.flex-justify-between.flex-items-center.width-full.width-lg-auto > div.flex-1.flex-order-2.text-right > button > span > span'\n",
    "try : \n",
    "    callapsed_menu = browser.find_element_by_css_selector(element_path)\n",
    "    callapsed_menu.click()\n",
    "except :  # bypass로 진행시켜서 에러 없이 화면 잘 나옴 \n",
    "    pass "
   ]
  },
  {
   "cell_type": "code",
   "execution_count": 34,
   "id": "a6ebfe83-7c83-42ba-a487-02569c840557",
   "metadata": {
    "tags": []
   },
   "outputs": [
    {
     "data": {
      "text/plain": [
       "selenium.webdriver.remote.webelement.WebElement"
      ]
     },
     "execution_count": 34,
     "metadata": {},
     "output_type": "execute_result"
    }
   ],
   "source": [
    "element_path = '.HeaderMenu-link.HeaderMenu-link--sign-in'\n",
    "singin_button = browser.find_element_by_css_selector(element_path)\n",
    "type(singin_button)"
   ]
  },
  {
   "cell_type": "code",
   "execution_count": 35,
   "id": "2e136ce6-5ce2-4ef4-8a2b-d691c78db4ae",
   "metadata": {
    "tags": []
   },
   "outputs": [],
   "source": [
    "singin_button.click()"
   ]
  },
  {
   "cell_type": "markdown",
   "id": "b4e7fa77-5cc1-4eb8-a7f9-969d3a22e1bb",
   "metadata": {
    "tags": []
   },
   "source": [
    "### Login 화면 구성 \n",
    "- 1. 로그인 검사 후 copy selector - 메모장에 복사 \n",
    "    - user id input tag :#login_field\n",
    "    - password inpit tag :#password\n",
    "    - click tag : input.btn.btn-primary.btn-block.js-sign-in-button"
   ]
  },
  {
   "cell_type": "code",
   "execution_count": 11,
   "id": "adb3f14e-55c9-439f-a1db-2833d4199fbc",
   "metadata": {
    "tags": []
   },
   "outputs": [],
   "source": [
    "element_path = '#login_field'\n",
    "login_field = browser.find_element_by_css_selector(element_path)\n",
    "login_field.send_keys('cupit2030@gmail.com')"
   ]
  },
  {
   "cell_type": "code",
   "execution_count": 12,
   "id": "3c655584-d880-4669-b822-c53951ece69b",
   "metadata": {
    "tags": []
   },
   "outputs": [],
   "source": [
    "element_path = '#password'\n",
    "password_field = browser.find_element_by_css_selector(element_path)\n",
    "password_field.send_keys('******')"
   ]
  },
  {
   "cell_type": "code",
   "execution_count": 13,
   "id": "61b0e721-1265-4eb8-93ce-0a64941e756b",
   "metadata": {
    "tags": []
   },
   "outputs": [],
   "source": [
    "element_path = 'input.btn.btn-primary.btn-block.js-sign-in-button'\n",
    "signin_button = browser.find_element_by_css_selector(element_path)\n",
    "signin_button.click()"
   ]
  },
  {
   "cell_type": "code",
   "execution_count": null,
   "id": "c5d4cf8f-bd11-4261-907a-08c9031ceb65",
   "metadata": {
    "tags": []
   },
   "outputs": [],
   "source": [
    "browser.quit()"
   ]
  }
 ],
 "metadata": {
  "kernelspec": {
   "display_name": "Python 3 (ipykernel)",
   "language": "python",
   "name": "python3"
  },
  "language_info": {
   "codemirror_mode": {
    "name": "ipython",
    "version": 3
   },
   "file_extension": ".py",
   "mimetype": "text/x-python",
   "name": "python",
   "nbconvert_exporter": "python",
   "pygments_lexer": "ipython3",
   "version": "3.11.3"
  }
 },
 "nbformat": 4,
 "nbformat_minor": 5
}
