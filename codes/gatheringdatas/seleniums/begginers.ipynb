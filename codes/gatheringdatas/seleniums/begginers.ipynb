{
 "cells": [
  {
   "cell_type": "code",
   "execution_count": 1,
   "id": "eebf32c4-6626-4a5b-908d-aaecdea6dc19",
   "metadata": {
    "tags": []
   },
   "outputs": [],
   "source": [
    "from selenium import webdriver"
   ]
  },
  {
   "cell_type": "code",
   "execution_count": 10,
   "id": "aab6e13f-d864-4838-ae6a-37bb2e31dc57",
   "metadata": {
    "tags": []
   },
   "outputs": [],
   "source": [
    "# open Chrome browser.executable_path = 브라우저 여는 법 \n",
    "browser = webdriver.Chrome(executable_path='../../../../chromedriver.exe')"
   ]
  },
  {
   "cell_type": "code",
   "execution_count": 11,
   "id": "f0fffe5e-aae7-4a78-972f-a5637e57bf18",
   "metadata": {
    "tags": []
   },
   "outputs": [],
   "source": [
    "#'https://www.w3schools.com/' 윈도우 창에 특정 주소 연결 \n",
    "# url in address window\n",
    "# enter 치면 새창 생성./#html css가 local로 가져옴 \n",
    "browser.get('https://www.w3schools.com/')"
   ]
  },
  {
   "cell_type": "code",
   "execution_count": 3,
   "id": "274981bd-e092-41cd-ad95-846980e729a3",
   "metadata": {
    "tags": []
   },
   "outputs": [],
   "source": [
    "#브라우저 닫는 법 \n",
    "browser.quit()"
   ]
  },
  {
   "cell_type": "code",
   "execution_count": null,
   "id": "0175a590-6c0b-48d5-8951-c08a98e2bd42",
   "metadata": {},
   "outputs": [],
   "source": []
  }
 ],
 "metadata": {
  "kernelspec": {
   "display_name": "Python 3 (ipykernel)",
   "language": "python",
   "name": "python3"
  },
  "language_info": {
   "codemirror_mode": {
    "name": "ipython",
    "version": 3
   },
   "file_extension": ".py",
   "mimetype": "text/x-python",
   "name": "python",
   "nbconvert_exporter": "python",
   "pygments_lexer": "ipython3",
   "version": "3.11.3"
  }
 },
 "nbformat": 4,
 "nbformat_minor": 5
}
