{
 "cells": [
  {
   "cell_type": "code",
   "execution_count": 112,
   "id": "3d15db43-f792-4afa-80bf-f1c7a521aad9",
   "metadata": {
    "tags": []
   },
   "outputs": [],
   "source": [
    "from selenium import webdriver\n",
    "from selenium.webdriver.common.by import By\n",
    "from selenium.common.exceptions import NoSuchElementException\n",
    "import time\n",
    "import pandas as pd  # pandas 라이브러리를 import합니다.\n",
    "import pymongo as mg\n",
    "import os"
   ]
  },
  {
   "cell_type": "code",
   "execution_count": 113,
   "id": "d7c803f9-c7d5-4709-999a-a5d150e058c2",
   "metadata": {
    "tags": []
   },
   "outputs": [],
   "source": [
    "# open Chrome browser.executable_path = 브라우저 여는 법 \n",
    "browser = webdriver.Chrome(executable_path='../../../../chromedriver.exe')"
   ]
  },
  {
   "cell_type": "code",
   "execution_count": 115,
   "id": "e8a0a979-d59f-43a7-a678-dc79fa17bf47",
   "metadata": {
    "tags": []
   },
   "outputs": [],
   "source": [
    "browser.implicitly_wait(10)\n",
    "url = 'https://finance.naver.com/item/main.naver?code=068760'\n",
    "browser.get(url)\n",
    "browser.maximize_window() #창 최대화 "
   ]
  },
  {
   "cell_type": "code",
   "execution_count": null,
   "id": "db418039-5444-41cf-a17d-af7a2a6ce1c1",
   "metadata": {
    "tags": []
   },
   "outputs": [],
   "source": [
    "# 데이터프레임을 생성합니다.\n",
    "df = pd.DataFrame({'Title': titles})\n",
    "print(df)"
   ]
  },
  {
   "cell_type": "code",
   "execution_count": null,
   "id": "07c43d87-9d3d-458d-a152-120497dd2d91",
   "metadata": {},
   "outputs": [],
   "source": []
  }
 ],
 "metadata": {
  "kernelspec": {
   "display_name": "Python 3 (ipykernel)",
   "language": "python",
   "name": "python3"
  },
  "language_info": {
   "codemirror_mode": {
    "name": "ipython",
    "version": 3
   },
   "file_extension": ".py",
   "mimetype": "text/x-python",
   "name": "python",
   "nbconvert_exporter": "python",
   "pygments_lexer": "ipython3",
   "version": "3.11.3"
  }
 },
 "nbformat": 4,
 "nbformat_minor": 5
}
