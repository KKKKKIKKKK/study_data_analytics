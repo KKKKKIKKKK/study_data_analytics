{
 "cells": [
  {
   "cell_type": "markdown",
   "id": "9fb8947d-8f3d-4463-8ea7-f87cb65e28f8",
   "metadata": {},
   "source": [
    "## 한글 형태소 분석기\n",
    "- refer : https://konlpy-ko.readthedocs.io/ko/v0.6.0/"
   ]
  },
  {
   "cell_type": "code",
   "execution_count": 1,
   "id": "df8f857d-a4f4-4656-ac82-aaac08814b47",
   "metadata": {
    "tags": []
   },
   "outputs": [
    {
     "name": "stdout",
     "output_type": "stream",
     "text": [
      "Requirement already satisfied: konlpy in c:\\users\\5-20\\anaconda3\\lib\\site-packages (0.6.0)\n",
      "Requirement already satisfied: JPype1>=0.7.0 in c:\\users\\5-20\\anaconda3\\lib\\site-packages (from konlpy) (1.4.1)\n",
      "Requirement already satisfied: lxml>=4.1.0 in c:\\users\\5-20\\anaconda3\\lib\\site-packages (from konlpy) (4.9.2)\n",
      "Requirement already satisfied: numpy>=1.6 in c:\\users\\5-20\\anaconda3\\lib\\site-packages (from konlpy) (1.24.3)\n",
      "Requirement already satisfied: packaging in c:\\users\\5-20\\anaconda3\\lib\\site-packages (from JPype1>=0.7.0->konlpy) (23.0)\n",
      "Note: you may need to restart the kernel to use updated packages.\n"
     ]
    }
   ],
   "source": [
    "%pip install konlpy"
   ]
  },
  {
   "cell_type": "markdown",
   "id": "25471e75-6181-41bc-9113-c00e95b791e9",
   "metadata": {},
   "source": [
    "### Okt : 한글 형태 분석기 중 하나 "
   ]
  },
  {
   "cell_type": "code",
   "execution_count": 2,
   "id": "a4c8748f-c9be-4ed7-9c1c-b2fb7d9fb9e5",
   "metadata": {
    "tags": []
   },
   "outputs": [],
   "source": [
    "from konlpy.tag import Okt"
   ]
  },
  {
   "cell_type": "code",
   "execution_count": 3,
   "id": "fdc7506e-1117-4ca3-8e84-4707e55a0d5e",
   "metadata": {
    "tags": []
   },
   "outputs": [],
   "source": [
    "#Okt 인스턴스화 형태소 분석기 선택./Okt는 형태를 품고 있음.\n",
    "okt = Okt()"
   ]
  },
  {
   "cell_type": "code",
   "execution_count": 4,
   "id": "dc8b0ef6-428c-4eb1-ab4f-78865b31b9da",
   "metadata": {
    "tags": []
   },
   "outputs": [],
   "source": [
    "sentence_list = ['아버지가방에들어가신다'\n",
    "                ,'나는 밥을 먹는다' \n",
    "                ,'하늘을 나는 자동차'\n",
    "                ,'아이폰 기다리다 지쳐 애플공홈에서 언락폰질러버렸다 6+ 128기가실버ㅋ']"
   ]
  },
  {
   "cell_type": "code",
   "execution_count": 5,
   "id": "1b79131a-645b-43ec-a4f9-979e4e07cd54",
   "metadata": {
    "tags": []
   },
   "outputs": [
    {
     "data": {
      "text/plain": [
       "['나', '는', '밥', '을', '먹는다']"
      ]
     },
     "execution_count": 5,
     "metadata": {},
     "output_type": "execute_result"
    }
   ],
   "source": [
    "morphs_list = okt.morphs(sentence_list[1]) #토근화 \n",
    "morphs_list"
   ]
  },
  {
   "cell_type": "code",
   "execution_count": 6,
   "id": "6a0cc277-6890-4796-bba2-1d608722e403",
   "metadata": {
    "tags": []
   },
   "outputs": [
    {
     "data": {
      "text/plain": [
       "[('나', 'Noun'), ('는', 'Josa'), ('밥', 'Noun'), ('을', 'Josa'), ('먹는다', 'Verb')]"
      ]
     },
     "execution_count": 6,
     "metadata": {},
     "output_type": "execute_result"
    }
   ],
   "source": [
    "sentence_list[1] #pokt.pos(os 품사달기. "
   ]
  },
  {
   "cell_type": "code",
   "execution_count": 7,
   "id": "fcc9fec3-c77f-40c7-b62b-9f16ebbf0527",
   "metadata": {
    "tags": []
   },
   "outputs": [
    {
     "data": {
      "text/plain": [
       "['나', '밥']"
      ]
     },
     "execution_count": 7,
     "metadata": {},
     "output_type": "execute_result"
    }
   ],
   "source": [
    "okt.nouns(sentence_list[1]) #nouns 명사만 출력 "
   ]
  },
  {
   "cell_type": "code",
   "execution_count": 8,
   "id": "12c35165-9bab-4c40-af6f-d8d140c86a6a",
   "metadata": {
    "tags": []
   },
   "outputs": [
    {
     "data": {
      "text/plain": [
       "['애플공홈', '애플', '공홈']"
      ]
     },
     "execution_count": 8,
     "metadata": {},
     "output_type": "execute_result"
    }
   ],
   "source": [
    "okt.phrases('애플공홈') #결합명사 단어별  분리 되어서 나옴. "
   ]
  },
  {
   "cell_type": "markdown",
   "id": "a0940a8e-2d2f-4f61-b454-956a547ce625",
   "metadata": {},
   "source": [
    "### Mecab"
   ]
  },
  {
   "cell_type": "code",
   "execution_count": 18,
   "id": "03a46c73-f937-421c-a4df-70cb6941a70f",
   "metadata": {
    "tags": []
   },
   "outputs": [
    {
     "name": "stdout",
     "output_type": "stream",
     "text": [
      "Requirement already satisfied: python-mecab-ko in c:\\users\\5-20\\anaconda3\\lib\\site-packages (1.3.3)\n",
      "Requirement already satisfied: python-mecab-ko-dic in c:\\users\\5-20\\anaconda3\\lib\\site-packages (from python-mecab-ko) (2.1.1.post2)\n"
     ]
    }
   ],
   "source": [
    "!pip install python-mecab-ko"
   ]
  },
  {
   "cell_type": "code",
   "execution_count": 20,
   "id": "3a3e12b0-eb8c-4d10-8b70-2061052e92bf",
   "metadata": {
    "tags": []
   },
   "outputs": [],
   "source": [
    "from mecab import MeCab"
   ]
  },
  {
   "cell_type": "code",
   "execution_count": 21,
   "id": "27753809-38c1-4a09-90d3-9191a190e73c",
   "metadata": {
    "tags": []
   },
   "outputs": [],
   "source": [
    "mecab = MeCab()"
   ]
  },
  {
   "cell_type": "code",
   "execution_count": 22,
   "id": "6847164a-91f3-43f7-a6c9-3304851eee35",
   "metadata": {
    "tags": []
   },
   "outputs": [
    {
     "data": {
      "text/plain": [
       "['아버지', '가', '방', '에', '들어가', '신다']"
      ]
     },
     "execution_count": 22,
     "metadata": {},
     "output_type": "execute_result"
    }
   ],
   "source": [
    "mecab.morphs(sentence_list[0])              "
   ]
  },
  {
   "cell_type": "code",
   "execution_count": 14,
   "id": "4d781a80-d1fe-486a-ba92-c18330d504ab",
   "metadata": {
    "tags": []
   },
   "outputs": [
    {
     "data": {
      "text/plain": [
       "[('아버지', 'NNG'),\n",
       " ('가', 'JKS'),\n",
       " ('방', 'NNG'),\n",
       " ('에', 'JKB'),\n",
       " ('들어가', 'VV'),\n",
       " ('신다', 'EP+EC')]"
      ]
     },
     "execution_count": 14,
     "metadata": {},
     "output_type": "execute_result"
    }
   ],
   "source": [
    "mecab.pos(sentence_list[0])"
   ]
  },
  {
   "cell_type": "code",
   "execution_count": 15,
   "id": "90af2e09-57b1-4d05-90a4-2fed2fa584af",
   "metadata": {
    "tags": []
   },
   "outputs": [
    {
     "data": {
      "text/plain": [
       "[Morpheme(span=Span(start=0, end=2), surface='애플', feature=Feature(pos='NNP', semantic='인명', has_jongseong=True, reading='애플', type=None, start_pos=None, end_pos=None, expression=None)),\n",
       " Morpheme(span=Span(start=2, end=4), surface='공홈', feature=Feature(pos='NNG', semantic=None, has_jongseong=True, reading='공홈', type=None, start_pos=None, end_pos=None, expression=None))]"
      ]
     },
     "execution_count": 15,
     "metadata": {},
     "output_type": "execute_result"
    }
   ],
   "source": [
    "mecab.parse('애플공홈')"
   ]
  },
  {
   "cell_type": "code",
   "execution_count": 17,
   "id": "b8cd9fe3-feb7-40eb-b7f9-90d3268ec426",
   "metadata": {
    "tags": []
   },
   "outputs": [
    {
     "name": "stdout",
     "output_type": "stream",
     "text": [
      "['아버지', '가', '방', '에', '들어가', '신다']\n",
      "['나', '는', '밥', '을', '먹', '는다']\n",
      "['하늘', '을', '나', '는', '자동차']\n",
      "['아이폰', '기다리', '다', '지쳐', '애플', '공홈', '에서', '언락', '폰', '질러', '버렸', '다', '6', '+', '128', '기', '가', '실버', 'ㅋ']\n"
     ]
    }
   ],
   "source": [
    "for sentence in sentence_list:\n",
    "    morphs_list = mecab.morphs(sentence)\n",
    "    print(morphs_list)"
   ]
  },
  {
   "cell_type": "code",
   "execution_count": null,
   "id": "da34a5fb-9630-47f9-9f9a-9a0c466d68fd",
   "metadata": {},
   "outputs": [],
   "source": []
  }
 ],
 "metadata": {
  "kernelspec": {
   "display_name": "Python 3 (ipykernel)",
   "language": "python",
   "name": "python3"
  },
  "language_info": {
   "codemirror_mode": {
    "name": "ipython",
    "version": 3
   },
   "file_extension": ".py",
   "mimetype": "text/x-python",
   "name": "python",
   "nbconvert_exporter": "python",
   "pygments_lexer": "ipython3",
   "version": "3.11.3"
  }
 },
 "nbformat": 4,
 "nbformat_minor": 5
}
