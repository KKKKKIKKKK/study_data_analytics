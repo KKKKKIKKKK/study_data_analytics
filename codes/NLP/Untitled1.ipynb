{
 "cells": [
  {
   "cell_type": "code",
   "execution_count": 1,
   "id": "4b79489b-7975-4b72-aabf-0cd8b2f52fad",
   "metadata": {
    "tags": []
   },
   "outputs": [],
   "source": [
    "sentences = [\n",
    "    \"오늘 날씨가 좋아서 나들이 가고 싶다.\",\n",
    "    \"이 영화는 정말 재미있었어요.\",\n",
    "    \"맛있는 음식을 먹으러 갈까요?\",\n",
    "    \"운동을 하면 건강에 좋아지는 것 같아요.\",\n",
    "    \"공부하기 싫어서 미루고 있어요.\",\n",
    "    \"여행 계획을 세우고 있는데 어디로 갈까요?\",\n",
    "    \"좋은 책을 읽으면 마음이 편안해져요.\",\n",
    "    \"오늘은 친구들과 만나서 재미있게 놀았어요.\",\n",
    "    \"새로운 언어를 배우는 것은 어려워도 흥미로워요.\",\n",
    "    \"주말에 가족들과 함께 시간을 보내기로 했습니다.\"\n",
    "]"
   ]
  },
  {
   "cell_type": "code",
   "execution_count": 4,
   "id": "1ba6ecb9-e460-412c-aec4-f7eef0d167b8",
   "metadata": {
    "tags": []
   },
   "outputs": [],
   "source": [
    "#형태소 분석기\n",
    "from gensim.corpora import Dictionary\n",
    "from gensim.models import LdaModel #주제어 확인"
   ]
  },
  {
   "cell_type": "markdown",
   "id": "afb656c3-2eac-4d20-9e2a-e776e87d7a06",
   "metadata": {},
   "source": [
    "### 전처리(형태소 분석, 불용어 처리 등이 들어감) "
   ]
  },
  {
   "cell_type": "code",
   "execution_count": 9,
   "id": "38b38fea-3ec9-4a01-98f2-172651d8405b",
   "metadata": {
    "tags": []
   },
   "outputs": [
    {
     "ename": "ModuleNotFoundError",
     "evalue": "No module named 'mecab'",
     "output_type": "error",
     "traceback": [
      "\u001b[1;31m---------------------------------------------------------------------------\u001b[0m",
      "\u001b[1;31mModuleNotFoundError\u001b[0m                       Traceback (most recent call last)",
      "Cell \u001b[1;32mIn[9], line 1\u001b[0m\n\u001b[1;32m----> 1\u001b[0m \u001b[38;5;28;01mfrom\u001b[39;00m \u001b[38;5;21;01mmecab\u001b[39;00m \u001b[38;5;28;01mimport\u001b[39;00m MeCab\n\u001b[0;32m      2\u001b[0m \u001b[38;5;66;03m# 형태분석기 사용해 명사만 추출\u001b[39;00m\n\u001b[0;32m      3\u001b[0m morphs_list \u001b[38;5;241m=\u001b[39m \u001b[38;5;28mlist\u001b[39m()\n",
      "\u001b[1;31mModuleNotFoundError\u001b[0m: No module named 'mecab'"
     ]
    }
   ],
   "source": [
    "from mecab import MeCab\n",
    "# 형태분석기 사용해 명사만 추출\n",
    "morphs_list = list()\n",
    "for sentence in sentences :\n",
    "    morphs = mecab.nouns(sentence)\n",
    "    morphs_list = morphs_list + morphs\n",
    "morphs_list "
   ]
  },
  {
   "cell_type": "code",
   "execution_count": 5,
   "id": "fb85cea7-045e-4858-9206-629c4e1c7acb",
   "metadata": {
    "tags": []
   },
   "outputs": [],
   "source": [
    "#전처리 \n",
    "preprocessed_sentences = morphs_list"
   ]
  },
  {
   "cell_type": "code",
   "execution_count": 6,
   "id": "3d01a8e9-ab45-4697-a18e-dbccbc4a5dcb",
   "metadata": {
    "tags": []
   },
   "outputs": [
    {
     "data": {
      "text/plain": [
       "<gensim.corpora.dictionary.Dictionary at 0x278a4cc9510>"
      ]
     },
     "execution_count": 6,
     "metadata": {},
     "output_type": "execute_result"
    }
   ],
   "source": [
    "Dictionary()"
   ]
  },
  {
   "cell_type": "code",
   "execution_count": null,
   "id": "c6bf03cd-b98e-4e12-aa9e-147ff51ac5af",
   "metadata": {},
   "outputs": [],
   "source": []
  }
 ],
 "metadata": {
  "kernelspec": {
   "display_name": "Python 3 (ipykernel)",
   "language": "python",
   "name": "python3"
  },
  "language_info": {
   "codemirror_mode": {
    "name": "ipython",
    "version": 3
   },
   "file_extension": ".py",
   "mimetype": "text/x-python",
   "name": "python",
   "nbconvert_exporter": "python",
   "pygments_lexer": "ipython3",
   "version": "3.11.3"
  }
 },
 "nbformat": 4,
 "nbformat_minor": 5
}
