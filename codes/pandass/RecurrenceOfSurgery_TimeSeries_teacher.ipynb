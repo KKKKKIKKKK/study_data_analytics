{
 "cells": [
  {
   "cell_type": "code",
   "execution_count": 1,
   "id": "3dc534de-9431-44e8-a3d5-161a0b30ef85",
   "metadata": {
    "tags": []
   },
   "outputs": [],
   "source": [
    "import matplotlib.pyplot as plt\n",
    "import matplotlib as mpl\n",
    "mpl.rc('font',family='Malgun Gothic')\n",
    "import seaborn as sns\n",
    "import pandas as pd\n",
    "import scipy.stats as stats"
   ]
  },
  {
   "cell_type": "code",
   "execution_count": 2,
   "id": "7f6d3435-6458-4370-8671-9f7a367c0798",
   "metadata": {
    "tags": []
   },
   "outputs": [
    {
     "data": {
      "text/html": [
       "<div>\n",
       "<style scoped>\n",
       "    .dataframe tbody tr th:only-of-type {\n",
       "        vertical-align: middle;\n",
       "    }\n",
       "\n",
       "    .dataframe tbody tr th {\n",
       "        vertical-align: top;\n",
       "    }\n",
       "\n",
       "    .dataframe thead th {\n",
       "        text-align: right;\n",
       "    }\n",
       "</style>\n",
       "<table border=\"1\" class=\"dataframe\">\n",
       "  <thead>\n",
       "    <tr style=\"text-align: right;\">\n",
       "      <th></th>\n",
       "      <th>Unnamed: 0</th>\n",
       "      <th>환자ID</th>\n",
       "      <th>Large Lymphocyte</th>\n",
       "      <th>Location of herniation</th>\n",
       "      <th>ODI</th>\n",
       "      <th>가족력</th>\n",
       "      <th>간질성폐질환</th>\n",
       "      <th>고혈압여부</th>\n",
       "      <th>과거수술횟수</th>\n",
       "      <th>당뇨여부</th>\n",
       "      <th>...</th>\n",
       "      <th>Modic change</th>\n",
       "      <th>PI</th>\n",
       "      <th>PT</th>\n",
       "      <th>Seg Angle(raw)</th>\n",
       "      <th>Vaccum disc</th>\n",
       "      <th>골밀도</th>\n",
       "      <th>디스크단면적</th>\n",
       "      <th>디스크위치</th>\n",
       "      <th>척추이동척도</th>\n",
       "      <th>척추전방위증</th>\n",
       "    </tr>\n",
       "  </thead>\n",
       "  <tbody>\n",
       "    <tr>\n",
       "      <th>0</th>\n",
       "      <td>0</td>\n",
       "      <td>1PT</td>\n",
       "      <td>22.8</td>\n",
       "      <td>3</td>\n",
       "      <td>51.0</td>\n",
       "      <td>0.0</td>\n",
       "      <td>0</td>\n",
       "      <td>0</td>\n",
       "      <td>0</td>\n",
       "      <td>0</td>\n",
       "      <td>...</td>\n",
       "      <td>3</td>\n",
       "      <td>51.6</td>\n",
       "      <td>36.6</td>\n",
       "      <td>14.4</td>\n",
       "      <td>0</td>\n",
       "      <td>-1.01</td>\n",
       "      <td>2048.5</td>\n",
       "      <td>4</td>\n",
       "      <td>Down</td>\n",
       "      <td>0</td>\n",
       "    </tr>\n",
       "    <tr>\n",
       "      <th>1</th>\n",
       "      <td>1</td>\n",
       "      <td>2PT</td>\n",
       "      <td>44.9</td>\n",
       "      <td>4</td>\n",
       "      <td>26.0</td>\n",
       "      <td>0.0</td>\n",
       "      <td>0</td>\n",
       "      <td>0</td>\n",
       "      <td>0</td>\n",
       "      <td>0</td>\n",
       "      <td>...</td>\n",
       "      <td>0</td>\n",
       "      <td>40.8</td>\n",
       "      <td>7.2</td>\n",
       "      <td>17.8</td>\n",
       "      <td>0</td>\n",
       "      <td>-1.14</td>\n",
       "      <td>1753.1</td>\n",
       "      <td>4</td>\n",
       "      <td>Up</td>\n",
       "      <td>0</td>\n",
       "    </tr>\n",
       "  </tbody>\n",
       "</table>\n",
       "<p>2 rows × 52 columns</p>\n",
       "</div>"
      ],
      "text/plain": [
       "   Unnamed: 0 환자ID  Large Lymphocyte  Location of herniation   ODI  가족력  \\\n",
       "0           0  1PT              22.8                       3  51.0  0.0   \n",
       "1           1  2PT              44.9                       4  26.0  0.0   \n",
       "\n",
       "   간질성폐질환  고혈압여부  과거수술횟수  당뇨여부  ...  Modic change    PI    PT  Seg Angle(raw)  \\\n",
       "0       0      0       0     0  ...             3  51.6  36.6            14.4   \n",
       "1       0      0       0     0  ...             0  40.8   7.2            17.8   \n",
       "\n",
       "   Vaccum disc   골밀도  디스크단면적  디스크위치  척추이동척도  척추전방위증  \n",
       "0            0 -1.01  2048.5      4    Down       0  \n",
       "1            0 -1.14  1753.1      4      Up       0  \n",
       "\n",
       "[2 rows x 52 columns]"
      ]
     },
     "execution_count": 2,
     "metadata": {},
     "output_type": "execute_result"
    }
   ],
   "source": [
    "df_ROS = pd.read_csv('../../datasets/RecurrenceOfSurgery.csv')\n",
    "df_ROS.head(2)"
   ]
  },
  {
   "cell_type": "code",
   "execution_count": 3,
   "id": "52c28b9e-f8df-4d0d-a029-7df4d76fc9dc",
   "metadata": {
    "tags": []
   },
   "outputs": [
    {
     "data": {
      "text/plain": [
       "Index(['Unnamed: 0', '환자ID', 'Large Lymphocyte', 'Location of herniation',\n",
       "       'ODI', '가족력', '간질성폐질환', '고혈압여부', '과거수술횟수', '당뇨여부', '말초동맥질환여부', '빈혈여부',\n",
       "       '성별', '스테로이드치료', '신부전여부', '신장', '심혈관질환', '암발병여부', '연령', '우울증여부', '입원기간',\n",
       "       '입원일자', '종양진행여부', '직업', '체중', '퇴원일자', '헤모글로빈수치', '혈전합병증여부', '환자통증정도',\n",
       "       '흡연여부', '통증기간(월)', '수술기법', '수술시간', '수술실패여부', '수술일자', '재발여부', '혈액형',\n",
       "       '전방디스크높이(mm)', '후방디스크높이(mm)', '지방축적도', 'Instability', 'MF + ES',\n",
       "       'Modic change', 'PI', 'PT', 'Seg Angle(raw)', 'Vaccum disc', '골밀도',\n",
       "       '디스크단면적', '디스크위치', '척추이동척도', '척추전방위증'],\n",
       "      dtype='object')"
      ]
     },
     "execution_count": 3,
     "metadata": {},
     "output_type": "execute_result"
    }
   ],
   "source": [
    "df_ROS.columns"
   ]
  },
  {
   "cell_type": "markdown",
   "id": "a035af6a-70e9-4300-8ee6-245ae025a8ef",
   "metadata": {
    "tags": []
   },
   "source": [
    "#### 입원일자 & 퇴원일자가 같은 record에 있는 건 같이 만들 수 없다. \n",
    "- record가 독립적으로 있어야 가능(분류로)"
   ]
  },
  {
   "cell_type": "markdown",
   "id": "017215b2-8f37-489b-8ece-553f181cb38f",
   "metadata": {},
   "source": [
    "### ▶시각화분석 접근 방식\n",
    "- 표현하는 데이터 타입\n",
    "- 시각화 종류\n",
    "    - 단일변수 / 연속형 : 그릴 수 있는 것 - barplot, histplot, boxplot(中) - ## histplot\n",
    "    - 단일변수 / 범주형 : barplot, countplot - ##barplot\n",
    "    - 단일변수 / 순서형 : ##lineplot\n",
    "\n",
    "- histplot(정규분포여부 확인 시)/ barplot /lineplot 多 사용\n",
    "- 현 데이터로 시각화 가능 여부\n",
    "    - 한 chart에 동시적으로 표현 여부 :레코드 분리 되어 있어야 함\n",
    "    - 단일 변수 표현 시 주의점: count 대치하는 변수 여부 "
   ]
  },
  {
   "cell_type": "code",
   "execution_count": 4,
   "id": "f37d597f-5cd1-47e0-9c69-8c4863055461",
   "metadata": {
    "tags": []
   },
   "outputs": [
    {
     "data": {
      "text/html": [
       "<div>\n",
       "<style scoped>\n",
       "    .dataframe tbody tr th:only-of-type {\n",
       "        vertical-align: middle;\n",
       "    }\n",
       "\n",
       "    .dataframe tbody tr th {\n",
       "        vertical-align: top;\n",
       "    }\n",
       "\n",
       "    .dataframe thead th {\n",
       "        text-align: right;\n",
       "    }\n",
       "</style>\n",
       "<table border=\"1\" class=\"dataframe\">\n",
       "  <thead>\n",
       "    <tr style=\"text-align: right;\">\n",
       "      <th></th>\n",
       "      <th>입원일자</th>\n",
       "      <th>환자ID</th>\n",
       "      <th>퇴원일자</th>\n",
       "    </tr>\n",
       "  </thead>\n",
       "  <tbody>\n",
       "    <tr>\n",
       "      <th>0</th>\n",
       "      <td>20190713</td>\n",
       "      <td>1PT</td>\n",
       "      <td>20190716</td>\n",
       "    </tr>\n",
       "    <tr>\n",
       "      <th>1</th>\n",
       "      <td>20190715</td>\n",
       "      <td>2PT</td>\n",
       "      <td>20190716</td>\n",
       "    </tr>\n",
       "  </tbody>\n",
       "</table>\n",
       "</div>"
      ],
      "text/plain": [
       "       입원일자 환자ID      퇴원일자\n",
       "0  20190713  1PT  20190716\n",
       "1  20190715  2PT  20190716"
      ]
     },
     "execution_count": 4,
     "metadata": {},
     "output_type": "execute_result"
    }
   ],
   "source": [
    "### ▶필요한 변수만 추출/ #어떤 칼럼을 가져와도 상관없음. \n",
    "df_ROS_extract = df_ROS[['입원일자', '환자ID', '퇴원일자']]\n",
    "df_ROS_extract[:2]"
   ]
  },
  {
   "cell_type": "code",
   "execution_count": 5,
   "id": "94b2aa2f-ce8e-4606-8f58-9911ab878f97",
   "metadata": {
    "tags": []
   },
   "outputs": [
    {
     "name": "stderr",
     "output_type": "stream",
     "text": [
      "C:\\Users\\5-20\\AppData\\Local\\Temp\\ipykernel_15032\\3745192220.py:2: SettingWithCopyWarning: \n",
      "A value is trying to be set on a copy of a slice from a DataFrame.\n",
      "Try using .loc[row_indexer,col_indexer] = value instead\n",
      "\n",
      "See the caveats in the documentation: https://pandas.pydata.org/pandas-docs/stable/user_guide/indexing.html#returning-a-view-versus-a-copy\n",
      "  df_ROS_extract['입원일자_datetime']= pd.to_datetime(df_ROS_extract['입원일자'].astype(str))\n",
      "C:\\Users\\5-20\\AppData\\Local\\Temp\\ipykernel_15032\\3745192220.py:3: SettingWithCopyWarning: \n",
      "A value is trying to be set on a copy of a slice from a DataFrame.\n",
      "Try using .loc[row_indexer,col_indexer] = value instead\n",
      "\n",
      "See the caveats in the documentation: https://pandas.pydata.org/pandas-docs/stable/user_guide/indexing.html#returning-a-view-versus-a-copy\n",
      "  df_ROS_extract['퇴원일자_datetime']= pd.to_datetime(df_ROS_extract['퇴원일자'].astype(str))\n"
     ]
    }
   ],
   "source": [
    "# '입원일자'의 컬럼 str로 변환-> 날짜형으로 변환 ->'입원일자_datetime'로 컬럼 추가\n",
    "df_ROS_extract['입원일자_datetime']= pd.to_datetime(df_ROS_extract['입원일자'].astype(str))\n",
    "df_ROS_extract['퇴원일자_datetime']= pd.to_datetime(df_ROS_extract['퇴원일자'].astype(str))"
   ]
  },
  {
   "cell_type": "code",
   "execution_count": 6,
   "id": "63bc2397-dc80-4995-bf25-fcfddc7a4a59",
   "metadata": {
    "tags": []
   },
   "outputs": [
    {
     "name": "stdout",
     "output_type": "stream",
     "text": [
      "<class 'pandas.core.frame.DataFrame'>\n",
      "RangeIndex: 1894 entries, 0 to 1893\n",
      "Data columns (total 5 columns):\n",
      " #   Column         Non-Null Count  Dtype         \n",
      "---  ------         --------------  -----         \n",
      " 0   입원일자           1894 non-null   int64         \n",
      " 1   환자ID           1894 non-null   object        \n",
      " 2   퇴원일자           1894 non-null   int64         \n",
      " 3   입원일자_datetime  1894 non-null   datetime64[ns]\n",
      " 4   퇴원일자_datetime  1894 non-null   datetime64[ns]\n",
      "dtypes: datetime64[ns](2), int64(2), object(1)\n",
      "memory usage: 74.1+ KB\n"
     ]
    }
   ],
   "source": [
    "#df_ROS_extract[:2]\n",
    "df_ROS_extract.info()"
   ]
  },
  {
   "cell_type": "code",
   "execution_count": 7,
   "id": "aff10b32-618a-4341-9845-4552d610daa3",
   "metadata": {
    "tags": []
   },
   "outputs": [
    {
     "name": "stderr",
     "output_type": "stream",
     "text": [
      "C:\\Users\\5-20\\AppData\\Local\\Temp\\ipykernel_15032\\1296604899.py:1: SettingWithCopyWarning: \n",
      "A value is trying to be set on a copy of a slice from a DataFrame.\n",
      "Try using .loc[row_indexer,col_indexer] = value instead\n",
      "\n",
      "See the caveats in the documentation: https://pandas.pydata.org/pandas-docs/stable/user_guide/indexing.html#returning-a-view-versus-a-copy\n",
      "  df_ROS_extract['입원일자_datetime_day'] = df_ROS_extract['입원일자_datetime'].dt.day_name()\n",
      "C:\\Users\\5-20\\AppData\\Local\\Temp\\ipykernel_15032\\1296604899.py:2: SettingWithCopyWarning: \n",
      "A value is trying to be set on a copy of a slice from a DataFrame.\n",
      "Try using .loc[row_indexer,col_indexer] = value instead\n",
      "\n",
      "See the caveats in the documentation: https://pandas.pydata.org/pandas-docs/stable/user_guide/indexing.html#returning-a-view-versus-a-copy\n",
      "  df_ROS_extract['퇴원일자_datetime_day'] = df_ROS_extract['퇴원일자_datetime'].dt.day_name()\n"
     ]
    }
   ],
   "source": [
    "df_ROS_extract['입원일자_datetime_day'] = df_ROS_extract['입원일자_datetime'].dt.day_name()\n",
    "df_ROS_extract['퇴원일자_datetime_day'] = df_ROS_extract['퇴원일자_datetime'].dt.day_name()"
   ]
  },
  {
   "cell_type": "code",
   "execution_count": 8,
   "id": "af59ffb5-e769-484d-891b-733e440b033b",
   "metadata": {
    "tags": []
   },
   "outputs": [
    {
     "data": {
      "text/html": [
       "<div>\n",
       "<style scoped>\n",
       "    .dataframe tbody tr th:only-of-type {\n",
       "        vertical-align: middle;\n",
       "    }\n",
       "\n",
       "    .dataframe tbody tr th {\n",
       "        vertical-align: top;\n",
       "    }\n",
       "\n",
       "    .dataframe thead th {\n",
       "        text-align: right;\n",
       "    }\n",
       "</style>\n",
       "<table border=\"1\" class=\"dataframe\">\n",
       "  <thead>\n",
       "    <tr style=\"text-align: right;\">\n",
       "      <th></th>\n",
       "      <th>입원일자</th>\n",
       "      <th>환자ID</th>\n",
       "      <th>퇴원일자</th>\n",
       "      <th>입원일자_datetime</th>\n",
       "      <th>퇴원일자_datetime</th>\n",
       "      <th>입원일자_datetime_day</th>\n",
       "      <th>퇴원일자_datetime_day</th>\n",
       "    </tr>\n",
       "  </thead>\n",
       "  <tbody>\n",
       "    <tr>\n",
       "      <th>0</th>\n",
       "      <td>20190713</td>\n",
       "      <td>1PT</td>\n",
       "      <td>20190716</td>\n",
       "      <td>2019-07-13</td>\n",
       "      <td>2019-07-16</td>\n",
       "      <td>Saturday</td>\n",
       "      <td>Tuesday</td>\n",
       "    </tr>\n",
       "    <tr>\n",
       "      <th>1</th>\n",
       "      <td>20190715</td>\n",
       "      <td>2PT</td>\n",
       "      <td>20190716</td>\n",
       "      <td>2019-07-15</td>\n",
       "      <td>2019-07-16</td>\n",
       "      <td>Monday</td>\n",
       "      <td>Tuesday</td>\n",
       "    </tr>\n",
       "  </tbody>\n",
       "</table>\n",
       "</div>"
      ],
      "text/plain": [
       "       입원일자 환자ID      퇴원일자 입원일자_datetime 퇴원일자_datetime 입원일자_datetime_day  \\\n",
       "0  20190713  1PT  20190716    2019-07-13    2019-07-16          Saturday   \n",
       "1  20190715  2PT  20190716    2019-07-15    2019-07-16            Monday   \n",
       "\n",
       "  퇴원일자_datetime_day  \n",
       "0           Tuesday  \n",
       "1           Tuesday  "
      ]
     },
     "execution_count": 8,
     "metadata": {},
     "output_type": "execute_result"
    }
   ],
   "source": [
    "df_ROS_extract[:2]"
   ]
  },
  {
   "cell_type": "code",
   "execution_count": 9,
   "id": "394105e6-568b-4525-8b2a-9393eb4198f9",
   "metadata": {
    "tags": []
   },
   "outputs": [
    {
     "data": {
      "text/plain": [
       "Tuesday      376\n",
       "Monday       329\n",
       "Thursday     329\n",
       "Wednesday    304\n",
       "Sunday       204\n",
       "Friday       204\n",
       "Saturday     148\n",
       "Name: 입원일자_datetime_day, dtype: int64"
      ]
     },
     "execution_count": 9,
     "metadata": {},
     "output_type": "execute_result"
    }
   ],
   "source": [
    "df_ROS_extract['입원일자_datetime_day'].value_counts()"
   ]
  },
  {
   "cell_type": "code",
   "execution_count": 10,
   "id": "ad9aa9e6-138e-4e64-8958-d1bfc47011f0",
   "metadata": {
    "tags": []
   },
   "outputs": [
    {
     "data": {
      "text/plain": [
       "<Axes: xlabel='입원일자_datetime_day'>"
      ]
     },
     "execution_count": 10,
     "metadata": {},
     "output_type": "execute_result"
    },
    {
     "data": {
      "image/png": "[encoded data removed]",
      "text/plain": [
       "<Figure size 640x480 with 1 Axes>"
      ]
     },
     "metadata": {},
     "output_type": "display_data"
    }
   ],
   "source": [
    "pd.pivot_table(data=df_ROS_extract[['입원일자_datetime_day','환자ID']], index='입원일자_datetime_day', aggfunc=len).plot(kind='line')\n",
    "#df_ROS_extract_pivot= pd.pivot_table(data=df_ROS_extract[['입원일자_datetime_day','환자ID']], index='입원일자_datetime_day', aggfunc=len)\n",
    "#df_ROS_extract_pivot[:2]"
   ]
  },
  {
   "cell_type": "markdown",
   "id": "3e39a3fe-c233-4625-b44c-9fd74d51dc6b",
   "metadata": {},
   "source": [
    "### ▶주차별 환자 [입원/ 퇴원 추이 시각화] 및 인사이트\n",
    "- 표현하는 데이터 타입 : 주차(WEEK 연속형), 단일변수\n",
    "- 시각화 종류 : lineplot\n",
    "\n",
    "밑에 povot 테이블을 line으로만 만들면 됨 "
   ]
  },
  {
   "cell_type": "markdown",
   "id": "20e6c361-5e6d-4966-a72d-fd2f11583fba",
   "metadata": {
    "tags": []
   },
   "source": [
    "### ▶요일별 환자 [입원/퇴원 시각화] 및 인사이트\n",
    "- 표현하는 데이터 타입 : 범주형(DAYS), 단일변수 \n",
    "- 시각화 종류 : barplot\n",
    "- 레코드 갯수로 count "
   ]
  },
  {
   "cell_type": "code",
   "execution_count": null,
   "id": "4c858a4f-25c5-4b70-b58a-89700410502a",
   "metadata": {
    "tags": []
   },
   "outputs": [],
   "source": [
    "df_ROS_extract['입원일자_datetime_day'] = df_ROS_extract['입원일자_datetime'].dt.day_name()\n",
    "df_ROS_extract['퇴원일자_datetime_day'] = df_ROS_extract['퇴원일자_datetime'].dt.day_name()"
   ]
  },
  {
   "cell_type": "code",
   "execution_count": null,
   "id": "359b2e96-a72c-4c04-bb8e-7a64fbdb7dae",
   "metadata": {
    "tags": []
   },
   "outputs": [],
   "source": [
    "df_ROS_extract[:2]"
   ]
  },
  {
   "cell_type": "code",
   "execution_count": null,
   "id": "69bfbd05-30f7-4e69-afbc-86a3fdb19788",
   "metadata": {
    "tags": []
   },
   "outputs": [],
   "source": [
    "df_ROS_extract['입원일자_datetime_day'].value_counts()"
   ]
  },
  {
   "cell_type": "code",
   "execution_count": null,
   "id": "1f900d3f-2fd3-44b0-9548-0ee8f923c0b0",
   "metadata": {
    "tags": []
   },
   "outputs": [],
   "source": [
    "#PIVOT 테이블 사용(이유 :갯수를 가져와야함)\n",
    "pd.pivot_table(data=df_ROS_extract[['입원일자_datetime_day','환자ID']], index='입원일자_datetime_day', aggfunc=len).plot(kind='line')\n",
    "#df_ROS_extract_pivot= pd.pivot_table(data=df_ROS_extract [['입원일자_datetime_day', '환자ID']], index='입원일자_datetime_day',aggfunc=len)\n",
    "#df_ROS_extract_pivot[:2]"
   ]
  },
  {
   "cell_type": "code",
   "execution_count": null,
   "id": "4c77eb22-a38f-4031-b804-4bde6074b2d4",
   "metadata": {
    "tags": []
   },
   "outputs": [],
   "source": [
    "# index의 value 값을 컬럼으로 추가\n",
    "df_ROS_extract_pivot['입원일자_dayname'] =  df_ROS_extract_pivot.index\n",
    "df_ROS_extract_pivot"
   ]
  },
  {
   "cell_type": "code",
   "execution_count": null,
   "id": "53a15547-40bf-4782-b480-4a63907799e7",
   "metadata": {
    "tags": []
   },
   "outputs": [],
   "source": [
    "sns.barplot(data=df_ROS_extract_pivot, x='입원일자_dayname', y='환자ID')\n"
   ]
  },
  {
   "cell_type": "code",
   "execution_count": null,
   "id": "1ec936e1-62d3-49f7-a46a-c2d386792281",
   "metadata": {},
   "outputs": [],
   "source": []
  }
 ],
 "metadata": {
  "kernelspec": {
   "display_name": "Python 3 (ipykernel)",
   "language": "python",
   "name": "python3"
  },
  "language_info": {
   "codemirror_mode": {
    "name": "ipython",
    "version": 3
   },
   "file_extension": ".py",
   "mimetype": "text/x-python",
   "name": "python",
   "nbconvert_exporter": "python",
   "pygments_lexer": "ipython3",
   "version": "3.11.3"
  }
 },
 "nbformat": 4,
 "nbformat_minor": 5
}
