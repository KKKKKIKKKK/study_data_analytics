{
 "cells": [
  {
   "cell_type": "markdown",
   "id": "c9fc09b5-0f3f-4937-b325-4b00299217e5",
   "metadata": {},
   "source": [
    "### scrapping 대상 사이트\n",
    "- 블라인드 : https://www.teamblind.com/kr/search/%EB%94%94%EC%8A%A4%ED%81%AC\n",
    "- 하이닥 : https://www.hidoc.co.kr/integratesearch/searchhealthqnalistquery=%EB%94%94%EC%8A%A4%ED%81%AC&page=1\n",
    "- 클리앙 : https://www.clien.net/service/search?q=%EB%94%94%EC%8A%A4%ED%81%AC&sort=recency&p=10&boardCd=&isBoard=false"
   ]
  },
  {
   "cell_type": "code",
   "execution_count": 1,
   "id": "ae4cb270-6760-4995-9dae-b476b0bc54c3",
   "metadata": {
    "tags": []
   },
   "outputs": [],
   "source": [
    "from selenium import webdriver\n",
    "import time"
   ]
  },
  {
   "cell_type": "code",
   "execution_count": 2,
   "id": "a09bfb8e-28b8-403b-bbd1-ad9bfdd54881",
   "metadata": {
    "tags": []
   },
   "outputs": [],
   "source": [
    "# open Chrome browser.executable_path = 브라우저 여는 법 \n",
    "browser = webdriver.Chrome(executable_path='../../../../chromedriver.exe')"
   ]
  },
  {
   "cell_type": "markdown",
   "id": "cb9db03c-3169-4cc8-a179-4f75be7a8ec4",
   "metadata": {},
   "source": [
    "## 1. 하이닥 사이트\n",
    "- title tag : div.article-view-head > h2\n",
    "- content tag :\n",
    "- review tag :"
   ]
  },
  {
   "cell_type": "code",
   "execution_count": 3,
   "id": "73a916fe-4416-4c0d-b57f-9ce93cee24fc",
   "metadata": {
    "tags": []
   },
   "outputs": [],
   "source": [
    "# 페이지 접속\n",
    "browser.implicitly_wait(10)\n",
    "browser.get('https://www.hidoc.co.kr/integratesearch/searchhealthqnalist?query=%EB%94%94%EC%8A%A4%ED%81%AC&page=1')\n",
    "browser.maximize_window() #창 최대화 "
   ]
  },
  {
   "cell_type": "markdown",
   "id": "e5a08778-78d3-49eb-adbc-212e6d449842",
   "metadata": {},
   "source": [
    "## 게시글 클릭\n",
    "- wrap > section > div > div > div.article-list > div"
   ]
  },
  {
   "cell_type": "code",
   "execution_count": 4,
   "id": "7a3d73fe-3f86-4487-a53a-ef9fe2740950",
   "metadata": {
    "tags": []
   },
   "outputs": [],
   "source": [
    "click_path = 'div.coll_info > ul > li:nth-child(1) > a > b'\n",
    "browser.find_element_by_css_selector(click_path).click()"
   ]
  },
  {
   "cell_type": "code",
   "execution_count": 5,
   "id": "22f2b4b9-e854-4e8b-adac-fad875d5227a",
   "metadata": {
    "tags": []
   },
   "outputs": [],
   "source": [
    "title_name = browser.find_element_by_css_selector('div.box_type1.view_question > div.inner > strong').text\n",
    "content = browser.find_element_by_css_selector('div.box_type1.view_question > div.inner > div.desc > p').text\n",
    "review = browser.find_element_by_css_selector('div.cont > div:nth-child(1)').text\n",
    "\n",
    "basket = [title_name, content, review]"
   ]
  },
  {
   "cell_type": "code",
   "execution_count": 6,
   "id": "477026a9-2d2b-4072-9e91-719fc39eb750",
   "metadata": {
    "tags": []
   },
   "outputs": [],
   "source": [
    "browser.back()"
   ]
  },
  {
   "cell_type": "code",
   "execution_count": null,
   "id": "b6373c6d-aa2e-4e53-8380-c04ddf1e9571",
   "metadata": {
    "tags": []
   },
   "outputs": [],
   "source": []
  },
  {
   "cell_type": "code",
   "execution_count": 7,
   "id": "c7fb5314-123c-4a82-91ba-4d819f648286",
   "metadata": {
    "tags": []
   },
   "outputs": [],
   "source": [
    "# #paginations\n",
    "# for page_next in range (1,30):\n",
    "#     element_next_path = 'div.paging_type1 > span > a.ico_comm.btn_next'\n",
    "#     try:\n",
    "#         for page_number in range(2, 11):\n",
    "#             element_path = 'div.paging_type1 > span > a:nth-child({})'.format(page_number)\n",
    "#             try:\n",
    "#                 pagination = browser.find_element_by_css_selector(element_path)\n",
    "#                 pagination.click()\n",
    "#                 print('성공 : {}'.format(element_path))\n",
    "#                 time.sleep(3)\n",
    "#             except:\n",
    "#                 print('실패 : {}'.format(element_path))\n",
    "#                 pass\n",
    "#         next_pagination = browser.find_element_by_css_selector(element_next_path).click()\n",
    "#         print('성공 : {}'.format(element_next_path))\n",
    "#     except:\n",
    "#         print('실패 : {}'.format(element_next_path))\n",
    "#         pass"
   ]
  },
  {
   "cell_type": "code",
   "execution_count": null,
   "id": "d000c762-eb27-4812-a2cb-28f438ead4b7",
   "metadata": {
    "tags": []
   },
   "outputs": [
    {
     "name": "stdout",
     "output_type": "stream",
     "text": [
      "성공 : div.paging_type1 > span > a:nth-child(2)\n",
      "성공 : div.paging_type1 > span > a:nth-child(3)\n",
      "성공 : div.paging_type1 > span > a:nth-child(4)\n",
      "성공 : div.paging_type1 > span > a:nth-child(5)\n",
      "성공 : div.paging_type1 > span > a:nth-child(6)\n",
      "성공 : div.paging_type1 > span > a:nth-child(7)\n",
      "성공 : div.paging_type1 > span > a:nth-child(8)\n",
      "성공 : div.paging_type1 > span > a:nth-child(9)\n",
      "성공 : div.paging_type1 > span > a:nth-child(10)\n",
      "성공 : div.paging_type1 > span > a.ico_comm.btn_next\n",
      "실패 : div.paging_type1 > span > a:nth-child(2)\n",
      "성공 : div.paging_type1 > span > a:nth-child(3)\n",
      "성공 : div.paging_type1 > span > a:nth-child(4)\n",
      "성공 : div.paging_type1 > span > a:nth-child(5)\n",
      "성공 : div.paging_type1 > span > a:nth-child(6)\n",
      "성공 : div.paging_type1 > span > a:nth-child(7)\n",
      "성공 : div.paging_type1 > span > a:nth-child(8)\n",
      "성공 : div.paging_type1 > span > a:nth-child(9)\n",
      "성공 : div.paging_type1 > span > a:nth-child(10)\n",
      "성공 : div.paging_type1 > span > a.ico_comm.btn_next\n",
      "실패 : div.paging_type1 > span > a:nth-child(2)\n",
      "성공 : div.paging_type1 > span > a:nth-child(3)\n",
      "성공 : div.paging_type1 > span > a:nth-child(4)\n",
      "성공 : div.paging_type1 > span > a:nth-child(5)\n",
      "성공 : div.paging_type1 > span > a:nth-child(6)\n",
      "성공 : div.paging_type1 > span > a:nth-child(7)\n",
      "성공 : div.paging_type1 > span > a:nth-child(8)\n",
      "성공 : div.paging_type1 > span > a:nth-child(9)\n",
      "성공 : div.paging_type1 > span > a:nth-child(10)\n",
      "성공 : div.paging_type1 > span > a.ico_comm.btn_next\n",
      "실패 : div.paging_type1 > span > a:nth-child(2)\n",
      "성공 : div.paging_type1 > span > a:nth-child(3)\n",
      "성공 : div.paging_type1 > span > a:nth-child(4)\n",
      "성공 : div.paging_type1 > span > a:nth-child(5)\n",
      "성공 : div.paging_type1 > span > a:nth-child(6)\n",
      "성공 : div.paging_type1 > span > a:nth-child(7)\n",
      "성공 : div.paging_type1 > span > a:nth-child(8)\n",
      "성공 : div.paging_type1 > span > a:nth-child(9)\n",
      "성공 : div.paging_type1 > span > a:nth-child(10)\n",
      "성공 : div.paging_type1 > span > a.ico_comm.btn_next\n",
      "실패 : div.paging_type1 > span > a:nth-child(2)\n",
      "성공 : div.paging_type1 > span > a:nth-child(3)\n",
      "성공 : div.paging_type1 > span > a:nth-child(4)\n",
      "성공 : div.paging_type1 > span > a:nth-child(5)\n",
      "성공 : div.paging_type1 > span > a:nth-child(6)\n",
      "성공 : div.paging_type1 > span > a:nth-child(7)\n",
      "성공 : div.paging_type1 > span > a:nth-child(8)\n",
      "성공 : div.paging_type1 > span > a:nth-child(9)\n",
      "성공 : div.paging_type1 > span > a:nth-child(10)\n",
      "성공 : div.paging_type1 > span > a.ico_comm.btn_next\n",
      "실패 : div.paging_type1 > span > a:nth-child(2)\n",
      "성공 : div.paging_type1 > span > a:nth-child(3)\n",
      "성공 : div.paging_type1 > span > a:nth-child(4)\n",
      "성공 : div.paging_type1 > span > a:nth-child(5)\n",
      "성공 : div.paging_type1 > span > a:nth-child(6)\n",
      "성공 : div.paging_type1 > span > a:nth-child(7)\n",
      "성공 : div.paging_type1 > span > a:nth-child(8)\n",
      "성공 : div.paging_type1 > span > a:nth-child(9)\n",
      "성공 : div.paging_type1 > span > a:nth-child(10)\n",
      "성공 : div.paging_type1 > span > a.ico_comm.btn_next\n",
      "실패 : div.paging_type1 > span > a:nth-child(2)\n"
     ]
    }
   ],
   "source": [
    "#paginations\n",
    "import pandas as pd\n",
    "import pymongo as mg\n",
    "client = mg.MongoClient(host='mongodb://localhost:27017')\n",
    "database = client['small_team_project']\n",
    "collection = database['hidoc_site']\n",
    "\n",
    "hidoc_columns_name = ['title_name', 'content', 'review']\n",
    "basket_list = []\n",
    "for page_next in range (1,10):\n",
    "    element_next_path = 'div.paging_type1 > span > a.ico_comm.btn_next'\n",
    "    try:\n",
    "        for page_number in range(2, 11):\n",
    "            time.sleep(2)\n",
    "            element_path = 'div.paging_type1 > span > a:nth-child({})'.format(page_number)\n",
    "            try:\n",
    "                for clicker in range(1, 21) :\n",
    "                    try:\n",
    "                        click_path = 'div.coll_info > ul > li:nth-child({}) > a > b'.format(clicker)\n",
    "                        browser.find_element_by_css_selector(click_path).click()\n",
    "                        title_name = browser.find_element_by_css_selector('div.box_type1.view_question > div.inner > strong').text\n",
    "                        content = browser.find_element_by_css_selector('div.box_type1.view_question > div.inner > div.desc > p').text\n",
    "                        review = browser.find_element_by_css_selector('div.cont > div:nth-child(1)').text\n",
    "\n",
    "                        # print('title: {}, content:{}'.format(title_name, content))\n",
    "                        # print('review:{}'.format(review))\n",
    "\n",
    "                        # time.sleep(2)\n",
    "                        browser.back()\n",
    "                        # time.sleep(3)\n",
    "                        total_list = [title_name, content, review]\n",
    "                        basket_list.append(total_list)\n",
    "                        \n",
    "                        df_hidoc = pd.DataFrame(data=basket_list, columns=hidoc_columns_name)\n",
    "                        data_dict = df_hidoc.to_dict(orient='records')\n",
    "                        collection.insert_many(data_dict)\n",
    "                    except:\n",
    "                        pass\n",
    "                \n",
    "                pagination = browser.find_element_by_css_selector(element_path)\n",
    "                pagination.click()\n",
    "                print('성공 : {}'.format(element_path))\n",
    "            except:\n",
    "                print('실패 : {}'.format(element_path))\n",
    "                pass\n",
    "        next_pagination = browser.find_element_by_css_selector(element_next_path).click()    \n",
    "        print('성공 : {}'.format(element_next_path))\n",
    "    except:\n",
    "        print('실패 : {}'.format(element_next_path))\n",
    "        pass"
   ]
  },
  {
   "cell_type": "code",
   "execution_count": null,
   "id": "d7b12925-b0fd-4c5a-af4f-29f4fe68e561",
   "metadata": {
    "tags": []
   },
   "outputs": [],
   "source": [
    "# import time \n",
    "\n",
    "# for page_number in range(1,11): #첫 페이지는 tag가 달라짐 #2페이지부터 \n",
    "#     element_path = '#area_itemlist > div.paginate > div > a:nth-of-type({})'.format(page_number)\n",
    "#     try: \n",
    "#         pagination = browser.find_element_by_css_selector(element_path)\n",
    "#         pagination.click()\n",
    "#         print('성공: {}'.format(element_path))\n",
    "        \n",
    "#         time.sleep(3)\n",
    "#         element_title_path = '.mnemitem_goods_tit'\n",
    "#         webelements = browser.find_elements_by_css_selector(element_title_path)\n",
    "        \n",
    "#         for webelement in webelements:\n",
    "#             try :\n",
    "#                 print(webelement.text)\n",
    "#             except :\n",
    "#                 pass\n",
    "#     except: \n",
    "#         print('실패: {}'.format(element_path))\n",
    "#         pass \n",
    "    \n",
    "    \n",
    "# #네트웍을 타고 들어오는 시간에 클릭을 하면 에러-> 로딩되는 타임에는 기다려달라는 방어코드 필요 "
   ]
  }
 ],
 "metadata": {
  "kernelspec": {
   "display_name": "Python 3 (ipykernel)",
   "language": "python",
   "name": "python3"
  },
  "language_info": {
   "codemirror_mode": {
    "name": "ipython",
    "version": 3
   },
   "file_extension": ".py",
   "mimetype": "text/x-python",
   "name": "python",
   "nbconvert_exporter": "python",
   "pygments_lexer": "ipython3",
   "version": "3.11.3"
  }
 },
 "nbformat": 4,
 "nbformat_minor": 5
}
