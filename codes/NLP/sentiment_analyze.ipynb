{
 "cells": [
  {
   "cell_type": "markdown",
   "id": "fc1a716f-61e5-44d9-8c7b-bf88fdc60222",
   "metadata": {},
   "source": [
    "## 감성사전에 의한 감성분석."
   ]
  },
  {
   "cell_type": "markdown",
   "id": "80ba641d-0b75-4d28-9a09-92289f229486",
   "metadata": {},
   "source": [
    "### 감성사전 가져오기 "
   ]
  },
  {
   "cell_type": "code",
   "execution_count": 4,
   "id": "71778d08-4722-4740-90a5-ec9d71a3159a",
   "metadata": {
    "tags": []
   },
   "outputs": [],
   "source": [
    "import pandas as pd"
   ]
  },
  {
   "cell_type": "code",
   "execution_count": 12,
   "id": "7c32028b-5dc2-48d8-b71b-34cfb1445290",
   "metadata": {
    "tags": []
   },
   "outputs": [
    {
     "data": {
      "text/html": [
       "<div>\n",
       "<style scoped>\n",
       "    .dataframe tbody tr th:only-of-type {\n",
       "        vertical-align: middle;\n",
       "    }\n",
       "\n",
       "    .dataframe tbody tr th {\n",
       "        vertical-align: top;\n",
       "    }\n",
       "\n",
       "    .dataframe thead th {\n",
       "        text-align: right;\n",
       "    }\n",
       "</style>\n",
       "<table border=\"1\" class=\"dataframe\">\n",
       "  <thead>\n",
       "    <tr style=\"text-align: right;\">\n",
       "      <th></th>\n",
       "      <th>출처</th>\n",
       "    </tr>\n",
       "  </thead>\n",
       "  <tbody>\n",
       "    <tr>\n",
       "      <th>15</th>\n",
       "      <td>(-;</td>\n",
       "    </tr>\n",
       "    <tr>\n",
       "      <th>16</th>\n",
       "      <td>(^^)</td>\n",
       "    </tr>\n",
       "    <tr>\n",
       "      <th>17</th>\n",
       "      <td>(^-^)</td>\n",
       "    </tr>\n",
       "  </tbody>\n",
       "</table>\n",
       "</div>"
      ],
      "text/plain": [
       "       출처\n",
       "15    (-;\n",
       "16   (^^)\n",
       "17  (^-^)"
      ]
     },
     "execution_count": 12,
     "metadata": {},
     "output_type": "execute_result"
    }
   ],
   "source": [
    "df_positives = pd.read_csv('../../datasets/pos_pol_word.txt', delimiter='\\t')\n",
    "df_positives = df_positives[15:] #감성 사전에 불필요한 line삭제 \n",
    "df_positives[:3]"
   ]
  },
  {
   "cell_type": "code",
   "execution_count": 13,
   "id": "6cc76b46-af97-4c8a-a6f0-5d5c22238451",
   "metadata": {
    "tags": []
   },
   "outputs": [
    {
     "data": {
      "text/html": [
       "<div>\n",
       "<style scoped>\n",
       "    .dataframe tbody tr th:only-of-type {\n",
       "        vertical-align: middle;\n",
       "    }\n",
       "\n",
       "    .dataframe tbody tr th {\n",
       "        vertical-align: top;\n",
       "    }\n",
       "\n",
       "    .dataframe thead th {\n",
       "        text-align: right;\n",
       "    }\n",
       "</style>\n",
       "<table border=\"1\" class=\"dataframe\">\n",
       "  <thead>\n",
       "    <tr style=\"text-align: right;\">\n",
       "      <th></th>\n",
       "      <th>출처</th>\n",
       "    </tr>\n",
       "  </thead>\n",
       "  <tbody>\n",
       "    <tr>\n",
       "      <th>15</th>\n",
       "      <td>가난</td>\n",
       "    </tr>\n",
       "    <tr>\n",
       "      <th>16</th>\n",
       "      <td>가난뱅이</td>\n",
       "    </tr>\n",
       "    <tr>\n",
       "      <th>17</th>\n",
       "      <td>가난살이</td>\n",
       "    </tr>\n",
       "  </tbody>\n",
       "</table>\n",
       "</div>"
      ],
      "text/plain": [
       "      출처\n",
       "15    가난\n",
       "16  가난뱅이\n",
       "17  가난살이"
      ]
     },
     "execution_count": 13,
     "metadata": {},
     "output_type": "execute_result"
    }
   ],
   "source": [
    "df_negatives = pd.read_csv('../../datasets/neg_pol_word.txt', delimiter='\\t')\n",
    "df_negatives = df_negatives[15:] #감성 사전에 불필요한 line삭제 \n",
    "df_negatives[:3]"
   ]
  },
  {
   "cell_type": "markdown",
   "id": "6435a8fa-8a11-4c79-919b-3bd633eb28c4",
   "metadata": {},
   "source": [
    "### 문장에 점수 적용(긍/부정)'\n",
    "- 긍/부정 단어 count 갯수만큼 확인시작!"
   ]
  },
  {
   "cell_type": "code",
   "execution_count": 20,
   "id": "22d6b4ff-74f6-43d7-a2ee-473653fa9bbd",
   "metadata": {
    "tags": []
   },
   "outputs": [],
   "source": [
    "comment = '코로나19의 여파로 전 세계 교사들과 학생들 모두 혼란스러운 시기를 보내고 있습니다.어려움 속에서도 학생들을 위해 안간힘을 쓰고 있는 모든 선생님들에게, 응원과 박수를 함께 보냅니다.'"
   ]
  },
  {
   "cell_type": "code",
   "execution_count": 23,
   "id": "ccf7afbe-19e4-45c1-b3d5-a1271150eac6",
   "metadata": {
    "tags": []
   },
   "outputs": [
    {
     "name": "stdout",
     "output_type": "stream",
     "text": [
      "positive word in comment : 운\n",
      "positive word in comment : 함께\n",
      "negative word in comment : 어려움\n",
      "negative word in comment : 해\n",
      "negative word in comment : 혼란스러운\n"
     ]
    }
   ],
   "source": [
    "#긍정단어 확인 \n",
    "for positive_word in df_positives['출처']:   # 해당부분이 있는지 확인하기\n",
    "    if positive_word in comment:       #해당 comment에 positive_word 있는지 확인. \n",
    "        print('positive word in comment : {0}'.format(positive_word))\n",
    "#부정단어 확인 \n",
    "        \n",
    "for negative_word in df_negatives['출처']:\n",
    "    if negative_word in comment:\n",
    "        print('negative word in comment : {0}'.format(negative_word))\n",
    "        "
   ]
  },
  {
   "cell_type": "code",
   "execution_count": null,
   "id": "f66c4c08-d98d-408f-b0cd-27dc3756dc34",
   "metadata": {},
   "outputs": [],
   "source": []
  }
 ],
 "metadata": {
  "kernelspec": {
   "display_name": "Python 3 (ipykernel)",
   "language": "python",
   "name": "python3"
  },
  "language_info": {
   "codemirror_mode": {
    "name": "ipython",
    "version": 3
   },
   "file_extension": ".py",
   "mimetype": "text/x-python",
   "name": "python",
   "nbconvert_exporter": "python",
   "pygments_lexer": "ipython3",
   "version": "3.11.3"
  }
 },
 "nbformat": 4,
 "nbformat_minor": 5
}
