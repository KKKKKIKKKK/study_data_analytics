{
 "cells": [
  {
   "cell_type": "markdown",
   "id": "5f551f61-1364-4572-84ce-bee06c791930",
   "metadata": {},
   "source": [
    "### 2023- 09 - 07 (목) quest 내용\n",
    "\n",
    "- scraping : 코리언즈\n",
    "- 상세 메뉴 주소 선택\n",
    "- 1page~ 10\n",
    "- 제목, 게시날짜, 조회수, 상세 채널 리스트 (채널명, 링크) "
   ]
  },
  {
   "cell_type": "code",
   "execution_count": 254,
   "id": "eebf32c4-6626-4a5b-908d-aaecdea6dc19",
   "metadata": {
    "tags": []
   },
   "outputs": [],
   "source": [
    "from selenium import webdriver\n",
    "import time "
   ]
  },
  {
   "cell_type": "code",
   "execution_count": 255,
   "id": "aab6e13f-d864-4838-ae6a-37bb2e31dc57",
   "metadata": {
    "tags": []
   },
   "outputs": [],
   "source": [
    "# open Chrome browser.executable_path = 브라우저 여는 법 \n",
    "browser = webdriver.Chrome(executable_path='../../../../chromedriver.exe')"
   ]
  },
  {
   "cell_type": "code",
   "execution_count": 256,
   "id": "76a22962-b1ad-4257-a97d-612731488cfe",
   "metadata": {
    "tags": []
   },
   "outputs": [],
   "source": [
    "# 페이지 접속\n",
    "browser.implicitly_wait(10)\n",
    "browser.get('https://a73.koreanz.xyz/bbs/board.php?bo_table=tvdrama')"
   ]
  },
  {
   "cell_type": "markdown",
   "id": "c5aca1db-c2f4-420c-8c43-ae21476821c7",
   "metadata": {
    "tags": []
   },
   "source": [
    "#### 첫 번째 제목 클릭(오랫동안 당신을 기다렸습니다.13회.230906) \n",
    "- 제목 : #fboardlist > div.list-board > ul > li:nth-child(1) > div.wr-subject"
   ]
  },
  {
   "cell_type": "code",
   "execution_count": 257,
   "id": "a7aced75-bab5-49b3-8f33-86836b4b0fee",
   "metadata": {
    "tags": []
   },
   "outputs": [],
   "source": [
    "click_path = 'div.list-board > ul > li:nth-child(1) > div.wr-subject'\n",
    "browser.find_element_by_css_selector(click_path).click() # click_path 변수꼭 담아주기"
   ]
  },
  {
   "cell_type": "markdown",
   "id": "103c68d2-8bb9-4fef-91a9-1055de64f0c2",
   "metadata": {
    "tags": []
   },
   "source": [
    "#### 내용 링크 클릭 갯수 \n",
    "- 링크 묶음  = div:nth-child(3) > div.view-content > div > a\n",
    "- 하나의 링크 page에서 보이는 갯수 13개 "
   ]
  },
  {
   "cell_type": "code",
   "execution_count": 264,
   "id": "21d845b5-778d-41aa-b05e-21ab55baea2d",
   "metadata": {
    "tags": []
   },
   "outputs": [
    {
     "ename": "NoSuchWindowException",
     "evalue": "Message: no such window: target window already closed\nfrom unknown error: web view not found\n  (Session info: chrome=116.0.5845.141)\n",
     "output_type": "error",
     "traceback": [
      "\u001b[1;31m---------------------------------------------------------------------------\u001b[0m",
      "\u001b[1;31mNoSuchWindowException\u001b[0m                     Traceback (most recent call last)",
      "Cell \u001b[1;32mIn[264], line 1\u001b[0m\n\u001b[1;32m----> 1\u001b[0m link_name \u001b[38;5;241m=\u001b[39m browser\u001b[38;5;241m.\u001b[39mfind_element_by_css_selector(\u001b[38;5;124m'\u001b[39m\u001b[38;5;124mdiv:nth-child(3) > div.view-content > div > a\u001b[39m\u001b[38;5;124m'\u001b[39m)\u001b[38;5;241m.\u001b[39mtext\n\u001b[0;32m      3\u001b[0m [link_name]\n",
      "File \u001b[1;32m~\\anaconda3\\Lib\\site-packages\\selenium\\webdriver\\remote\\webdriver.py:598\u001b[0m, in \u001b[0;36mWebDriver.find_element_by_css_selector\u001b[1;34m(self, css_selector)\u001b[0m\n\u001b[0;32m    582\u001b[0m \u001b[38;5;28;01mdef\u001b[39;00m \u001b[38;5;21mfind_element_by_css_selector\u001b[39m(\u001b[38;5;28mself\u001b[39m, css_selector):\n\u001b[0;32m    583\u001b[0m \u001b[38;5;250m    \u001b[39m\u001b[38;5;124;03m\"\"\"\u001b[39;00m\n\u001b[0;32m    584\u001b[0m \u001b[38;5;124;03m    Finds an element by css selector.\u001b[39;00m\n\u001b[0;32m    585\u001b[0m \n\u001b[1;32m   (...)\u001b[0m\n\u001b[0;32m    596\u001b[0m \u001b[38;5;124;03m        element = driver.find_element_by_css_selector('#foo')\u001b[39;00m\n\u001b[0;32m    597\u001b[0m \u001b[38;5;124;03m    \"\"\"\u001b[39;00m\n\u001b[1;32m--> 598\u001b[0m     \u001b[38;5;28;01mreturn\u001b[39;00m \u001b[38;5;28mself\u001b[39m\u001b[38;5;241m.\u001b[39mfind_element(by\u001b[38;5;241m=\u001b[39mBy\u001b[38;5;241m.\u001b[39mCSS_SELECTOR, value\u001b[38;5;241m=\u001b[39mcss_selector)\n",
      "File \u001b[1;32m~\\anaconda3\\Lib\\site-packages\\selenium\\webdriver\\remote\\webdriver.py:976\u001b[0m, in \u001b[0;36mWebDriver.find_element\u001b[1;34m(self, by, value)\u001b[0m\n\u001b[0;32m    974\u001b[0m         by \u001b[38;5;241m=\u001b[39m By\u001b[38;5;241m.\u001b[39mCSS_SELECTOR\n\u001b[0;32m    975\u001b[0m         value \u001b[38;5;241m=\u001b[39m \u001b[38;5;124m'\u001b[39m\u001b[38;5;124m[name=\u001b[39m\u001b[38;5;124m\"\u001b[39m\u001b[38;5;132;01m%s\u001b[39;00m\u001b[38;5;124m\"\u001b[39m\u001b[38;5;124m]\u001b[39m\u001b[38;5;124m'\u001b[39m \u001b[38;5;241m%\u001b[39m value\n\u001b[1;32m--> 976\u001b[0m \u001b[38;5;28;01mreturn\u001b[39;00m \u001b[38;5;28mself\u001b[39m\u001b[38;5;241m.\u001b[39mexecute(Command\u001b[38;5;241m.\u001b[39mFIND_ELEMENT, {\n\u001b[0;32m    977\u001b[0m     \u001b[38;5;124m'\u001b[39m\u001b[38;5;124musing\u001b[39m\u001b[38;5;124m'\u001b[39m: by,\n\u001b[0;32m    978\u001b[0m     \u001b[38;5;124m'\u001b[39m\u001b[38;5;124mvalue\u001b[39m\u001b[38;5;124m'\u001b[39m: value})[\u001b[38;5;124m'\u001b[39m\u001b[38;5;124mvalue\u001b[39m\u001b[38;5;124m'\u001b[39m]\n",
      "File \u001b[1;32m~\\anaconda3\\Lib\\site-packages\\selenium\\webdriver\\remote\\webdriver.py:321\u001b[0m, in \u001b[0;36mWebDriver.execute\u001b[1;34m(self, driver_command, params)\u001b[0m\n\u001b[0;32m    319\u001b[0m response \u001b[38;5;241m=\u001b[39m \u001b[38;5;28mself\u001b[39m\u001b[38;5;241m.\u001b[39mcommand_executor\u001b[38;5;241m.\u001b[39mexecute(driver_command, params)\n\u001b[0;32m    320\u001b[0m \u001b[38;5;28;01mif\u001b[39;00m response:\n\u001b[1;32m--> 321\u001b[0m     \u001b[38;5;28mself\u001b[39m\u001b[38;5;241m.\u001b[39merror_handler\u001b[38;5;241m.\u001b[39mcheck_response(response)\n\u001b[0;32m    322\u001b[0m     response[\u001b[38;5;124m'\u001b[39m\u001b[38;5;124mvalue\u001b[39m\u001b[38;5;124m'\u001b[39m] \u001b[38;5;241m=\u001b[39m \u001b[38;5;28mself\u001b[39m\u001b[38;5;241m.\u001b[39m_unwrap_value(\n\u001b[0;32m    323\u001b[0m         response\u001b[38;5;241m.\u001b[39mget(\u001b[38;5;124m'\u001b[39m\u001b[38;5;124mvalue\u001b[39m\u001b[38;5;124m'\u001b[39m, \u001b[38;5;28;01mNone\u001b[39;00m))\n\u001b[0;32m    324\u001b[0m     \u001b[38;5;28;01mreturn\u001b[39;00m response\n",
      "File \u001b[1;32m~\\anaconda3\\Lib\\site-packages\\selenium\\webdriver\\remote\\errorhandler.py:242\u001b[0m, in \u001b[0;36mErrorHandler.check_response\u001b[1;34m(self, response)\u001b[0m\n\u001b[0;32m    240\u001b[0m         alert_text \u001b[38;5;241m=\u001b[39m value[\u001b[38;5;124m'\u001b[39m\u001b[38;5;124malert\u001b[39m\u001b[38;5;124m'\u001b[39m]\u001b[38;5;241m.\u001b[39mget(\u001b[38;5;124m'\u001b[39m\u001b[38;5;124mtext\u001b[39m\u001b[38;5;124m'\u001b[39m)\n\u001b[0;32m    241\u001b[0m     \u001b[38;5;28;01mraise\u001b[39;00m exception_class(message, screen, stacktrace, alert_text)\n\u001b[1;32m--> 242\u001b[0m \u001b[38;5;28;01mraise\u001b[39;00m exception_class(message, screen, stacktrace)\n",
      "\u001b[1;31mNoSuchWindowException\u001b[0m: Message: no such window: target window already closed\nfrom unknown error: web view not found\n  (Session info: chrome=116.0.5845.141)\n"
     ]
    }
   ],
   "source": [
    "link_name = browser.find_element_by_css_selector('div:nth-child(3) > div.view-content > div > a').text\n",
    "\n",
    "[link_name]"
   ]
  },
  {
   "cell_type": "code",
   "execution_count": null,
   "id": "c58eb14f-730a-4f66-b7dc-47258d2fda92",
   "metadata": {
    "tags": []
   },
   "outputs": [],
   "source": [
    "links_selector = \"#at-main > div.view-wrap > section > article > div:nth-child(3) > div.view-content > div > a\""
   ]
  },
  {
   "cell_type": "code",
   "execution_count": null,
   "id": "e0019935-1d1a-453d-a848-8323cbbe4894",
   "metadata": {
    "tags": []
   },
   "outputs": [],
   "source": [
    "links = browser.find_elements(By.CSS_SELECTOR, links_selector)"
   ]
  },
  {
   "cell_type": "code",
   "execution_count": null,
   "id": "f6372e36-aa81-4b17-a98d-ecca1d4a6004",
   "metadata": {},
   "outputs": [],
   "source": [
    "client = mg.MongoClient(host='mongodb://localhost:27017')\n",
    "database = client['study_data_analytics']\n",
    "collection = database['googlestore_heathcare']\n",
    "\n",
    "# 서비스 앱에 대한 리스트\n",
    "click_path = 'section > div > div > div > div'\n",
    "company_list = browser.find_elements_by_css_selector(click_path)\n",
    "\n",
    "len(company_list)\n",
    "\n",
    "for company in company_list:\n",
    "    company.click()\n",
    "    time.sleep(2)\n",
    "\n",
    "    # 서비스 앱에 대한 정보 가져오기\n",
    "    try:\n",
    "        service_name = browser.find_element_by_css_selector('div > h1 > span').text\n",
    "    except :\n",
    "        service_name = str()\n",
    "    try :    \n",
    "        company_name = browser.find_element_by_css_selector('div.Il7kR > div > div > div > a > span').text\n",
    "    except : \n",
    "        company_name = str()\n",
    "    try :    \n",
    "        app_information = browser.find_element_by_css_selector('div:nth-child(1) > c-wiz:nth-child(2) > div > section > div').text\n",
    "    except :\n",
    "        app_information = str()\n",
    "    \n",
    "    ### 리뷰 총 갯수 가져오기['리뷰 473개']\n",
    "    ## 리뷰 총 갯수 tag : div:nth-child(1) > div.g1rdde\n",
    "    review_total_count_text = browser.find_element_by_css_selector('div:nth-child(1) > div.g1rdde').text\n",
    "    # [service_name, company_name, app_information]\n",
    "    import re #regularexpression \n",
    "    result_list = re.findall(r'\\d+', review_total_count_text) #규칙?r(이진수의 값을 적용하라는 말) /string \n",
    "    #print(result_list[0] ,int(result_list[0]))\n",
    "\n",
    "    review_total_count = int(result_list[0]) # 리뷰 총 갯수가 (int)로 변환돼서 나옴. \n",
    "    \n",
    "    \n",
    "    # 댓글 팝업 띄우기(해당 리뷰 없을 시 대비한 방어 코드 작성 필요)\n",
    "    review_flag = True\n",
    "    try :\n",
    "        browser.find_element_by_xpath('//*/div/div/button/*[contains(text(), \"리뷰\")]').click()    \n",
    "    except :\n",
    "        review_flag = False\n",
    "    \n",
    "    # 회사 서비스에 대한 전체 리뷰 가져오기\n",
    "    serviceapp_columns_name = ['service_name', 'content', 'date', 'stars']\n",
    "    reviews_list = list()\n",
    "    if review_flag :\n",
    "        #팝업 띄우기 \n",
    "        reviews_bundle = browser.find_elements_by_css_selector('div.fysCi > div > div:nth-child(2) > div')\n",
    "        len(reviews_bundle)    \n",
    "             \n",
    "        #팝업 속 댓글 전체 표시 \n",
    "        review_standard_count_per = 40\n",
    "\n",
    "\n",
    "        loop_count_int = int(review_total_count / review_standard_count_per)\n",
    "        for count in range(1, loop_count_int+1) :\n",
    "            try :\n",
    "                reviews_bundle = browser.find_elements_by_css_selector('div.fysCi > div > div:nth-child(2) > div')\n",
    "                print('current reviews_bundle count : {}'.format(len(reviews_bundle)))\n",
    "                reviews_bundle[len(reviews_bundle)-1].click()\n",
    "                time.sleep(3)\n",
    "            except :\n",
    "                print('pass')\n",
    "                pass\n",
    "        print('Done', len(reviews_bundle))\n",
    "        \n",
    "        \n",
    "        #팝업 댓글 수집 \n",
    "        for review_bundle in reviews_bundle:\n",
    "            content = review_bundle.find_element_by_css_selector('div.h3YV2d').text\n",
    "            date = review_bundle.find_element_by_css_selector('header > div.Jx4nYe > span').text\n",
    "            stars = review_bundle.find_element_by_css_selector('header > div.Jx4nYe > div').get_attribute('aria-label')\n",
    "            review_list = [service_name, content, date, stars]\n",
    "            reviews_list.append(review_list)  # 리뷰에 대한 모든 것(특정 회사 서비스에 대한)\n",
    "\n",
    "        browser.back() # 팝업 닫기\n",
    "        \n",
    "        # 저장 위한 작업\n",
    "        df_reviews = pd.DataFrame(data=reviews_list, columns=serviceapp_columns_name)\n",
    "        data_dict = df_reviews.to_dict(orient='records')\n",
    "        collection.insert_many(data_dict)\n",
    "        \n",
    "    print('service_name : {}, review count : {}'.format(service_name, len(reviews_list)))\n",
    "    browser.back() # 리스트로 돌아가기\n",
    "    time.sleep(3)\n",
    "print('Done')"
   ]
  },
  {
   "cell_type": "code",
   "execution_count": 261,
   "id": "5a34d3ef-e2bb-481f-b89e-4c87ca5cac8c",
   "metadata": {
    "tags": []
   },
   "outputs": [
    {
     "name": "stdout",
     "output_type": "stream",
     "text": [
      "current reviews_bundle count : 20\n",
      "pass\n",
      "current reviews_bundle count : 20\n",
      "pass\n",
      "current reviews_bundle count : 20\n",
      "pass\n",
      "current reviews_bundle count : 20\n",
      "pass\n",
      "current reviews_bundle count : 20\n",
      "pass\n",
      "current reviews_bundle count : 20\n",
      "pass\n",
      "current reviews_bundle count : 20\n",
      "pass\n",
      "current reviews_bundle count : 20\n",
      "pass\n",
      "current reviews_bundle count : 20\n",
      "pass\n",
      "current reviews_bundle count : 20\n",
      "pass\n",
      "current reviews_bundle count : 20\n",
      "pass\n",
      "current reviews_bundle count : 20\n",
      "pass\n",
      "current reviews_bundle count : 20\n",
      "pass\n",
      "Done 13\n"
     ]
    }
   ],
   "source": [
    "link_total_count = 13  # 리뷰 총 갯수\n",
    "link_standard_count_per = 1\n",
    "click_count = 0\n",
    "\n",
    "loop_count_int = int(link_total_count / link_standard_count_per)\n",
    "for count in range(1, loop_count_int+1) :\n",
    "    try :\n",
    "        links_bundle = browser.find_elements_by_css_selector('div:nth-child(3) > div.view-content > div > a')\n",
    "        print('current reviews_bundle count : {}'.format(len(reviews_bundle)))\n",
    "        reviews_bundle[len(reviews_bundle)-1].click()\n",
    "        time.sleep(3)\n",
    "    except :\n",
    "        print('pass')\n",
    "        pass\n",
    "print('Done', len(links_bundle))"
   ]
  },
  {
   "cell_type": "code",
   "execution_count": 250,
   "id": "cec57c2d-5668-48d2-aaec-6afbc0e8f751",
   "metadata": {
    "tags": []
   },
   "outputs": [
    {
     "name": "stdout",
     "output_type": "stream",
     "text": [
      "current links_bundle count : 20\n"
     ]
    }
   ],
   "source": [
    "links_bundle = browser.find_elements_by_css_selector('div:nth-child(3) > div.view-content > div > a')\n",
    "print('current links_bundle count : {}'.format(len(reviews_bundle)))\n",
    "links_bundle[len(links_bundle)-1].click()"
   ]
  },
  {
   "cell_type": "code",
   "execution_count": 262,
   "id": "39b05099-d6af-40c4-9029-536dfa1cb15a",
   "metadata": {
    "tags": []
   },
   "outputs": [],
   "source": [
    "browser.back() # 팝업 닫기"
   ]
  },
  {
   "cell_type": "code",
   "execution_count": 263,
   "id": "5b0b06d6-efa5-4790-b753-ebfdc1674976",
   "metadata": {
    "tags": []
   },
   "outputs": [
    {
     "ename": "IndexError",
     "evalue": "list index out of range",
     "output_type": "error",
     "traceback": [
      "\u001b[1;31m---------------------------------------------------------------------------\u001b[0m",
      "\u001b[1;31mIndexError\u001b[0m                                Traceback (most recent call last)",
      "Cell \u001b[1;32mIn[263], line 5\u001b[0m\n\u001b[0;32m      3\u001b[0m elements_path \u001b[38;5;241m=\u001b[39m \u001b[38;5;124m'\u001b[39m\u001b[38;5;124mdiv:nth-child(3) > div.view-content > div > a\u001b[39m\u001b[38;5;124m'\u001b[39m\n\u001b[0;32m      4\u001b[0m elements \u001b[38;5;241m=\u001b[39m browser\u001b[38;5;241m.\u001b[39mfind_elements_by_css_selector(elements_path)\n\u001b[1;32m----> 5\u001b[0m \u001b[38;5;28mtype\u001b[39m(elements), \u001b[38;5;28mtype\u001b[39m(elements[\u001b[38;5;241m0\u001b[39m])\n",
      "\u001b[1;31mIndexError\u001b[0m: list index out of range"
     ]
    }
   ],
   "source": [
    "#여러개라 list로 찍음\n",
    "\n",
    "elements_path = 'div:nth-child(3) > div.view-content > div > a'\n",
    "elements = browser.find_elements_by_css_selector(elements_path)\n",
    "type(elements), type(elements[0])"
   ]
  },
  {
   "cell_type": "code",
   "execution_count": null,
   "id": "70eeed40-a174-4cf8-a120-426346eccfcf",
   "metadata": {
    "tags": []
   },
   "outputs": [],
   "source": [
    "links_bundle = browser.find_elements_by_css_selector('div:nth-child(3) > div.view-content > div > a)\n",
    "len(links_bundle) "
   ]
  },
  {
   "cell_type": "markdown",
   "id": "c1955e3b-561c-45fd-a544-34304651af05",
   "metadata": {},
   "source": [
    "### 링크 모두보기 \n",
    "- click tag : #at-main > div.view-wrap > section > article > div:nth-child(3) > div.view-content > div > a"
   ]
  },
  {
   "cell_type": "code",
   "execution_count": 194,
   "id": "ffeb25c2-3b89-4af8-8b54-76ae69c9b182",
   "metadata": {
    "tags": []
   },
   "outputs": [],
   "source": [
    "import time\n",
    "time.sleep(2)"
   ]
  },
  {
   "cell_type": "code",
   "execution_count": 195,
   "id": "1c12248e-20de-46f8-b9b0-db333784405a",
   "metadata": {
    "tags": []
   },
   "outputs": [
    {
     "ename": "NoSuchElementException",
     "evalue": "Message: no such element: Unable to locate element: {\"method\":\"link text\",\"selector\":\"at-main > div.view-wrap > section > article > div:nth-child(3) > div.view-content > div > a\"}\n  (Session info: chrome=116.0.5845.141)\n",
     "output_type": "error",
     "traceback": [
      "\u001b[1;31m---------------------------------------------------------------------------\u001b[0m",
      "\u001b[1;31mNoSuchElementException\u001b[0m                    Traceback (most recent call last)",
      "Cell \u001b[1;32mIn[195], line 1\u001b[0m\n\u001b[1;32m----> 1\u001b[0m link_total_count_name \u001b[38;5;241m=\u001b[39m browser\u001b[38;5;241m.\u001b[39mfind_element_by_link_text(\u001b[38;5;124m'\u001b[39m\u001b[38;5;124mat-main > div.view-wrap > section > article > div:nth-child(3) > div.view-content > div > a\u001b[39m\u001b[38;5;124m'\u001b[39m)\u001b[38;5;241m.\u001b[39mclick()\n\u001b[0;32m      2\u001b[0m link_total_count_name\n",
      "File \u001b[1;32m~\\anaconda3\\Lib\\site-packages\\selenium\\webdriver\\remote\\webdriver.py:428\u001b[0m, in \u001b[0;36mWebDriver.find_element_by_link_text\u001b[1;34m(self, link_text)\u001b[0m\n\u001b[0;32m    412\u001b[0m \u001b[38;5;28;01mdef\u001b[39;00m \u001b[38;5;21mfind_element_by_link_text\u001b[39m(\u001b[38;5;28mself\u001b[39m, link_text):\n\u001b[0;32m    413\u001b[0m \u001b[38;5;250m    \u001b[39m\u001b[38;5;124;03m\"\"\"\u001b[39;00m\n\u001b[0;32m    414\u001b[0m \u001b[38;5;124;03m    Finds an element by link text.\u001b[39;00m\n\u001b[0;32m    415\u001b[0m \n\u001b[1;32m   (...)\u001b[0m\n\u001b[0;32m    426\u001b[0m \u001b[38;5;124;03m        element = driver.find_element_by_link_text('Sign In')\u001b[39;00m\n\u001b[0;32m    427\u001b[0m \u001b[38;5;124;03m    \"\"\"\u001b[39;00m\n\u001b[1;32m--> 428\u001b[0m     \u001b[38;5;28;01mreturn\u001b[39;00m \u001b[38;5;28mself\u001b[39m\u001b[38;5;241m.\u001b[39mfind_element(by\u001b[38;5;241m=\u001b[39mBy\u001b[38;5;241m.\u001b[39mLINK_TEXT, value\u001b[38;5;241m=\u001b[39mlink_text)\n",
      "File \u001b[1;32m~\\anaconda3\\Lib\\site-packages\\selenium\\webdriver\\remote\\webdriver.py:976\u001b[0m, in \u001b[0;36mWebDriver.find_element\u001b[1;34m(self, by, value)\u001b[0m\n\u001b[0;32m    974\u001b[0m         by \u001b[38;5;241m=\u001b[39m By\u001b[38;5;241m.\u001b[39mCSS_SELECTOR\n\u001b[0;32m    975\u001b[0m         value \u001b[38;5;241m=\u001b[39m \u001b[38;5;124m'\u001b[39m\u001b[38;5;124m[name=\u001b[39m\u001b[38;5;124m\"\u001b[39m\u001b[38;5;132;01m%s\u001b[39;00m\u001b[38;5;124m\"\u001b[39m\u001b[38;5;124m]\u001b[39m\u001b[38;5;124m'\u001b[39m \u001b[38;5;241m%\u001b[39m value\n\u001b[1;32m--> 976\u001b[0m \u001b[38;5;28;01mreturn\u001b[39;00m \u001b[38;5;28mself\u001b[39m\u001b[38;5;241m.\u001b[39mexecute(Command\u001b[38;5;241m.\u001b[39mFIND_ELEMENT, {\n\u001b[0;32m    977\u001b[0m     \u001b[38;5;124m'\u001b[39m\u001b[38;5;124musing\u001b[39m\u001b[38;5;124m'\u001b[39m: by,\n\u001b[0;32m    978\u001b[0m     \u001b[38;5;124m'\u001b[39m\u001b[38;5;124mvalue\u001b[39m\u001b[38;5;124m'\u001b[39m: value})[\u001b[38;5;124m'\u001b[39m\u001b[38;5;124mvalue\u001b[39m\u001b[38;5;124m'\u001b[39m]\n",
      "File \u001b[1;32m~\\anaconda3\\Lib\\site-packages\\selenium\\webdriver\\remote\\webdriver.py:321\u001b[0m, in \u001b[0;36mWebDriver.execute\u001b[1;34m(self, driver_command, params)\u001b[0m\n\u001b[0;32m    319\u001b[0m response \u001b[38;5;241m=\u001b[39m \u001b[38;5;28mself\u001b[39m\u001b[38;5;241m.\u001b[39mcommand_executor\u001b[38;5;241m.\u001b[39mexecute(driver_command, params)\n\u001b[0;32m    320\u001b[0m \u001b[38;5;28;01mif\u001b[39;00m response:\n\u001b[1;32m--> 321\u001b[0m     \u001b[38;5;28mself\u001b[39m\u001b[38;5;241m.\u001b[39merror_handler\u001b[38;5;241m.\u001b[39mcheck_response(response)\n\u001b[0;32m    322\u001b[0m     response[\u001b[38;5;124m'\u001b[39m\u001b[38;5;124mvalue\u001b[39m\u001b[38;5;124m'\u001b[39m] \u001b[38;5;241m=\u001b[39m \u001b[38;5;28mself\u001b[39m\u001b[38;5;241m.\u001b[39m_unwrap_value(\n\u001b[0;32m    323\u001b[0m         response\u001b[38;5;241m.\u001b[39mget(\u001b[38;5;124m'\u001b[39m\u001b[38;5;124mvalue\u001b[39m\u001b[38;5;124m'\u001b[39m, \u001b[38;5;28;01mNone\u001b[39;00m))\n\u001b[0;32m    324\u001b[0m     \u001b[38;5;28;01mreturn\u001b[39;00m response\n",
      "File \u001b[1;32m~\\anaconda3\\Lib\\site-packages\\selenium\\webdriver\\remote\\errorhandler.py:242\u001b[0m, in \u001b[0;36mErrorHandler.check_response\u001b[1;34m(self, response)\u001b[0m\n\u001b[0;32m    240\u001b[0m         alert_text \u001b[38;5;241m=\u001b[39m value[\u001b[38;5;124m'\u001b[39m\u001b[38;5;124malert\u001b[39m\u001b[38;5;124m'\u001b[39m]\u001b[38;5;241m.\u001b[39mget(\u001b[38;5;124m'\u001b[39m\u001b[38;5;124mtext\u001b[39m\u001b[38;5;124m'\u001b[39m)\n\u001b[0;32m    241\u001b[0m     \u001b[38;5;28;01mraise\u001b[39;00m exception_class(message, screen, stacktrace, alert_text)\n\u001b[1;32m--> 242\u001b[0m \u001b[38;5;28;01mraise\u001b[39;00m exception_class(message, screen, stacktrace)\n",
      "\u001b[1;31mNoSuchElementException\u001b[0m: Message: no such element: Unable to locate element: {\"method\":\"link text\",\"selector\":\"at-main > div.view-wrap > section > article > div:nth-child(3) > div.view-content > div > a\"}\n  (Session info: chrome=116.0.5845.141)\n"
     ]
    }
   ],
   "source": [
    "link_total_count_name = browser.find_element_by_link_text('at-main > div.view-wrap > section > article > div:nth-child(3) > div.view-content > div > a').click()\n",
    "link_total_count_name"
   ]
  },
  {
   "cell_type": "code",
   "execution_count": null,
   "id": "c71ac8a5-5c13-4a4c-aa4f-2b3cc54d031d",
   "metadata": {
    "tags": []
   },
   "outputs": [],
   "source": [
    "list(range(1, 2)), list(range(1, 4)) # 시작점+1  돌릴 횟수 추가 "
   ]
  },
  {
   "cell_type": "code",
   "execution_count": null,
   "id": "45ca5883-bf63-457e-a651-c9222a9e867f",
   "metadata": {
    "tags": []
   },
   "outputs": [],
   "source": [
    "link_total_count = 13  # 리뷰 총 갯수\n",
    "link_standard_count_per = 13\n",
    "click_count = 0\n",
    "\n",
    "loop_count_int = int(link_total_count / link_standard_count_per)\n",
    "for count in range(1, loop_count_int+1) :\n",
    "    try :\n",
    "        reviews_bundle = browser.find_elements_by_css_selector('div.fysCi > div > div:nth-child(2) > div')\n",
    "        print('current reviews_bundle count : {}'.format(len(reviews_bundle)))\n",
    "        reviews_bundle[len(reviews_bundle)-1].click()\n",
    "        time.sleep(3)\n",
    "    except :\n",
    "        print('pass')\n",
    "        pass\n",
    "print('Done', len(reviews_bundle))"
   ]
  },
  {
   "cell_type": "markdown",
   "id": "0361a54a-96de-4efd-88b6-e206c0533eb1",
   "metadata": {},
   "source": [
    " ### 단수 하나의 element 가져오기 "
   ]
  },
  {
   "cell_type": "code",
   "execution_count": null,
   "id": "f04b3069-00ff-4261-9a46-e7ffa3aeb22a",
   "metadata": {
    "tags": []
   },
   "outputs": [],
   "source": [
    "element_path = '#fboardlist > div.list-board > ul > li:nth-child(1) > div.wr-subject' \n",
    "element = browser.find_element_by_css_selector(element_path) #단수 찾기 \n",
    "type(element) "
   ]
  },
  {
   "cell_type": "code",
   "execution_count": null,
   "id": "70b480e1-c91f-4fb9-840d-22bfa97ae364",
   "metadata": {
    "tags": []
   },
   "outputs": [],
   "source": [
    "element.text"
   ]
  },
  {
   "cell_type": "markdown",
   "id": "6d60515a-b924-4358-a17c-0fe1bd687e00",
   "metadata": {
    "tags": []
   },
   "source": [
    "###  드라마 페이지 정보 \n",
    "- 게시물번호 tag \n",
    "    -  div.wr-num.hidden-xs\n",
    "- 게시물 제목 tag \n",
    "    -  div.wr-subject\n",
    "- 게시물 날짜 tag \n",
    "    - div.wr-date.hidden-xs\n",
    "- 게시물 조회수 \n",
    "    - div.wr-hit.hidden-xs"
   ]
  },
  {
   "cell_type": "code",
   "execution_count": null,
   "id": "35f86236-1ad7-4529-bf1f-41411b7a9cb1",
   "metadata": {
    "tags": []
   },
   "outputs": [],
   "source": [
    "page_number_name = browser.find_element_by_css_selector('div.wr-num.hidden-xs').text\n",
    "page_title_name = browser.find_element_by_css_selector('div.wr-subject').text\n",
    "page_date_name = browser.find_element_by_css_selector('div.wr-date.hidden-xs').text\n",
    "page_views_name = browser.find_element_by_css_selector('div.wr-hit.hidden-xs').text\n",
    "[page_number_name, page_title_name, page_date_name, page_views_name]"
   ]
  },
  {
   "cell_type": "code",
   "execution_count": null,
   "id": "1f028fa4-07c8-4938-bdea-82b37b086b1c",
   "metadata": {},
   "outputs": [],
   "source": []
  }
 ],
 "metadata": {
  "kernelspec": {
   "display_name": "Python 3 (ipykernel)",
   "language": "python",
   "name": "python3"
  },
  "language_info": {
   "codemirror_mode": {
    "name": "ipython",
    "version": 3
   },
   "file_extension": ".py",
   "mimetype": "text/x-python",
   "name": "python",
   "nbconvert_exporter": "python",
   "pygments_lexer": "ipython3",
   "version": "3.11.3"
  }
 },
 "nbformat": 4,
 "nbformat_minor": 5
}
