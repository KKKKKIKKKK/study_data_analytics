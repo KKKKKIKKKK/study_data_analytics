{
 "cells": [
  {
   "cell_type": "markdown",
   "id": "9a86487b-4b84-42b2-a6b6-c71e632c3207",
   "metadata": {
    "tags": []
   },
   "source": [
    "#### 2023-09-19(화)헬스클럽 리뷰 "
   ]
  },
  {
   "cell_type": "code",
   "execution_count": 187,
   "id": "ec4595d9-7e65-40b8-816e-a79d04113d5a",
   "metadata": {
    "tags": []
   },
   "outputs": [],
   "source": [
    "from selenium import webdriver\n",
    "from selenium.webdriver.common.by import By\n",
    "import time\n",
    "import pandas as pd  # pandas 라이브러리를 import합니다.\n",
    "import pymongo as mg\n",
    "import os\n",
    "from selenium.webdriver.support.ui import WebDriverWait\n",
    "from selenium.webdriver.support import expected_conditions as EC"
   ]
  },
  {
   "cell_type": "code",
   "execution_count": 188,
   "id": "95272411-cce4-43b4-92e3-e536d6790db0",
   "metadata": {
    "tags": []
   },
   "outputs": [],
   "source": [
    "browser = webdriver.Chrome(executable_path='../../../../chromedriver.exe')"
   ]
  },
  {
   "cell_type": "code",
   "execution_count": 189,
   "id": "57720f47-32c9-4441-93be-b7175d04d3f9",
   "metadata": {
    "tags": []
   },
   "outputs": [],
   "source": [
    "browser.implicitly_wait(10)\n",
    "url = 'https://play.google.com/store/apps/details?id=com.supplies.gymboxx.userclient&utm_source=mms&utm_medium=mms&utm_campaign=app_renewal'\n",
    "browser.get(url)"
   ]
  },
  {
   "cell_type": "code",
   "execution_count": 190,
   "id": "3a331e0e-babd-4cea-98b1-23fa54eca9ac",
   "metadata": {
    "tags": []
   },
   "outputs": [],
   "source": [
    "browser.implicitly_wait(10)"
   ]
  },
  {
   "cell_type": "code",
   "execution_count": 221,
   "id": "84a01a59-536c-474f-b11c-ccb122967783",
   "metadata": {
    "tags": []
   },
   "outputs": [],
   "source": [
    "click_path = ' div > div.Jwxk6d > div:nth-child(5) > div > div > button > span'\n",
    "browser.find_element_by_css_selector(click_path).click()"
   ]
  },
  {
   "cell_type": "code",
   "execution_count": 198,
   "id": "e3d9b100-9c7b-4b3a-b447-dc18525f04cf",
   "metadata": {
    "tags": []
   },
   "outputs": [
    {
     "name": "stdout",
     "output_type": "stream",
     "text": [
      "김국빈\n",
      "별표 5개 만점에 5개를 받았습니다.\n",
      "짐박스 이용자로서 정말 편하게 잘 사용하고 있습니다. 한 가지 건의사항으로, 다른 지점으로 출석할 시에 지오더 지점도 같이 자동으로 변경되면 어떨까 합니다. 간혹 다른 지점에 출석하고 나서 지오더 지점을 변경하는 걸 깜빡하고 주문하는 경우가 있었는데, 직원분께서 빠르게 주문 수정해주셨지만 지오더 지점도 같이 변경되면 좀 더 편할 것 같아요.\n"
     ]
    },
    {
     "data": {
      "text/plain": [
       "(None, None, None)"
      ]
     },
     "execution_count": 198,
     "metadata": {},
     "output_type": "execute_result"
    }
   ],
   "source": [
    "  # 리뷰 정보 수집\n",
    "service_name = browser.find_element_by_css_selector('div.fysCi > div > div:nth-child(2) > div:nth-child(1) > header > div.YNR7H > div.gSGphe > div').text\n",
    "stars = browser.find_element_by_css_selector('div.fysCi > div > div:nth-child(2) > div:nth-child(1) > header > div.Jx4nYe > div').get_attribute('aria-label')\n",
    "                # 리뷰 텍스트 내용 가져오기\n",
    "review_text = browser.find_element_by_css_selector('div.fysCi > div > div:nth-child(2) > div:nth-child(1) > div.h3YV2d').text\n",
    "print(service_name),print(stars),print(review_text)"
   ]
  },
  {
   "cell_type": "code",
   "execution_count": 218,
   "id": "2feb75ce-856c-483f-8431-95d806a722c5",
   "metadata": {
    "tags": []
   },
   "outputs": [],
   "source": [
    "from selenium.webdriver.common.keys import Keys\n",
    "# page down\n",
    "# browser.find_element_by_css_selector('body').send_keys(Keys.PAGE_DOWN)"
   ]
  },
  {
   "cell_type": "code",
   "execution_count": 227,
   "id": "7b1e2bf6-2926-42cb-87ae-f5fec1dc5514",
   "metadata": {
    "tags": []
   },
   "outputs": [],
   "source": [
    "browser.find_element_by_css_selector('body').send_keys(Keys.PAGE_DOWN)"
   ]
  },
  {
   "cell_type": "code",
   "execution_count": 228,
   "id": "bd5896b0-a3e1-44dc-86b8-0616b8bf3fef",
   "metadata": {
    "tags": []
   },
   "outputs": [
    {
     "ename": "IndentationError",
     "evalue": "unexpected indent (2756145677.py, line 58)",
     "output_type": "error",
     "traceback": [
      "\u001b[1;36m  Cell \u001b[1;32mIn[228], line 58\u001b[1;36m\u001b[0m\n\u001b[1;33m    print(i)\u001b[0m\n\u001b[1;37m    ^\u001b[0m\n\u001b[1;31mIndentationError\u001b[0m\u001b[1;31m:\u001b[0m unexpected indent\n"
     ]
    }
   ],
   "source": [
    "client = mg.MongoClient(host='mongodb://localhost:27017')\n",
    "database = client['project_data_analytics']\n",
    "collection = database['healthclub_reviews']\n",
    "\n",
    "\n",
    "# review_total_count_text = browser.find_element_by_css_selector('div > div > div:nth-child(1) > div.EHUI5b').text\n",
    "\n",
    "\n",
    "# import re # reqexpress function\n",
    "# result_list = re.findall(r'\\d+', review_total_count_text)\n",
    "# # print(result_list[0], int(result_list[0]))\n",
    "\n",
    "# review_total_count = int(result_list[0])  # 리뷰 총 갯수\n",
    "\n",
    "# 전체 리뷰 가져오기\n",
    "serviceapp_columns_name = ['service_name', 'stars', 'reviews']\n",
    "reviews_list = list()\n",
    "# review_flag = True  # 리뷰 가져오기를 원하는 경우 True로 설정하세요.\n",
    "\n",
    "# if review_flag :\n",
    "#     # 팝업 띄우기\n",
    "#     reviews_bundle = browser.find_elements_by_css_selector('div > div.Jwxk6d > div:nth-child(5) > div > div > button > span')\n",
    "#     len(reviews_bundle) \n",
    "    \n",
    "#      # 팝업 속 댓글 전체 표시\n",
    "#     review_standard_count_per = 40\n",
    "#     loop_count_int = int(review_total_count / review_standard_count_per)\n",
    "#     for count in range(1, loop_count_int+1) :\n",
    "#         try :\n",
    "#             reviews_bundle = browser.find_elements_by_css_selector('div > div.Jwxk6d > div:nth-child(5) > div > div > button > span')\n",
    "#             print('current reviews_bundle count : {}'.format(len(reviews_bundle)))\n",
    "#             reviews_bundle[len(reviews_bundle)-1].click()\n",
    "#             time.sleep(3)\n",
    "#         except :\n",
    "#             print('pass')\n",
    "#             pass\n",
    "#     print('Done', len(reviews_bundle))\n",
    "   \n",
    "        # 팝업 댓글 수집\n",
    "\n",
    "for i in range(1,888):\n",
    "    try:\n",
    "        # WebDriverWait를 사용하여 요소를 찾고 대기\n",
    "        WebDriverWait(browser, 10).until(EC.presence_of_element_located((By.CSS_SELECTOR, 'header > div.YNR7H > div.gSGphe > div')))\n",
    "\n",
    "                # 리뷰 정보 수집\n",
    "        service_name = browser.find_element_by_css_selector('div.fysCi > div > div:nth-child(2) > div:nth-child({0}) > header > div.YNR7H > div.gSGphe > div'.format(i)).text\n",
    "        stars = browser.find_element_by_css_selector(' div.fysCi > div > div:nth-child(2) > div:nth-child({0}) > header > div.Jx4nYe > div'.format(i)).get_attribute('aria-label')\n",
    "            # 리뷰 텍스트 내용 가져오기\n",
    "        review_text = browser.find_element_by_css_selector(' div.fysCi > div > div:nth-child(2) > div:nth-child({0}) > div.h3YV2d'.format(i)).text\n",
    "        browser.find_element_by_css_selector('body').send_keys(Keys.PAGE_DOWN)\n",
    "        review_list = [service_name, stars, review_text]\n",
    "        reviews_list.append(review_list)\n",
    "       \n",
    "        df_reviews = pd.DataFrame(data=reviews_list, columns=serviceapp_columns_name)\n",
    "        data_dict = df_reviews.to_dict(orient='records')\n",
    "        collection.insert_many(data_dict)\n",
    "        print(i)\n",
    "            \n",
    "           \n",
    "                \n",
    "            \n",
    "        # print(service_name)\n",
    "        # print(stars)\n",
    "        # print(review_text)\n",
    "        #     # 다음 리뷰로 이동\n",
    "        #     # browser.back()\n",
    "        #     # time.sleep(1)\n",
    "    except Exception as e:\n",
    "        print(f'Error: {e}')\n",
    "        pass\n",
    "\n",
    "        # 팝업 닫기\n",
    "        #browser.back()    \n",
    "\n",
    "    # 저장 위한 작업\n",
    "# df_reviews = pd.DataFrame(data=reviews_list, columns=serviceapp_columns_name)\n",
    "# data_dict = df_reviews.to_dict(orient='records')\n",
    "# collection.insert_many(data_dict)\n",
    "    \n",
    "print('service_name : {}, review count : {}'.format(service_name, len(reviews_list)))\n",
    "browser.back() # 리스트로 돌아가기\n",
    "time.sleep(3)\n",
    "print('Done')"
   ]
  },
  {
   "cell_type": "code",
   "execution_count": null,
   "id": "a807e745-62ed-4c4e-97ac-a699244a91f7",
   "metadata": {},
   "outputs": [],
   "source": []
  },
  {
   "cell_type": "code",
   "execution_count": null,
   "id": "154aa1de-27f2-4fd3-999b-1f77fbb93d1f",
   "metadata": {},
   "outputs": [],
   "source": []
  }
 ],
 "metadata": {
  "kernelspec": {
   "display_name": "Python 3 (ipykernel)",
   "language": "python",
   "name": "python3"
  },
  "language_info": {
   "codemirror_mode": {
    "name": "ipython",
    "version": 3
   },
   "file_extension": ".py",
   "mimetype": "text/x-python",
   "name": "python",
   "nbconvert_exporter": "python",
   "pygments_lexer": "ipython3",
   "version": "3.11.3"
  }
 },
 "nbformat": 4,
 "nbformat_minor": 5
}
