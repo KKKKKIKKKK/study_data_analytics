{
 "cells": [
  {
   "cell_type": "code",
   "execution_count": 1,
   "id": "6fe87061-ff66-4372-b3a0-46cfd64e0e53",
   "metadata": {
    "tags": []
   },
   "outputs": [
    {
     "name": "stdout",
     "output_type": "stream",
     "text": [
      "Requirement already satisfied: wget in c:\\users\\5-20\\anaconda3\\lib\\site-packages (3.2)\n",
      "Note: you may need to restart the kernel to use updated packages.\n"
     ]
    }
   ],
   "source": [
    "%pip install wget   "
   ]
  },
  {
   "cell_type": "code",
   "execution_count": 2,
   "id": "86979641-b9c7-4f96-bf35-82379817a7da",
   "metadata": {
    "tags": []
   },
   "outputs": [],
   "source": [
    "import wget"
   ]
  },
  {
   "cell_type": "code",
   "execution_count": 3,
   "id": "8cf62207-9a7e-473b-9bf0-5603837c5eaf",
   "metadata": {
    "tags": []
   },
   "outputs": [
    {
     "data": {
      "text/plain": [
       "'ratings_train (10).txt'"
      ]
     },
     "execution_count": 3,
     "metadata": {},
     "output_type": "execute_result"
    }
   ],
   "source": [
    "wget.download('https://raw.githubusercontent.com/e9t/nsmc/master/ratings_train.txt')"
   ]
  },
  {
   "cell_type": "code",
   "execution_count": 4,
   "id": "bc0e42de-c048-4f6c-a187-c11fd5157538",
   "metadata": {
    "tags": []
   },
   "outputs": [
    {
     "data": {
      "text/html": [
       "<div>\n",
       "<style scoped>\n",
       "    .dataframe tbody tr th:only-of-type {\n",
       "        vertical-align: middle;\n",
       "    }\n",
       "\n",
       "    .dataframe tbody tr th {\n",
       "        vertical-align: top;\n",
       "    }\n",
       "\n",
       "    .dataframe thead th {\n",
       "        text-align: right;\n",
       "    }\n",
       "</style>\n",
       "<table border=\"1\" class=\"dataframe\">\n",
       "  <thead>\n",
       "    <tr style=\"text-align: right;\">\n",
       "      <th></th>\n",
       "      <th>id</th>\n",
       "      <th>document</th>\n",
       "      <th>label</th>\n",
       "    </tr>\n",
       "  </thead>\n",
       "  <tbody>\n",
       "    <tr>\n",
       "      <th>0</th>\n",
       "      <td>9976970</td>\n",
       "      <td>아 더빙.. 진짜 짜증나네요 목소리</td>\n",
       "      <td>0</td>\n",
       "    </tr>\n",
       "    <tr>\n",
       "      <th>1</th>\n",
       "      <td>3819312</td>\n",
       "      <td>흠...포스터보고 초딩영화줄....오버연기조차 가볍지 않구나</td>\n",
       "      <td>1</td>\n",
       "    </tr>\n",
       "    <tr>\n",
       "      <th>2</th>\n",
       "      <td>10265843</td>\n",
       "      <td>너무재밓었다그래서보는것을추천한다</td>\n",
       "      <td>0</td>\n",
       "    </tr>\n",
       "    <tr>\n",
       "      <th>3</th>\n",
       "      <td>9045019</td>\n",
       "      <td>교도소 이야기구먼 ..솔직히 재미는 없다..평점 조정</td>\n",
       "      <td>0</td>\n",
       "    </tr>\n",
       "    <tr>\n",
       "      <th>4</th>\n",
       "      <td>6483659</td>\n",
       "      <td>사이몬페그의 익살스런 연기가 돋보였던 영화!스파이더맨에서 늙어보이기만 했던 커스틴 ...</td>\n",
       "      <td>1</td>\n",
       "    </tr>\n",
       "  </tbody>\n",
       "</table>\n",
       "</div>"
      ],
      "text/plain": [
       "         id                                           document  label\n",
       "0   9976970                                아 더빙.. 진짜 짜증나네요 목소리      0\n",
       "1   3819312                  흠...포스터보고 초딩영화줄....오버연기조차 가볍지 않구나      1\n",
       "2  10265843                                  너무재밓었다그래서보는것을추천한다      0\n",
       "3   9045019                      교도소 이야기구먼 ..솔직히 재미는 없다..평점 조정      0\n",
       "4   6483659  사이몬페그의 익살스런 연기가 돋보였던 영화!스파이더맨에서 늙어보이기만 했던 커스틴 ...      1"
      ]
     },
     "execution_count": 4,
     "metadata": {},
     "output_type": "execute_result"
    }
   ],
   "source": [
    "import pandas as pd\n",
    "df_naver_movie_comments = pd.read_csv('./ratings_train.txt',sep='\\t')\n",
    "df_naver_movie_comments[:5]"
   ]
  },
  {
   "cell_type": "code",
   "execution_count": 5,
   "id": "264b67f6-64e2-464d-9ac7-a4a9dbac8a75",
   "metadata": {
    "tags": []
   },
   "outputs": [],
   "source": [
    "#학습 후 모델만들고  교육 끝난 후 측정하기. (movie)\n",
    "#daum 영화 댓글. "
   ]
  },
  {
   "cell_type": "code",
   "execution_count": 6,
   "id": "87b6b0f3-c7b6-488e-8689-9b26da85f45e",
   "metadata": {
    "tags": []
   },
   "outputs": [
    {
     "data": {
      "text/plain": [
       "0    75173\n",
       "1    74827\n",
       "Name: label, dtype: int64"
      ]
     },
     "execution_count": 6,
     "metadata": {},
     "output_type": "execute_result"
    }
   ],
   "source": [
    "df_naver_movie_comments['label'].value_counts()"
   ]
  },
  {
   "cell_type": "code",
   "execution_count": 7,
   "id": "2f491b48-f325-48b2-a586-cb98ca2cd62b",
   "metadata": {
    "tags": []
   },
   "outputs": [
    {
     "data": {
      "text/html": [
       "<div>\n",
       "<style scoped>\n",
       "    .dataframe tbody tr th:only-of-type {\n",
       "        vertical-align: middle;\n",
       "    }\n",
       "\n",
       "    .dataframe tbody tr th {\n",
       "        vertical-align: top;\n",
       "    }\n",
       "\n",
       "    .dataframe thead th {\n",
       "        text-align: right;\n",
       "    }\n",
       "</style>\n",
       "<table border=\"1\" class=\"dataframe\">\n",
       "  <thead>\n",
       "    <tr style=\"text-align: right;\">\n",
       "      <th></th>\n",
       "      <th>id</th>\n",
       "      <th>document</th>\n",
       "      <th>label</th>\n",
       "    </tr>\n",
       "  </thead>\n",
       "  <tbody>\n",
       "    <tr>\n",
       "      <th>0</th>\n",
       "      <td>9976970</td>\n",
       "      <td>아 더빙.. 진짜 짜증나네요 목소리</td>\n",
       "      <td>0</td>\n",
       "    </tr>\n",
       "    <tr>\n",
       "      <th>2</th>\n",
       "      <td>10265843</td>\n",
       "      <td>너무재밓었다그래서보는것을추천한다</td>\n",
       "      <td>0</td>\n",
       "    </tr>\n",
       "    <tr>\n",
       "      <th>3</th>\n",
       "      <td>9045019</td>\n",
       "      <td>교도소 이야기구먼 ..솔직히 재미는 없다..평점 조정</td>\n",
       "      <td>0</td>\n",
       "    </tr>\n",
       "    <tr>\n",
       "      <th>5</th>\n",
       "      <td>5403919</td>\n",
       "      <td>막 걸음마 뗀 3세부터 초등학교 1학년생인 8살용영화.ㅋㅋㅋ...별반개도 아까움.</td>\n",
       "      <td>0</td>\n",
       "    </tr>\n",
       "    <tr>\n",
       "      <th>6</th>\n",
       "      <td>7797314</td>\n",
       "      <td>원작의 긴장감을 제대로 살려내지못했다.</td>\n",
       "      <td>0</td>\n",
       "    </tr>\n",
       "    <tr>\n",
       "      <th>...</th>\n",
       "      <td>...</td>\n",
       "      <td>...</td>\n",
       "      <td>...</td>\n",
       "    </tr>\n",
       "    <tr>\n",
       "      <th>149990</th>\n",
       "      <td>6373651</td>\n",
       "      <td>이걸 영화라고 찎었냐?</td>\n",
       "      <td>0</td>\n",
       "    </tr>\n",
       "    <tr>\n",
       "      <th>149992</th>\n",
       "      <td>9335962</td>\n",
       "      <td>공포나 재난영화가 아니라 아예 대놓고 비급 크리쳐개그물임ㅋㅋ 음악 완전 흥겹다ㅋ 5...</td>\n",
       "      <td>0</td>\n",
       "    </tr>\n",
       "    <tr>\n",
       "      <th>149995</th>\n",
       "      <td>6222902</td>\n",
       "      <td>인간이 문제지.. 소는 뭔죄인가..</td>\n",
       "      <td>0</td>\n",
       "    </tr>\n",
       "    <tr>\n",
       "      <th>149997</th>\n",
       "      <td>9311800</td>\n",
       "      <td>이게 뭐요? 한국인은 거들먹거리고 필리핀 혼혈은 착하다?</td>\n",
       "      <td>0</td>\n",
       "    </tr>\n",
       "    <tr>\n",
       "      <th>149999</th>\n",
       "      <td>9619869</td>\n",
       "      <td>한국 영화 최초로 수간하는 내용이 담긴 영화</td>\n",
       "      <td>0</td>\n",
       "    </tr>\n",
       "  </tbody>\n",
       "</table>\n",
       "<p>75173 rows × 3 columns</p>\n",
       "</div>"
      ],
      "text/plain": [
       "              id                                           document  label\n",
       "0        9976970                                아 더빙.. 진짜 짜증나네요 목소리      0\n",
       "2       10265843                                  너무재밓었다그래서보는것을추천한다      0\n",
       "3        9045019                      교도소 이야기구먼 ..솔직히 재미는 없다..평점 조정      0\n",
       "5        5403919      막 걸음마 뗀 3세부터 초등학교 1학년생인 8살용영화.ㅋㅋㅋ...별반개도 아까움.      0\n",
       "6        7797314                              원작의 긴장감을 제대로 살려내지못했다.      0\n",
       "...          ...                                                ...    ...\n",
       "149990   6373651                                       이걸 영화라고 찎었냐?      0\n",
       "149992   9335962  공포나 재난영화가 아니라 아예 대놓고 비급 크리쳐개그물임ㅋㅋ 음악 완전 흥겹다ㅋ 5...      0\n",
       "149995   6222902                                인간이 문제지.. 소는 뭔죄인가..      0\n",
       "149997   9311800                    이게 뭐요? 한국인은 거들먹거리고 필리핀 혼혈은 착하다?      0\n",
       "149999   9619869                           한국 영화 최초로 수간하는 내용이 담긴 영화      0\n",
       "\n",
       "[75173 rows x 3 columns]"
      ]
     },
     "execution_count": 7,
     "metadata": {},
     "output_type": "execute_result"
    }
   ],
   "source": [
    "df_naver_positive = df_naver_movie_comments.loc[df_naver_movie_comments['label'] == 0]\n",
    "df_naver_positive"
   ]
  },
  {
   "cell_type": "code",
   "execution_count": 8,
   "id": "a4b71d10-b9c4-4848-b141-249c1effc7bd",
   "metadata": {
    "tags": []
   },
   "outputs": [
    {
     "data": {
      "text/html": [
       "<div>\n",
       "<style scoped>\n",
       "    .dataframe tbody tr th:only-of-type {\n",
       "        vertical-align: middle;\n",
       "    }\n",
       "\n",
       "    .dataframe tbody tr th {\n",
       "        vertical-align: top;\n",
       "    }\n",
       "\n",
       "    .dataframe thead th {\n",
       "        text-align: right;\n",
       "    }\n",
       "</style>\n",
       "<table border=\"1\" class=\"dataframe\">\n",
       "  <thead>\n",
       "    <tr style=\"text-align: right;\">\n",
       "      <th></th>\n",
       "      <th>id</th>\n",
       "      <th>document</th>\n",
       "      <th>label</th>\n",
       "    </tr>\n",
       "  </thead>\n",
       "  <tbody>\n",
       "    <tr>\n",
       "      <th>1</th>\n",
       "      <td>3819312</td>\n",
       "      <td>흠...포스터보고 초딩영화줄....오버연기조차 가볍지 않구나</td>\n",
       "      <td>1</td>\n",
       "    </tr>\n",
       "    <tr>\n",
       "      <th>4</th>\n",
       "      <td>6483659</td>\n",
       "      <td>사이몬페그의 익살스런 연기가 돋보였던 영화!스파이더맨에서 늙어보이기만 했던 커스틴 ...</td>\n",
       "      <td>1</td>\n",
       "    </tr>\n",
       "    <tr>\n",
       "      <th>8</th>\n",
       "      <td>7156791</td>\n",
       "      <td>액션이 없는데도 재미 있는 몇안되는 영화</td>\n",
       "      <td>1</td>\n",
       "    </tr>\n",
       "    <tr>\n",
       "      <th>9</th>\n",
       "      <td>5912145</td>\n",
       "      <td>왜케 평점이 낮은건데? 꽤 볼만한데.. 헐리우드식 화려함에만 너무 길들여져 있나?</td>\n",
       "      <td>1</td>\n",
       "    </tr>\n",
       "    <tr>\n",
       "      <th>10</th>\n",
       "      <td>9008700</td>\n",
       "      <td>걍인피니트가짱이다.진짜짱이다♥</td>\n",
       "      <td>1</td>\n",
       "    </tr>\n",
       "    <tr>\n",
       "      <th>...</th>\n",
       "      <td>...</td>\n",
       "      <td>...</td>\n",
       "      <td>...</td>\n",
       "    </tr>\n",
       "    <tr>\n",
       "      <th>149991</th>\n",
       "      <td>9492905</td>\n",
       "      <td>http://blog.naver.com/oroblast/220215679580 나쁜...</td>\n",
       "      <td>1</td>\n",
       "    </tr>\n",
       "    <tr>\n",
       "      <th>149993</th>\n",
       "      <td>10020916</td>\n",
       "      <td>For Carl.칼 세이건으로 시작해서 칼 세이건으로 끝난다.</td>\n",
       "      <td>1</td>\n",
       "    </tr>\n",
       "    <tr>\n",
       "      <th>149994</th>\n",
       "      <td>9458520</td>\n",
       "      <td>디케이드 다음에 더블 다음에 오즈인데 더블은 조금밖에 안나오네요.</td>\n",
       "      <td>1</td>\n",
       "    </tr>\n",
       "    <tr>\n",
       "      <th>149996</th>\n",
       "      <td>8549745</td>\n",
       "      <td>평점이 너무 낮아서...</td>\n",
       "      <td>1</td>\n",
       "    </tr>\n",
       "    <tr>\n",
       "      <th>149998</th>\n",
       "      <td>2376369</td>\n",
       "      <td>청춘 영화의 최고봉.방황과 우울했던 날들의 자화상</td>\n",
       "      <td>1</td>\n",
       "    </tr>\n",
       "  </tbody>\n",
       "</table>\n",
       "<p>74827 rows × 3 columns</p>\n",
       "</div>"
      ],
      "text/plain": [
       "              id                                           document  label\n",
       "1        3819312                  흠...포스터보고 초딩영화줄....오버연기조차 가볍지 않구나      1\n",
       "4        6483659  사이몬페그의 익살스런 연기가 돋보였던 영화!스파이더맨에서 늙어보이기만 했던 커스틴 ...      1\n",
       "8        7156791                             액션이 없는데도 재미 있는 몇안되는 영화      1\n",
       "9        5912145      왜케 평점이 낮은건데? 꽤 볼만한데.. 헐리우드식 화려함에만 너무 길들여져 있나?      1\n",
       "10       9008700                                   걍인피니트가짱이다.진짜짱이다♥      1\n",
       "...          ...                                                ...    ...\n",
       "149991   9492905  http://blog.naver.com/oroblast/220215679580 나쁜...      1\n",
       "149993  10020916                 For Carl.칼 세이건으로 시작해서 칼 세이건으로 끝난다.      1\n",
       "149994   9458520               디케이드 다음에 더블 다음에 오즈인데 더블은 조금밖에 안나오네요.      1\n",
       "149996   8549745                                      평점이 너무 낮아서...      1\n",
       "149998   2376369                        청춘 영화의 최고봉.방황과 우울했던 날들의 자화상      1\n",
       "\n",
       "[74827 rows x 3 columns]"
      ]
     },
     "execution_count": 8,
     "metadata": {},
     "output_type": "execute_result"
    }
   ],
   "source": [
    "df_naver_negative= df_naver_movie_comments.loc[df_naver_movie_comments['label'] == 1]\n",
    "df_naver_negative"
   ]
  },
  {
   "cell_type": "code",
   "execution_count": 9,
   "id": "f19e9869-2a14-4b75-8480-b3e93a5ceb86",
   "metadata": {
    "tags": []
   },
   "outputs": [
    {
     "data": {
      "text/plain": [
       "['아 더빙.. 진짜 짜증나네요 목소리',\n",
       " '너무재밓었다그래서보는것을추천한다',\n",
       " '교도소 이야기구먼 ..솔직히 재미는 없다..평점 조정',\n",
       " '막 걸음마 뗀 3세부터 초등학교 1학년생인 8살용영화.ㅋㅋㅋ...별반개도 아까움.',\n",
       " '원작의 긴장감을 제대로 살려내지못했다.',\n",
       " '별 반개도 아깝다 욕나온다 이응경 길용우 연기생활이몇년인지..정말 발로해도 그것보단 낫겟다 납치.감금만반복반복..이드라마는 가족도없다 연기못하는사람만모엿네',\n",
       " '울면서 손들고 횡단보도 건널때 뛰쳐나올뻔 이범수 연기 드럽게못해',\n",
       " '취향은 존중한다지만 진짜 내생에 극장에서 본 영화중 가장 노잼 노감동임 스토리도 어거지고 감동도 어거지',\n",
       " '굿바이 레닌 표절인것은 이해하는데 왜 뒤로 갈수록 재미없어지냐',\n",
       " '재미없다 지루하고. 같은 음식 영화인데도 바베트의 만찬하고 넘 차이남....바베트의 만찬은 이야기도 있고 음식 보는재미도 있는데 ; 이건 볼게없다 음식도 별로 안나오고, 핀란드 풍경이라도 구경할랫는데 그것도 별로 안나옴 ㅡㅡ',\n",
       " '주제는 좋은데 중반부터 지루하다',\n",
       " '다 짤랐을꺼야. 그래서 납득할 수 없었던거야.. 그럴꺼야.. 꼭 그랬던걸꺼야..',\n",
       " '카밀라벨 발연기',\n",
       " '졸쓰레기 진부하고말도안됌ㅋㅋ 아..시간아까워',\n",
       " '1%라도 기대했던 내가 죄인입니다 죄인입니다....',\n",
       " '키이라 나이틀리가 연기하고자 했던건 대체 정신장애일까 틱장애일까',\n",
       " '포스터는 있어보이는데 관객은 114명이네',\n",
       " \"'다 알바생인가 내용도 없고 무서운거도 없고 웃긴거도 하나도 없음 완전 별싱거운 영화.ㅇ.ㅇ내ㅇ시간 넘 아까움 .. . 완전 낚임\",\n",
       " '평점에속지마시길시간낭비 돈낭비임',\n",
       " '리얼리티가 뛰어나긴 한데 큰 공감은 안간다. 이민기캐릭터는 정신의학상 분노조절장애 초기 증상일거다. 툭하면 사람패고 욕하고 물건 파손하고.. 조금 오바였음. 극 초반엔 신선했는데 가면 갈수록 이민기 정신상태 공감불가.',\n",
       " '마이너스는 왜없냐 ㅋ 뮤비 보고 영화수준 딱 알만하더군 ㅉㅉ 북한에서 이런거 만들라고 돈 대주던?',\n",
       " '난 우리영화를 사랑합니다....^^;',\n",
       " '야 세르게이! 작은고추의 매운맛을 보여주마! 포퐁저그 콩진호가 간다',\n",
       " '난또 저 꼬마애가 무슨 원한이 깊길래.,. 했더니 OO 그냥 혼자 나대다 OO걸 어쩌라고.',\n",
       " '최고',\n",
       " '심심한영화.',\n",
       " '보는내내 그대로 들어맞는 예측 카리스마 없는 악역',\n",
       " '불알이 나와서 당황...아무튼 영화가 중간에 끝나는 느낌',\n",
       " '평범함속에 녹아든 평범한 일상. 조금 밋밋한게 흠.',\n",
       " '보던거라 계속보고있는데 전개도 느리고 주인공인 은희는 한두컷 나오면서 소극적인모습에 짜증이 ㅜㅜ 맨날 언제끝나나 기대만하고있어요 전개좀 빨리빨리 ㅜㅜ',\n",
       " '예전 작품 캐릭터, 에피소드 재탕 삼탕 사골우려먹듯 우리고 내용은 산으로 가고 시청률은 아예안나오고 이제 70회중반인데 120부작이라니 ...',\n",
       " '김남길의 백점짜리 연기력과 초반 몰입도에도 불구하고 지루하고 손예진 ㅈㅈ',\n",
       " '노래실력으로뽑는게 맞냐? 박시환이 mama나가면 진짜 망신이다',\n",
       " '아 일본영화 다이런건가?? 유치하다',\n",
       " '졸작',\n",
       " '어설픈 전개 어이없는 결말',\n",
       " '부패한 로마노프 왕조를 기리는 뭣같은 영화... 온몸으로 항거했던 러시아 민중들이 그저 폭도냐',\n",
       " '매우 실망.....',\n",
       " '한국영화 흥행코드: 갈등-갈등-계~에속 갈등-화해-감동- 평점 10점 남발- 흥행 뻔하지 뭐...',\n",
       " '뭐냐..시작하고 3분만에 나왔다. 리플릿 사진 보며 불안하더니만..',\n",
       " '감독이 럼먹고 영화를 만들었나보다.. 관객에게 뭘 말하는지도 모르겠고, 엉망진창 개진창이다.',\n",
       " '이건 뭐냐? 우뢰매냐? ;;;',\n",
       " '정말쓰레기영화입니다',\n",
       " '별루 였다..',\n",
       " '성룡영화중 최악인듯 ㅋㅋ',\n",
       " '클라라볼라고화신본거아닌데',\n",
       " '재미없음 진심 1이훨나 캐스팅두못한듯',\n",
       " '감독님들 고은님 쓰면 영화안봅니다 .',\n",
       " '무섭지도 않았고 스토리도 ..ㅡㅡ',\n",
       " '영화속 억지스럽고 노골적인 술광고를 좀 은은하고 센스있게 했으면 어땠을까?']"
      ]
     },
     "execution_count": 9,
     "metadata": {},
     "output_type": "execute_result"
    }
   ],
   "source": [
    "document_list_positive = df_naver_positive['document'].tolist()[:50]\n",
    "document_list_positive"
   ]
  },
  {
   "cell_type": "code",
   "execution_count": 10,
   "id": "f3255490-614f-44f3-9f32-51687287c207",
   "metadata": {
    "tags": []
   },
   "outputs": [
    {
     "data": {
      "text/plain": [
       "['흠...포스터보고 초딩영화줄....오버연기조차 가볍지 않구나',\n",
       " '사이몬페그의 익살스런 연기가 돋보였던 영화!스파이더맨에서 늙어보이기만 했던 커스틴 던스트가 너무나도 이뻐보였다',\n",
       " '액션이 없는데도 재미 있는 몇안되는 영화',\n",
       " '왜케 평점이 낮은건데? 꽤 볼만한데.. 헐리우드식 화려함에만 너무 길들여져 있나?',\n",
       " '걍인피니트가짱이다.진짜짱이다♥',\n",
       " '볼때마다 눈물나서 죽겠다90년대의 향수자극!!허진호는 감성절제멜로의 달인이다~',\n",
       " '담백하고 깔끔해서 좋다. 신문기사로만 보다 보면 자꾸 잊어버린다. 그들도 사람이었다는 것을.',\n",
       " 'ㄱ냥 매번 긴장되고 재밋음ㅠㅠ',\n",
       " '참 사람들 웃긴게 바스코가 이기면 락스코라고 까고바비가 이기면 아이돌이라고 깐다.그냥 까고싶어서 안달난것처럼 보인다',\n",
       " '이건 정말 깨알 캐스팅과 질퍽하지않은 산뜻한 내용구성이 잘 버무러진 깨알일드!!♥',\n",
       " '약탈자를 위한 변명, 이라. 저놈들은 착한놈들 절대 아닌걸요.',\n",
       " '나름 심오한 뜻도 있는 듯. 그냥 학생이 선생과 놀아나는 영화는 절대 아님',\n",
       " '보면서 웃지 않는 건 불가능하다',\n",
       " '절대 평범한 영화가 아닌 수작이라는걸 말씀드립니다.',\n",
       " 'kl2g 고추를 털어버려야 할텐데',\n",
       " '재밋는뎅',\n",
       " '센스있는 연출력..탁월한 캐스팅..90년대의 향수.. 그래서 9점..',\n",
       " '엄포스의 위력을 다시 한번 깨닫게 해준 적.남 꽃검사님도 연기 정말 좋았어요! 완전 명품드라마!',\n",
       " '재밌는데 별점이 왜이리 낮은고',\n",
       " '아직도 이 드라마는 내인생의 최고!']"
      ]
     },
     "execution_count": 10,
     "metadata": {},
     "output_type": "execute_result"
    }
   ],
   "source": [
    "document_list_negative = df_naver_negative['document'].tolist()[:20]\n",
    "document_list_negative"
   ]
  },
  {
   "cell_type": "code",
   "execution_count": 11,
   "id": "31ade529-c9bb-4692-892e-d844884f7c73",
   "metadata": {
    "tags": []
   },
   "outputs": [],
   "source": [
    "Alldocument_list = document_list_positive + document_list_negative"
   ]
  },
  {
   "cell_type": "code",
   "execution_count": 19,
   "id": "55a47f63-0284-4e57-a484-c97f5bddca46",
   "metadata": {
    "tags": []
   },
   "outputs": [
    {
     "name": "stdout",
     "output_type": "stream",
     "text": [
      "^C\n",
      "Note: you may need to restart the kernel to use updated packages.\n"
     ]
    }
   ],
   "source": [
    "%pip uninstall mecab-python3"
   ]
  },
  {
   "cell_type": "code",
   "execution_count": 20,
   "id": "bec5219e-da1f-44bc-8380-9f43da693ee2",
   "metadata": {
    "tags": []
   },
   "outputs": [
    {
     "name": "stdout",
     "output_type": "stream",
     "text": [
      "^C\n",
      "Note: you may need to restart the kernel to use updated packages.\n"
     ]
    }
   ],
   "source": [
    "%pip uninstall python-mecab-ko"
   ]
  },
  {
   "cell_type": "code",
   "execution_count": 15,
   "id": "ebeff060-bc9f-4d8d-b3c4-05ad5949db6b",
   "metadata": {
    "tags": []
   },
   "outputs": [
    {
     "ename": "ImportError",
     "evalue": "cannot import name 'MeCab' from 'mecab' (C:\\Users\\5-20\\anaconda3\\Lib\\site-packages\\mecab\\__init__.py)",
     "output_type": "error",
     "traceback": [
      "\u001b[1;31m---------------------------------------------------------------------------\u001b[0m",
      "\u001b[1;31mImportError\u001b[0m                               Traceback (most recent call last)",
      "Cell \u001b[1;32mIn[15], line 1\u001b[0m\n\u001b[1;32m----> 1\u001b[0m \u001b[38;5;28;01mfrom\u001b[39;00m \u001b[38;5;21;01mmecab\u001b[39;00m \u001b[38;5;28;01mimport\u001b[39;00m MeCab\n\u001b[0;32m      2\u001b[0m mecab \u001b[38;5;241m=\u001b[39m MeCab()\n",
      "\u001b[1;31mImportError\u001b[0m: cannot import name 'MeCab' from 'mecab' (C:\\Users\\5-20\\anaconda3\\Lib\\site-packages\\mecab\\__init__.py)"
     ]
    }
   ],
   "source": [
    "from mecab import MeCab\n",
    "mecab = MeCab()"
   ]
  },
  {
   "cell_type": "code",
   "execution_count": 16,
   "id": "7a095453-54e1-4906-a5d3-d8e5e2d4c7f4",
   "metadata": {
    "tags": []
   },
   "outputs": [
    {
     "ename": "ImportError",
     "evalue": "cannot import name 'MeCab' from 'mecab' (C:\\Users\\5-20\\anaconda3\\Lib\\site-packages\\mecab\\__init__.py)",
     "output_type": "error",
     "traceback": [
      "\u001b[1;31m---------------------------------------------------------------------------\u001b[0m",
      "\u001b[1;31mImportError\u001b[0m                               Traceback (most recent call last)",
      "Cell \u001b[1;32mIn[16], line 1\u001b[0m\n\u001b[1;32m----> 1\u001b[0m \u001b[38;5;28;01mfrom\u001b[39;00m \u001b[38;5;21;01mmecab\u001b[39;00m \u001b[38;5;28;01mimport\u001b[39;00m MeCab \u001b[38;5;66;03m#패키지 mecab \u001b[39;00m\n\u001b[0;32m      2\u001b[0m mecab \u001b[38;5;241m=\u001b[39m MeCab()         \u001b[38;5;66;03m#밑은 인스턴스화 mecab 두개 다름 \u001b[39;00m\n\u001b[0;32m      4\u001b[0m tokenized_comments \u001b[38;5;241m=\u001b[39m \u001b[38;5;28mlist\u001b[39m() \u001b[38;5;66;03m# 밑에 내용 담을 comments 만들기 \u001b[39;00m\n",
      "\u001b[1;31mImportError\u001b[0m: cannot import name 'MeCab' from 'mecab' (C:\\Users\\5-20\\anaconda3\\Lib\\site-packages\\mecab\\__init__.py)"
     ]
    }
   ],
   "source": [
    "from mecab import MeCab #패키지 mecab \n",
    "mecab = MeCab()         #밑은 인스턴스화 mecab 두개 다름 \n",
    "\n",
    "tokenized_comments = list() # 밑에 내용 담을 comments 만들기 \n",
    "for comment in Alldocument_list:\n",
    "    comment_morphs = mecab.morphs(comment)\n",
    "    #print(' '.join(comment_morphs)) # prin 문장으로 출력 \n",
    "    #comments.append(' '.join(comment_morphs)) # 텍스트를 append로 만들기 \n",
    "    tokenized_comments.append(comment_morphs)\n",
    "tokenized_comments\n",
    "#comments\n",
    "# 추후 ('히' '고') 불용어 다 빼야함.  "
   ]
  },
  {
   "cell_type": "code",
   "execution_count": null,
   "id": "b50429ea-2732-4d71-aced-fd73f9f20340",
   "metadata": {},
   "outputs": [],
   "source": []
  }
 ],
 "metadata": {
  "kernelspec": {
   "display_name": "Python 3 (ipykernel)",
   "language": "python",
   "name": "python3"
  },
  "language_info": {
   "codemirror_mode": {
    "name": "ipython",
    "version": 3
   },
   "file_extension": ".py",
   "mimetype": "text/x-python",
   "name": "python",
   "nbconvert_exporter": "python",
   "pygments_lexer": "ipython3",
   "version": "3.11.3"
  }
 },
 "nbformat": 4,
 "nbformat_minor": 5
}
