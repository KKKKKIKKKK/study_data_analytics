{
 "cells": [
  {
   "cell_type": "code",
   "execution_count": 1,
   "id": "eebf32c4-6626-4a5b-908d-aaecdea6dc19",
   "metadata": {
    "tags": []
   },
   "outputs": [],
   "source": [
    "from selenium import webdriver"
   ]
  },
  {
   "cell_type": "code",
   "execution_count": null,
   "id": "aab6e13f-d864-4838-ae6a-37bb2e31dc57",
   "metadata": {
    "tags": []
   },
   "outputs": [],
   "source": [
    "# open Chrome browser.executable_path = 브라우저 여는 법 \n",
    "browser = webdriver.Chrome(executable_path='../../../../chromedriver.exe')"
   ]
  },
  {
   "cell_type": "markdown",
   "id": "77e0f7fd-306b-44e2-b92b-c331404bf4f5",
   "metadata": {},
   "source": [
    "### 도서목록 홈페이지 open "
   ]
  },
  {
   "cell_type": "code",
   "execution_count": 5,
   "id": "f0fffe5e-aae7-4a78-972f-a5637e57bf18",
   "metadata": {
    "tags": []
   },
   "outputs": [],
   "source": [
    "#'https://www.w3schools.com/' 윈도우 창에 특정 주소 연결 \n",
    "# url in address window\n",
    "# enter 치면 새창 생성./#html css가 local로 가져옴 \n",
    "browser.get('https://brunch.co.kr/keyword/%EC%B1%85%EB%A6%AC%EB%B7%B0')"
   ]
  },
  {
   "cell_type": "markdown",
   "id": "702ee93a-9ae3-4325-808e-b5b60c7aa79a",
   "metadata": {
    "tags": []
   },
   "source": [
    "### 단수 하나의 element 가져오기 "
   ]
  },
  {
   "cell_type": "code",
   "execution_count": 7,
   "id": "4775a5cc-0d40-466c-8d92-190f82249a5a",
   "metadata": {
    "tags": []
   },
   "outputs": [
    {
     "data": {
      "text/plain": [
       "selenium.webdriver.remote.webelement.WebElement"
      ]
     },
     "execution_count": 7,
     "metadata": {},
     "output_type": "execute_result"
    }
   ],
   "source": [
    "#찾는법은 여러개. (find_element_by_css_selector) 단수 사용 \n",
    "#41d0ed29f1878819 이건 바뀔 수 있음  \n",
    "element_path = '#wrapArticle > div.wrap_article_list.\\#keyword_related_contents > ul > li:nth-child(1) > a > div.post_title.has_image > strong' \n",
    "element = browser.find_element_by_css_selector(element_path) #단수 찾기 \n",
    "type(element) "
   ]
  },
  {
   "cell_type": "code",
   "execution_count": 8,
   "id": "eddbe382-6247-433e-94aa-209889d26e0b",
   "metadata": {
    "tags": []
   },
   "outputs": [
    {
     "data": {
      "text/plain": [
       "\"'국사'만으로는 부족하다. '동북아사'여야 한다\""
      ]
     },
     "execution_count": 8,
     "metadata": {},
     "output_type": "execute_result"
    }
   ],
   "source": [
    "element.text"
   ]
  },
  {
   "cell_type": "markdown",
   "id": "278dad04-12d7-480b-9783-7fbe0482f520",
   "metadata": {},
   "source": [
    "### 여러개 element 가져오기 "
   ]
  },
  {
   "cell_type": "code",
   "execution_count": 9,
   "id": "890578e9-3f73-4cf1-bb52-c549423abbb5",
   "metadata": {
    "tags": []
   },
   "outputs": [
    {
     "data": {
      "text/plain": [
       "(list, selenium.webdriver.remote.webelement.WebElement)"
      ]
     },
     "execution_count": 9,
     "metadata": {},
     "output_type": "execute_result"
    }
   ],
   "source": [
    "#여러개라 list로 찍음\n",
    "elements_path = '.tit_subject'\n",
    "elements = browser.find_elements_by_css_selector(elements_path)\n",
    "type(elements), type(elements[0])"
   ]
  },
  {
   "cell_type": "code",
   "execution_count": 11,
   "id": "1fb5f316-3745-4da9-bec6-0d5f8efdb454",
   "metadata": {
    "tags": []
   },
   "outputs": [],
   "source": [
    "#화면에서 제목만 가져옴. \n",
    "text_list = []\n",
    "for webelement in elements:\n",
    "    text_list.append(webelement.text)"
   ]
  },
  {
   "cell_type": "code",
   "execution_count": 12,
   "id": "87efe6ea-eec1-4262-85fd-86acb049a7d1",
   "metadata": {
    "tags": []
   },
   "outputs": [
    {
     "name": "stdout",
     "output_type": "stream",
     "text": [
      "[\"'국사'만으로는 부족하다. '동북아사'여야 한다\", '젊어서 위태로운 예술가를 향한 등대', '그래서 내가 불안했던 거야', '완벽한 아이 팔아요', '일상의 모험 - 서동욱', 'Egon Schiele : the complete wo', '노동자의 시간은 저절로 흐르지 않는다', '방랑기 / 하야시 후미코 / 1930', '나카오카 겐메이에게 배우는 일', '퇴사하고 잘 놀고 잘 살고 싶다', '쾌락 과잉 시대에서 균형 찾기', '평온할 줄만 알았던 그녀의 모험', '그래도 사랑했고 그래서 버텼던 시절', '물건을 버리며 얻은 변화와 행복', '당신을 위해서라면 죽어도 좋아요', \"선량하지 않은 '선량한 사람'\", '포장도 변명도 과장도 없는 일상의 장면들', '<사라진 개발자들>을 읽고', '당장 오늘 하루를 잘 보내는 방법', '가시가 허용되지 않는 고슴도치 이야기']\n"
     ]
    }
   ],
   "source": [
    "print(text_list)"
   ]
  },
  {
   "cell_type": "code",
   "execution_count": 21,
   "id": "ee8203e7-84e2-46fb-ab58-18909a9631b1",
   "metadata": {
    "tags": []
   },
   "outputs": [],
   "source": [
    "import pandas as pd "
   ]
  },
  {
   "cell_type": "code",
   "execution_count": 22,
   "id": "c8bb61a7-dcda-4cf8-8f1d-5e9266b84a46",
   "metadata": {
    "tags": []
   },
   "outputs": [],
   "source": [
    "df_text= pd.DataFrame(text_list)"
   ]
  },
  {
   "cell_type": "code",
   "execution_count": 25,
   "id": "d3db3473-4d15-4c15-bacc-b284ec9922b0",
   "metadata": {
    "tags": []
   },
   "outputs": [],
   "source": [
    "df_text.to_csv('../../../datasets/text_list.csv', index=False)  # index=False로 설정하면 인덱스 열을 제외하고 저장합니다."
   ]
  },
  {
   "cell_type": "code",
   "execution_count": 24,
   "id": "350ebd3a-2fb9-4c8b-ba23-c258130f6ca9",
   "metadata": {
    "tags": []
   },
   "outputs": [],
   "source": [
    "# chrome browser close\n",
    "browser.quit()"
   ]
  },
  {
   "cell_type": "code",
   "execution_count": null,
   "id": "525e6ebb-f587-4b9a-a615-6b7681ca61d6",
   "metadata": {},
   "outputs": [],
   "source": []
  }
 ],
 "metadata": {
  "kernelspec": {
   "display_name": "Python 3 (ipykernel)",
   "language": "python",
   "name": "python3"
  },
  "language_info": {
   "codemirror_mode": {
    "name": "ipython",
    "version": 3
   },
   "file_extension": ".py",
   "mimetype": "text/x-python",
   "name": "python",
   "nbconvert_exporter": "python",
   "pygments_lexer": "ipython3",
   "version": "3.11.3"
  }
 },
 "nbformat": 4,
 "nbformat_minor": 5
}
